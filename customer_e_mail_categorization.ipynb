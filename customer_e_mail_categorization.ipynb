{
  "nbformat": 4,
  "nbformat_minor": 0,
  "metadata": {
    "colab": {
      "name": "customer_e-mail_categorization.ipynb",
      "provenance": [],
      "collapsed_sections": [],
      "authorship_tag": "ABX9TyO1TNVi8B4XC21jUXuWN3pd",
      "include_colab_link": true
    },
    "kernelspec": {
      "display_name": "Python 3",
      "name": "python3"
    },
    "language_info": {
      "name": "python"
    }
  },
  "cells": [
    {
      "cell_type": "markdown",
      "metadata": {
        "id": "view-in-github",
        "colab_type": "text"
      },
      "source": [
        "<a href=\"https://colab.research.google.com/github/KelvinLam05/customer_e-mail_categorization/blob/main/customer_e_mail_categorization.ipynb\" target=\"_parent\"><img src=\"https://colab.research.google.com/assets/colab-badge.svg\" alt=\"Open In Colab\"/></a>"
      ]
    },
    {
      "cell_type": "markdown",
      "source": [
        "**Zero-Shot Text Classification**"
      ],
      "metadata": {
        "id": "2FDztGH8B-Os"
      }
    },
    {
      "cell_type": "markdown",
      "metadata": {
        "id": "Lxy-b07hIKG1"
      },
      "source": [
        "Zero-shot learning, or ZSL, is a machine learning process commonly used for Natural Language Processing that allows us to generate predictions on unseen data without the need to train a model. Essentially, zero-shot learning gives us immensely powerful models that have been trained on enormous datasets and work out-of-the-box."
      ]
    },
    {
      "cell_type": "markdown",
      "source": [
        "**Goal of the project**"
      ],
      "metadata": {
        "id": "vUum5lVACCWE"
      }
    },
    {
      "cell_type": "markdown",
      "metadata": {
        "id": "jwtB7jA-A7R7"
      },
      "source": [
        "The Consumer Financial Protection Bureau (CFPB) is a federal U.S. agency that acts as a mediator when disputes arise between financial institutions and consumers. Via a web form, consumers can send the agency a narrative of their dispute. A zero-shot text classification model would make the classification of complaints and their routing to the appropriate teams more efficient than manually tagged complaints.\n"
      ]
    },
    {
      "cell_type": "markdown",
      "source": [
        "**Attribute information**"
      ],
      "metadata": {
        "id": "FmiR7fGHCGG8"
      }
    },
    {
      "cell_type": "markdown",
      "metadata": {
        "id": "I-4ys9qfdPrD"
      },
      "source": [
        "Each submission was tagged with one of five financial product classes:\n",
        "\n",
        "* credit reporting\n",
        "\n",
        "* debt collection\n",
        "\n",
        "* mortgages and loans \n",
        "\n",
        "* credit cards\n",
        "\n",
        "* retail banking"
      ]
    },
    {
      "cell_type": "markdown",
      "source": [
        "**Load the packages**"
      ],
      "metadata": {
        "id": "-pQJNAhXWSI5"
      }
    },
    {
      "cell_type": "code",
      "metadata": {
        "id": "4QrQ8M_9y0So"
      },
      "source": [
        "# Importing libraries\n",
        "import pandas as pd\n",
        "import numpy as np\n",
        "import tensorflow as tf"
      ],
      "execution_count": null,
      "outputs": []
    },
    {
      "cell_type": "markdown",
      "source": [
        "**Load the data**"
      ],
      "metadata": {
        "id": "rPCgZ-l1WdE-"
      }
    },
    {
      "cell_type": "code",
      "metadata": {
        "id": "vsD9vOTkyB8T"
      },
      "source": [
        "# Load dataset\n",
        "df = pd.read_csv('/content/customer_complaints.csv')"
      ],
      "execution_count": null,
      "outputs": []
    },
    {
      "cell_type": "code",
      "metadata": {
        "colab": {
          "base_uri": "https://localhost:8080/",
          "height": 204
        },
        "id": "UVNYWBqFzj7d",
        "outputId": "aee0e92e-b0c7-4c31-b7f0-53fcfe8eb660"
      },
      "source": [
        "# Examine the data\n",
        "df.head()"
      ],
      "execution_count": null,
      "outputs": [
        {
          "output_type": "execute_result",
          "data": {
            "text/html": [
              "\n",
              "  <div id=\"df-3f48dc43-e2cf-4702-b7d6-4972bdc04270\">\n",
              "    <div class=\"colab-df-container\">\n",
              "      <div>\n",
              "<style scoped>\n",
              "    .dataframe tbody tr th:only-of-type {\n",
              "        vertical-align: middle;\n",
              "    }\n",
              "\n",
              "    .dataframe tbody tr th {\n",
              "        vertical-align: top;\n",
              "    }\n",
              "\n",
              "    .dataframe thead th {\n",
              "        text-align: right;\n",
              "    }\n",
              "</style>\n",
              "<table border=\"1\" class=\"dataframe\">\n",
              "  <thead>\n",
              "    <tr style=\"text-align: right;\">\n",
              "      <th></th>\n",
              "      <th>narrative</th>\n",
              "      <th>product</th>\n",
              "    </tr>\n",
              "  </thead>\n",
              "  <tbody>\n",
              "    <tr>\n",
              "      <th>0</th>\n",
              "      <td>purchase order day shipping amount receive pro...</td>\n",
              "      <td>credit_card</td>\n",
              "    </tr>\n",
              "    <tr>\n",
              "      <th>1</th>\n",
              "      <td>forwarded message date tue subject please inve...</td>\n",
              "      <td>credit_card</td>\n",
              "    </tr>\n",
              "    <tr>\n",
              "      <th>2</th>\n",
              "      <td>forwarded message cc sent friday pdt subject f...</td>\n",
              "      <td>retail_banking</td>\n",
              "    </tr>\n",
              "    <tr>\n",
              "      <th>3</th>\n",
              "      <td>payment history missing credit report speciali...</td>\n",
              "      <td>credit_reporting</td>\n",
              "    </tr>\n",
              "    <tr>\n",
              "      <th>4</th>\n",
              "      <td>payment history missing credit report made mis...</td>\n",
              "      <td>credit_reporting</td>\n",
              "    </tr>\n",
              "  </tbody>\n",
              "</table>\n",
              "</div>\n",
              "      <button class=\"colab-df-convert\" onclick=\"convertToInteractive('df-3f48dc43-e2cf-4702-b7d6-4972bdc04270')\"\n",
              "              title=\"Convert this dataframe to an interactive table.\"\n",
              "              style=\"display:none;\">\n",
              "        \n",
              "  <svg xmlns=\"http://www.w3.org/2000/svg\" height=\"24px\"viewBox=\"0 0 24 24\"\n",
              "       width=\"24px\">\n",
              "    <path d=\"M0 0h24v24H0V0z\" fill=\"none\"/>\n",
              "    <path d=\"M18.56 5.44l.94 2.06.94-2.06 2.06-.94-2.06-.94-.94-2.06-.94 2.06-2.06.94zm-11 1L8.5 8.5l.94-2.06 2.06-.94-2.06-.94L8.5 2.5l-.94 2.06-2.06.94zm10 10l.94 2.06.94-2.06 2.06-.94-2.06-.94-.94-2.06-.94 2.06-2.06.94z\"/><path d=\"M17.41 7.96l-1.37-1.37c-.4-.4-.92-.59-1.43-.59-.52 0-1.04.2-1.43.59L10.3 9.45l-7.72 7.72c-.78.78-.78 2.05 0 2.83L4 21.41c.39.39.9.59 1.41.59.51 0 1.02-.2 1.41-.59l7.78-7.78 2.81-2.81c.8-.78.8-2.07 0-2.86zM5.41 20L4 18.59l7.72-7.72 1.47 1.35L5.41 20z\"/>\n",
              "  </svg>\n",
              "      </button>\n",
              "      \n",
              "  <style>\n",
              "    .colab-df-container {\n",
              "      display:flex;\n",
              "      flex-wrap:wrap;\n",
              "      gap: 12px;\n",
              "    }\n",
              "\n",
              "    .colab-df-convert {\n",
              "      background-color: #E8F0FE;\n",
              "      border: none;\n",
              "      border-radius: 50%;\n",
              "      cursor: pointer;\n",
              "      display: none;\n",
              "      fill: #1967D2;\n",
              "      height: 32px;\n",
              "      padding: 0 0 0 0;\n",
              "      width: 32px;\n",
              "    }\n",
              "\n",
              "    .colab-df-convert:hover {\n",
              "      background-color: #E2EBFA;\n",
              "      box-shadow: 0px 1px 2px rgba(60, 64, 67, 0.3), 0px 1px 3px 1px rgba(60, 64, 67, 0.15);\n",
              "      fill: #174EA6;\n",
              "    }\n",
              "\n",
              "    [theme=dark] .colab-df-convert {\n",
              "      background-color: #3B4455;\n",
              "      fill: #D2E3FC;\n",
              "    }\n",
              "\n",
              "    [theme=dark] .colab-df-convert:hover {\n",
              "      background-color: #434B5C;\n",
              "      box-shadow: 0px 1px 3px 1px rgba(0, 0, 0, 0.15);\n",
              "      filter: drop-shadow(0px 1px 2px rgba(0, 0, 0, 0.3));\n",
              "      fill: #FFFFFF;\n",
              "    }\n",
              "  </style>\n",
              "\n",
              "      <script>\n",
              "        const buttonEl =\n",
              "          document.querySelector('#df-3f48dc43-e2cf-4702-b7d6-4972bdc04270 button.colab-df-convert');\n",
              "        buttonEl.style.display =\n",
              "          google.colab.kernel.accessAllowed ? 'block' : 'none';\n",
              "\n",
              "        async function convertToInteractive(key) {\n",
              "          const element = document.querySelector('#df-3f48dc43-e2cf-4702-b7d6-4972bdc04270');\n",
              "          const dataTable =\n",
              "            await google.colab.kernel.invokeFunction('convertToInteractive',\n",
              "                                                     [key], {});\n",
              "          if (!dataTable) return;\n",
              "\n",
              "          const docLinkHtml = 'Like what you see? Visit the ' +\n",
              "            '<a target=\"_blank\" href=https://colab.research.google.com/notebooks/data_table.ipynb>data table notebook</a>'\n",
              "            + ' to learn more about interactive tables.';\n",
              "          element.innerHTML = '';\n",
              "          dataTable['output_type'] = 'display_data';\n",
              "          await google.colab.output.renderOutput(dataTable, element);\n",
              "          const docLink = document.createElement('div');\n",
              "          docLink.innerHTML = docLinkHtml;\n",
              "          element.appendChild(docLink);\n",
              "        }\n",
              "      </script>\n",
              "    </div>\n",
              "  </div>\n",
              "  "
            ],
            "text/plain": [
              "                                           narrative           product\n",
              "0  purchase order day shipping amount receive pro...       credit_card\n",
              "1  forwarded message date tue subject please inve...       credit_card\n",
              "2  forwarded message cc sent friday pdt subject f...    retail_banking\n",
              "3  payment history missing credit report speciali...  credit_reporting\n",
              "4  payment history missing credit report made mis...  credit_reporting"
            ]
          },
          "metadata": {},
          "execution_count": 29
        }
      ]
    },
    {
      "cell_type": "code",
      "metadata": {
        "colab": {
          "base_uri": "https://localhost:8080/"
        },
        "id": "Yws6exmCzsgK",
        "outputId": "c783488e-d322-47de-daf5-f6a2e9470e7e"
      },
      "source": [
        "# Overview of all variables, their datatypes\n",
        "df.info()"
      ],
      "execution_count": null,
      "outputs": [
        {
          "output_type": "stream",
          "name": "stdout",
          "text": [
            "<class 'pandas.core.frame.DataFrame'>\n",
            "RangeIndex: 1000 entries, 0 to 999\n",
            "Data columns (total 2 columns):\n",
            " #   Column     Non-Null Count  Dtype \n",
            "---  ------     --------------  ----- \n",
            " 0   narrative  1000 non-null   object\n",
            " 1   product    1000 non-null   object\n",
            "dtypes: object(2)\n",
            "memory usage: 15.8+ KB\n"
          ]
        }
      ]
    },
    {
      "cell_type": "markdown",
      "metadata": {
        "id": "cg7EPi-sJ_MB"
      },
      "source": [
        "**Check for missing values**"
      ]
    },
    {
      "cell_type": "code",
      "metadata": {
        "colab": {
          "base_uri": "https://localhost:8080/"
        },
        "id": "a6kj-LgEzyUq",
        "outputId": "9315cd4c-af21-44a2-e13e-724d0c72771d"
      },
      "source": [
        "df.isnull().sum()"
      ],
      "execution_count": null,
      "outputs": [
        {
          "output_type": "execute_result",
          "data": {
            "text/plain": [
              "narrative    0\n",
              "product      0\n",
              "dtype: int64"
            ]
          },
          "metadata": {},
          "execution_count": 31
        }
      ]
    },
    {
      "cell_type": "markdown",
      "source": [
        "We can see there are no null values. "
      ],
      "metadata": {
        "id": "juY-jMMw0pjc"
      }
    },
    {
      "cell_type": "markdown",
      "source": [
        "**Check for special characters**"
      ],
      "metadata": {
        "id": "YLC0nVEcY1z_"
      }
    },
    {
      "cell_type": "code",
      "source": [
        "text_data = str()\n",
        "\n",
        "for sentence in df['narrative'].values:\n",
        "    text_data += sentence\n",
        "    \n",
        "''.join(set(text_data))"
      ],
      "metadata": {
        "id": "o9tbEhKndWfm",
        "colab": {
          "base_uri": "https://localhost:8080/",
          "height": 37
        },
        "outputId": "b28dfdab-c3f9-4fb1-f27a-905330dd00a0"
      },
      "execution_count": null,
      "outputs": [
        {
          "output_type": "execute_result",
          "data": {
            "application/vnd.google.colaboratory.intrinsic+json": {
              "type": "string"
            },
            "text/plain": [
              "'gost vuykapmdeinbrlqwcfxjhz'"
            ]
          },
          "metadata": {},
          "execution_count": 32
        }
      ]
    },
    {
      "cell_type": "markdown",
      "source": [
        "There are no special characters."
      ],
      "metadata": {
        "id": "gdPiz_Ut58qs"
      }
    },
    {
      "cell_type": "markdown",
      "source": [
        "**Text preprocessing**"
      ],
      "metadata": {
        "id": "BDwK3zpNisxI"
      }
    },
    {
      "cell_type": "markdown",
      "metadata": {
        "id": "3taReih4Vj03"
      },
      "source": [
        "The kind of data we get from customer feedback is usually unstructured. It contains unusual text and symbols that need to be cleaned so that a machine learning model can grasp it."
      ]
    },
    {
      "cell_type": "code",
      "source": [
        "import re\n",
        "import nltk\n",
        "from nltk.tokenize.toktok import ToktokTokenizer\n",
        "from nltk.corpus import stopwords\n",
        "from nltk.stem import WordNetLemmatizer "
      ],
      "metadata": {
        "id": "R4qCN5DWSyyv"
      },
      "execution_count": null,
      "outputs": []
    },
    {
      "cell_type": "code",
      "source": [
        "nltk.download('punkt')\n",
        "nltk.download('stopwords')\n",
        "nltk.download('wordnet')"
      ],
      "metadata": {
        "id": "Yk0gFxeBS1vb",
        "colab": {
          "base_uri": "https://localhost:8080/"
        },
        "outputId": "f5c0f723-ec6c-46af-a487-072277ede70e"
      },
      "execution_count": null,
      "outputs": [
        {
          "output_type": "stream",
          "name": "stdout",
          "text": [
            "[nltk_data] Downloading package punkt to /root/nltk_data...\n",
            "[nltk_data]   Package punkt is already up-to-date!\n",
            "[nltk_data] Downloading package stopwords to /root/nltk_data...\n",
            "[nltk_data]   Package stopwords is already up-to-date!\n",
            "[nltk_data] Downloading package wordnet to /root/nltk_data...\n",
            "[nltk_data]   Package wordnet is already up-to-date!\n"
          ]
        },
        {
          "output_type": "execute_result",
          "data": {
            "text/plain": [
              "True"
            ]
          },
          "metadata": {},
          "execution_count": 34
        }
      ]
    },
    {
      "cell_type": "code",
      "source": [
        "stop_words = set(stopwords.words('english'))\n",
        "lemmatizer = WordNetLemmatizer()"
      ],
      "metadata": {
        "id": "ZJhDKs8sSSY6"
      },
      "execution_count": null,
      "outputs": []
    },
    {
      "cell_type": "markdown",
      "source": [
        "We will now set up our cleaning function."
      ],
      "metadata": {
        "id": "moG8hD7i6K_M"
      }
    },
    {
      "cell_type": "code",
      "source": [
        "def text_cleaning(text_data):                                                                                       \n",
        "\n",
        "  # Tokenization\n",
        "  tokenizer = ToktokTokenizer()\n",
        "  text_data = tokenizer.tokenize(text_data)                                 \n",
        "  \n",
        "  # Removing stopwords\n",
        "  text_data = [item for item in text_data if item not in stop_words]                           \n",
        "\n",
        "  # Lemmatization\n",
        "  text_data = [lemmatizer.lemmatize(word = w, pos = 'v') for w in text_data]\n",
        "  \n",
        "  # Convert list of tokens to string data type\n",
        "  text_data = ' '.join (text_data)                                       \n",
        "  \n",
        "  return text_data "
      ],
      "metadata": {
        "id": "UCMJ6B0nL-QS"
      },
      "execution_count": null,
      "outputs": []
    },
    {
      "cell_type": "code",
      "source": [
        "df['clean_narrative'] = df['narrative'].apply(text_cleaning)"
      ],
      "metadata": {
        "id": "Xp0wV88nEHSC"
      },
      "execution_count": null,
      "outputs": []
    },
    {
      "cell_type": "markdown",
      "source": [
        "We get the following output:"
      ],
      "metadata": {
        "id": "BIA81SmJB4UC"
      }
    },
    {
      "cell_type": "code",
      "metadata": {
        "colab": {
          "base_uri": "https://localhost:8080/",
          "height": 419
        },
        "id": "49MdafmExKf3",
        "outputId": "508e95f3-327a-4d81-8b92-98b657dd24da"
      },
      "source": [
        "df[['narrative', 'clean_narrative']]"
      ],
      "execution_count": null,
      "outputs": [
        {
          "output_type": "execute_result",
          "data": {
            "text/html": [
              "\n",
              "  <div id=\"df-955dda29-a900-40c6-aded-758016694558\">\n",
              "    <div class=\"colab-df-container\">\n",
              "      <div>\n",
              "<style scoped>\n",
              "    .dataframe tbody tr th:only-of-type {\n",
              "        vertical-align: middle;\n",
              "    }\n",
              "\n",
              "    .dataframe tbody tr th {\n",
              "        vertical-align: top;\n",
              "    }\n",
              "\n",
              "    .dataframe thead th {\n",
              "        text-align: right;\n",
              "    }\n",
              "</style>\n",
              "<table border=\"1\" class=\"dataframe\">\n",
              "  <thead>\n",
              "    <tr style=\"text-align: right;\">\n",
              "      <th></th>\n",
              "      <th>narrative</th>\n",
              "      <th>clean_narrative</th>\n",
              "    </tr>\n",
              "  </thead>\n",
              "  <tbody>\n",
              "    <tr>\n",
              "      <th>0</th>\n",
              "      <td>purchase order day shipping amount receive pro...</td>\n",
              "      <td>purchase order day ship amount receive product...</td>\n",
              "    </tr>\n",
              "    <tr>\n",
              "      <th>1</th>\n",
              "      <td>forwarded message date tue subject please inve...</td>\n",
              "      <td>forward message date tue subject please invest...</td>\n",
              "    </tr>\n",
              "    <tr>\n",
              "      <th>2</th>\n",
              "      <td>forwarded message cc sent friday pdt subject f...</td>\n",
              "      <td>forward message cc send friday pdt subject fin...</td>\n",
              "    </tr>\n",
              "    <tr>\n",
              "      <th>3</th>\n",
              "      <td>payment history missing credit report speciali...</td>\n",
              "      <td>payment history miss credit report specialize ...</td>\n",
              "    </tr>\n",
              "    <tr>\n",
              "      <th>4</th>\n",
              "      <td>payment history missing credit report made mis...</td>\n",
              "      <td>payment history miss credit report make mistak...</td>\n",
              "    </tr>\n",
              "    <tr>\n",
              "      <th>...</th>\n",
              "      <td>...</td>\n",
              "      <td>...</td>\n",
              "    </tr>\n",
              "    <tr>\n",
              "      <th>995</th>\n",
              "      <td>bank america add hard inquiry credit report pe...</td>\n",
              "      <td>bank america add hard inquiry credit report pe...</td>\n",
              "    </tr>\n",
              "    <tr>\n",
              "      <th>996</th>\n",
              "      <td>opened premium checking bundle advertised main...</td>\n",
              "      <td>open premium check bundle advertise main land ...</td>\n",
              "    </tr>\n",
              "    <tr>\n",
              "      <th>997</th>\n",
              "      <td>opened premium checking bundle advertised main...</td>\n",
              "      <td>open premium check bundle advertise main land ...</td>\n",
              "    </tr>\n",
              "    <tr>\n",
              "      <th>998</th>\n",
              "      <td>original account number date original account ...</td>\n",
              "      <td>original account number date original account ...</td>\n",
              "    </tr>\n",
              "    <tr>\n",
              "      <th>999</th>\n",
              "      <td>please provide actual credit card contract upo...</td>\n",
              "      <td>please provide actual credit card contract upo...</td>\n",
              "    </tr>\n",
              "  </tbody>\n",
              "</table>\n",
              "<p>1000 rows × 2 columns</p>\n",
              "</div>\n",
              "      <button class=\"colab-df-convert\" onclick=\"convertToInteractive('df-955dda29-a900-40c6-aded-758016694558')\"\n",
              "              title=\"Convert this dataframe to an interactive table.\"\n",
              "              style=\"display:none;\">\n",
              "        \n",
              "  <svg xmlns=\"http://www.w3.org/2000/svg\" height=\"24px\"viewBox=\"0 0 24 24\"\n",
              "       width=\"24px\">\n",
              "    <path d=\"M0 0h24v24H0V0z\" fill=\"none\"/>\n",
              "    <path d=\"M18.56 5.44l.94 2.06.94-2.06 2.06-.94-2.06-.94-.94-2.06-.94 2.06-2.06.94zm-11 1L8.5 8.5l.94-2.06 2.06-.94-2.06-.94L8.5 2.5l-.94 2.06-2.06.94zm10 10l.94 2.06.94-2.06 2.06-.94-2.06-.94-.94-2.06-.94 2.06-2.06.94z\"/><path d=\"M17.41 7.96l-1.37-1.37c-.4-.4-.92-.59-1.43-.59-.52 0-1.04.2-1.43.59L10.3 9.45l-7.72 7.72c-.78.78-.78 2.05 0 2.83L4 21.41c.39.39.9.59 1.41.59.51 0 1.02-.2 1.41-.59l7.78-7.78 2.81-2.81c.8-.78.8-2.07 0-2.86zM5.41 20L4 18.59l7.72-7.72 1.47 1.35L5.41 20z\"/>\n",
              "  </svg>\n",
              "      </button>\n",
              "      \n",
              "  <style>\n",
              "    .colab-df-container {\n",
              "      display:flex;\n",
              "      flex-wrap:wrap;\n",
              "      gap: 12px;\n",
              "    }\n",
              "\n",
              "    .colab-df-convert {\n",
              "      background-color: #E8F0FE;\n",
              "      border: none;\n",
              "      border-radius: 50%;\n",
              "      cursor: pointer;\n",
              "      display: none;\n",
              "      fill: #1967D2;\n",
              "      height: 32px;\n",
              "      padding: 0 0 0 0;\n",
              "      width: 32px;\n",
              "    }\n",
              "\n",
              "    .colab-df-convert:hover {\n",
              "      background-color: #E2EBFA;\n",
              "      box-shadow: 0px 1px 2px rgba(60, 64, 67, 0.3), 0px 1px 3px 1px rgba(60, 64, 67, 0.15);\n",
              "      fill: #174EA6;\n",
              "    }\n",
              "\n",
              "    [theme=dark] .colab-df-convert {\n",
              "      background-color: #3B4455;\n",
              "      fill: #D2E3FC;\n",
              "    }\n",
              "\n",
              "    [theme=dark] .colab-df-convert:hover {\n",
              "      background-color: #434B5C;\n",
              "      box-shadow: 0px 1px 3px 1px rgba(0, 0, 0, 0.15);\n",
              "      filter: drop-shadow(0px 1px 2px rgba(0, 0, 0, 0.3));\n",
              "      fill: #FFFFFF;\n",
              "    }\n",
              "  </style>\n",
              "\n",
              "      <script>\n",
              "        const buttonEl =\n",
              "          document.querySelector('#df-955dda29-a900-40c6-aded-758016694558 button.colab-df-convert');\n",
              "        buttonEl.style.display =\n",
              "          google.colab.kernel.accessAllowed ? 'block' : 'none';\n",
              "\n",
              "        async function convertToInteractive(key) {\n",
              "          const element = document.querySelector('#df-955dda29-a900-40c6-aded-758016694558');\n",
              "          const dataTable =\n",
              "            await google.colab.kernel.invokeFunction('convertToInteractive',\n",
              "                                                     [key], {});\n",
              "          if (!dataTable) return;\n",
              "\n",
              "          const docLinkHtml = 'Like what you see? Visit the ' +\n",
              "            '<a target=\"_blank\" href=https://colab.research.google.com/notebooks/data_table.ipynb>data table notebook</a>'\n",
              "            + ' to learn more about interactive tables.';\n",
              "          element.innerHTML = '';\n",
              "          dataTable['output_type'] = 'display_data';\n",
              "          await google.colab.output.renderOutput(dataTable, element);\n",
              "          const docLink = document.createElement('div');\n",
              "          docLink.innerHTML = docLinkHtml;\n",
              "          element.appendChild(docLink);\n",
              "        }\n",
              "      </script>\n",
              "    </div>\n",
              "  </div>\n",
              "  "
            ],
            "text/plain": [
              "                                             narrative                                    clean_narrative\n",
              "0    purchase order day shipping amount receive pro...  purchase order day ship amount receive product...\n",
              "1    forwarded message date tue subject please inve...  forward message date tue subject please invest...\n",
              "2    forwarded message cc sent friday pdt subject f...  forward message cc send friday pdt subject fin...\n",
              "3    payment history missing credit report speciali...  payment history miss credit report specialize ...\n",
              "4    payment history missing credit report made mis...  payment history miss credit report make mistak...\n",
              "..                                                 ...                                                ...\n",
              "995  bank america add hard inquiry credit report pe...  bank america add hard inquiry credit report pe...\n",
              "996  opened premium checking bundle advertised main...  open premium check bundle advertise main land ...\n",
              "997  opened premium checking bundle advertised main...  open premium check bundle advertise main land ...\n",
              "998  original account number date original account ...  original account number date original account ...\n",
              "999  please provide actual credit card contract upo...  please provide actual credit card contract upo...\n",
              "\n",
              "[1000 rows x 2 columns]"
            ]
          },
          "metadata": {},
          "execution_count": 38
        }
      ]
    },
    {
      "cell_type": "markdown",
      "metadata": {
        "id": "4trJ9qD2lUug"
      },
      "source": [
        "**Testing for GPU**"
      ]
    },
    {
      "cell_type": "code",
      "metadata": {
        "id": "nKU2Juix2aJz"
      },
      "source": [
        "import torch"
      ],
      "execution_count": null,
      "outputs": []
    },
    {
      "cell_type": "code",
      "metadata": {
        "colab": {
          "base_uri": "https://localhost:8080/"
        },
        "id": "IXcNY9mqbE20",
        "outputId": "8ff5359e-3b15-4567-b34d-fce617f38b0a"
      },
      "source": [
        "# Whether cuda is available\n",
        "torch.cuda.is_available()"
      ],
      "execution_count": null,
      "outputs": [
        {
          "output_type": "execute_result",
          "data": {
            "text/plain": [
              "True"
            ]
          },
          "metadata": {},
          "execution_count": 40
        }
      ]
    },
    {
      "cell_type": "code",
      "metadata": {
        "id": "61WrcWVM1D9G"
      },
      "source": [
        "# Load\n",
        "device = torch.cuda.current_device() if torch.cuda.is_available() else -1"
      ],
      "execution_count": null,
      "outputs": []
    },
    {
      "cell_type": "code",
      "metadata": {
        "colab": {
          "base_uri": "https://localhost:8080/"
        },
        "id": "mVXlDgauQbRm",
        "outputId": "d6a3e826-65c2-43bc-d92b-7e051e40df03"
      },
      "source": [
        "print(device)"
      ],
      "execution_count": null,
      "outputs": [
        {
          "output_type": "stream",
          "name": "stdout",
          "text": [
            "0\n"
          ]
        }
      ]
    },
    {
      "cell_type": "markdown",
      "metadata": {
        "id": "rp5xjY035KWg"
      },
      "source": [
        "**Transformer Pipeline**"
      ]
    },
    {
      "cell_type": "markdown",
      "metadata": {
        "id": "_Vyq39PY5oHe"
      },
      "source": [
        "We will use the pipeline( ) function to load the zero-shot-classification transformer and set it to use the valhalla/distilbart-mnli-12-9 model. "
      ]
    },
    {
      "cell_type": "code",
      "metadata": {
        "id": "6J5xdE-Fmlg_"
      },
      "source": [
        "from transformers import pipeline"
      ],
      "execution_count": null,
      "outputs": []
    },
    {
      "cell_type": "code",
      "metadata": {
        "id": "_qxt0aG8n_UY"
      },
      "source": [
        "task = 'zero-shot-classification'\n",
        "zero_shot_model = 'valhalla/distilbart-mnli-12-9'\n",
        "zero_shot_classifier = pipeline(task, zero_shot_model, device = device)"
      ],
      "execution_count": null,
      "outputs": []
    },
    {
      "cell_type": "markdown",
      "metadata": {
        "id": "xpqHLHTj6W9-"
      },
      "source": [
        "We can use this pipeline by passing in a sequence and a list of candidate labels. The pipeline assumes by default that only one of the candidate labels is true, returning a list of scores for each label which add up to 1."
      ]
    },
    {
      "cell_type": "code",
      "metadata": {
        "id": "6soFj157HKuJ"
      },
      "source": [
        "sequence = df['clean_narrative'][0]"
      ],
      "execution_count": null,
      "outputs": []
    },
    {
      "cell_type": "code",
      "metadata": {
        "id": "UlneV5ukIFX7"
      },
      "source": [
        "candidate_labels = ['credit_reporting',       \n",
        "                    'debt_collection',        \n",
        "                    'mortgages_and_loans',    \n",
        "                    'retail_banking',          \n",
        "                    'credit_card'] "
      ],
      "execution_count": null,
      "outputs": []
    },
    {
      "cell_type": "code",
      "metadata": {
        "id": "-DIe-I-zx4fT"
      },
      "source": [
        "outputs = zero_shot_classifier(sequences = sequence, candidate_labels = candidate_labels)"
      ],
      "execution_count": null,
      "outputs": []
    },
    {
      "cell_type": "markdown",
      "metadata": {
        "id": "d_cd0RLY6uNg"
      },
      "source": [
        "Let’s take a look at the outputs."
      ]
    },
    {
      "cell_type": "code",
      "metadata": {
        "id": "cFx_VAeT4kRE",
        "colab": {
          "base_uri": "https://localhost:8080/"
        },
        "outputId": "e62e04c3-dfad-4f93-a68d-e5c813e34e99"
      },
      "source": [
        "for label, score in zip(outputs['labels'], outputs['scores']):\n",
        "    print(f'{label}: {score:.3f}')"
      ],
      "execution_count": null,
      "outputs": [
        {
          "output_type": "stream",
          "name": "stdout",
          "text": [
            "credit_card: 0.580\n",
            "credit_reporting: 0.171\n",
            "debt_collection: 0.103\n",
            "retail_banking: 0.099\n",
            "mortgages_and_loans: 0.047\n"
          ]
        }
      ]
    },
    {
      "cell_type": "markdown",
      "metadata": {
        "id": "DytT3bx468UB"
      },
      "source": [
        "The model correctly identifies that the likely label is credit_card. Other irrelevant labels, such as credit_reporting, debt_collection, retail_banking and mortgages_and_loans, have a very low score."
      ]
    },
    {
      "cell_type": "markdown",
      "metadata": {
        "id": "vaHnu16QjyuH"
      },
      "source": [
        "**Classify all the submissions**"
      ]
    },
    {
      "cell_type": "code",
      "metadata": {
        "id": "AqJRPYalSXFj"
      },
      "source": [
        "task = 'zero-shot-classification'\n",
        "zero_shot_model = 'valhalla/distilbart-mnli-12-9'\n",
        "classifier = pipeline(task, zero_shot_model, device = device) "
      ],
      "execution_count": null,
      "outputs": []
    },
    {
      "cell_type": "code",
      "metadata": {
        "id": "F0SJ9knVSgCJ"
      },
      "source": [
        "candidate_labels = ['credit_reporting',       \n",
        "                    'debt_collection',        \n",
        "                    'mortgages_and_loans',    \n",
        "                    'retail_banking',          \n",
        "                    'credit_card']  "
      ],
      "execution_count": null,
      "outputs": []
    },
    {
      "cell_type": "code",
      "metadata": {
        "id": "GMzKISC6r8M8"
      },
      "source": [
        "# Compute the predicted label for each submission\n",
        "df['label_pred_zero_shot'] = df['clean_narrative'].apply(lambda x: classifier(x, candidate_labels = candidate_labels)['labels'][0])"
      ],
      "execution_count": null,
      "outputs": []
    },
    {
      "cell_type": "markdown",
      "metadata": {
        "id": "xtA8sPS_iwdO"
      },
      "source": [
        "At this point, we have a dataset that contains labels produced by the zero-shot classifier."
      ]
    },
    {
      "cell_type": "code",
      "metadata": {
        "id": "DS0PiQx1iy8l",
        "colab": {
          "base_uri": "https://localhost:8080/",
          "height": 419
        },
        "outputId": "d20d53f7-a22a-4908-80b0-a9cad24720d1"
      },
      "source": [
        "df[['product','label_pred_zero_shot']]"
      ],
      "execution_count": null,
      "outputs": [
        {
          "output_type": "execute_result",
          "data": {
            "text/html": [
              "\n",
              "  <div id=\"df-c1de44d2-a0ff-4c72-96f8-ecd91f424094\">\n",
              "    <div class=\"colab-df-container\">\n",
              "      <div>\n",
              "<style scoped>\n",
              "    .dataframe tbody tr th:only-of-type {\n",
              "        vertical-align: middle;\n",
              "    }\n",
              "\n",
              "    .dataframe tbody tr th {\n",
              "        vertical-align: top;\n",
              "    }\n",
              "\n",
              "    .dataframe thead th {\n",
              "        text-align: right;\n",
              "    }\n",
              "</style>\n",
              "<table border=\"1\" class=\"dataframe\">\n",
              "  <thead>\n",
              "    <tr style=\"text-align: right;\">\n",
              "      <th></th>\n",
              "      <th>product</th>\n",
              "      <th>label_pred_zero_shot</th>\n",
              "    </tr>\n",
              "  </thead>\n",
              "  <tbody>\n",
              "    <tr>\n",
              "      <th>0</th>\n",
              "      <td>credit_card</td>\n",
              "      <td>credit_card</td>\n",
              "    </tr>\n",
              "    <tr>\n",
              "      <th>1</th>\n",
              "      <td>credit_card</td>\n",
              "      <td>retail_banking</td>\n",
              "    </tr>\n",
              "    <tr>\n",
              "      <th>2</th>\n",
              "      <td>retail_banking</td>\n",
              "      <td>credit_card</td>\n",
              "    </tr>\n",
              "    <tr>\n",
              "      <th>3</th>\n",
              "      <td>credit_reporting</td>\n",
              "      <td>credit_reporting</td>\n",
              "    </tr>\n",
              "    <tr>\n",
              "      <th>4</th>\n",
              "      <td>credit_reporting</td>\n",
              "      <td>credit_reporting</td>\n",
              "    </tr>\n",
              "    <tr>\n",
              "      <th>...</th>\n",
              "      <td>...</td>\n",
              "      <td>...</td>\n",
              "    </tr>\n",
              "    <tr>\n",
              "      <th>995</th>\n",
              "      <td>credit_reporting</td>\n",
              "      <td>credit_reporting</td>\n",
              "    </tr>\n",
              "    <tr>\n",
              "      <th>996</th>\n",
              "      <td>retail_banking</td>\n",
              "      <td>retail_banking</td>\n",
              "    </tr>\n",
              "    <tr>\n",
              "      <th>997</th>\n",
              "      <td>retail_banking</td>\n",
              "      <td>retail_banking</td>\n",
              "    </tr>\n",
              "    <tr>\n",
              "      <th>998</th>\n",
              "      <td>debt_collection</td>\n",
              "      <td>credit_reporting</td>\n",
              "    </tr>\n",
              "    <tr>\n",
              "      <th>999</th>\n",
              "      <td>debt_collection</td>\n",
              "      <td>credit_card</td>\n",
              "    </tr>\n",
              "  </tbody>\n",
              "</table>\n",
              "<p>1000 rows × 2 columns</p>\n",
              "</div>\n",
              "      <button class=\"colab-df-convert\" onclick=\"convertToInteractive('df-c1de44d2-a0ff-4c72-96f8-ecd91f424094')\"\n",
              "              title=\"Convert this dataframe to an interactive table.\"\n",
              "              style=\"display:none;\">\n",
              "        \n",
              "  <svg xmlns=\"http://www.w3.org/2000/svg\" height=\"24px\"viewBox=\"0 0 24 24\"\n",
              "       width=\"24px\">\n",
              "    <path d=\"M0 0h24v24H0V0z\" fill=\"none\"/>\n",
              "    <path d=\"M18.56 5.44l.94 2.06.94-2.06 2.06-.94-2.06-.94-.94-2.06-.94 2.06-2.06.94zm-11 1L8.5 8.5l.94-2.06 2.06-.94-2.06-.94L8.5 2.5l-.94 2.06-2.06.94zm10 10l.94 2.06.94-2.06 2.06-.94-2.06-.94-.94-2.06-.94 2.06-2.06.94z\"/><path d=\"M17.41 7.96l-1.37-1.37c-.4-.4-.92-.59-1.43-.59-.52 0-1.04.2-1.43.59L10.3 9.45l-7.72 7.72c-.78.78-.78 2.05 0 2.83L4 21.41c.39.39.9.59 1.41.59.51 0 1.02-.2 1.41-.59l7.78-7.78 2.81-2.81c.8-.78.8-2.07 0-2.86zM5.41 20L4 18.59l7.72-7.72 1.47 1.35L5.41 20z\"/>\n",
              "  </svg>\n",
              "      </button>\n",
              "      \n",
              "  <style>\n",
              "    .colab-df-container {\n",
              "      display:flex;\n",
              "      flex-wrap:wrap;\n",
              "      gap: 12px;\n",
              "    }\n",
              "\n",
              "    .colab-df-convert {\n",
              "      background-color: #E8F0FE;\n",
              "      border: none;\n",
              "      border-radius: 50%;\n",
              "      cursor: pointer;\n",
              "      display: none;\n",
              "      fill: #1967D2;\n",
              "      height: 32px;\n",
              "      padding: 0 0 0 0;\n",
              "      width: 32px;\n",
              "    }\n",
              "\n",
              "    .colab-df-convert:hover {\n",
              "      background-color: #E2EBFA;\n",
              "      box-shadow: 0px 1px 2px rgba(60, 64, 67, 0.3), 0px 1px 3px 1px rgba(60, 64, 67, 0.15);\n",
              "      fill: #174EA6;\n",
              "    }\n",
              "\n",
              "    [theme=dark] .colab-df-convert {\n",
              "      background-color: #3B4455;\n",
              "      fill: #D2E3FC;\n",
              "    }\n",
              "\n",
              "    [theme=dark] .colab-df-convert:hover {\n",
              "      background-color: #434B5C;\n",
              "      box-shadow: 0px 1px 3px 1px rgba(0, 0, 0, 0.15);\n",
              "      filter: drop-shadow(0px 1px 2px rgba(0, 0, 0, 0.3));\n",
              "      fill: #FFFFFF;\n",
              "    }\n",
              "  </style>\n",
              "\n",
              "      <script>\n",
              "        const buttonEl =\n",
              "          document.querySelector('#df-c1de44d2-a0ff-4c72-96f8-ecd91f424094 button.colab-df-convert');\n",
              "        buttonEl.style.display =\n",
              "          google.colab.kernel.accessAllowed ? 'block' : 'none';\n",
              "\n",
              "        async function convertToInteractive(key) {\n",
              "          const element = document.querySelector('#df-c1de44d2-a0ff-4c72-96f8-ecd91f424094');\n",
              "          const dataTable =\n",
              "            await google.colab.kernel.invokeFunction('convertToInteractive',\n",
              "                                                     [key], {});\n",
              "          if (!dataTable) return;\n",
              "\n",
              "          const docLinkHtml = 'Like what you see? Visit the ' +\n",
              "            '<a target=\"_blank\" href=https://colab.research.google.com/notebooks/data_table.ipynb>data table notebook</a>'\n",
              "            + ' to learn more about interactive tables.';\n",
              "          element.innerHTML = '';\n",
              "          dataTable['output_type'] = 'display_data';\n",
              "          await google.colab.output.renderOutput(dataTable, element);\n",
              "          const docLink = document.createElement('div');\n",
              "          docLink.innerHTML = docLinkHtml;\n",
              "          element.appendChild(docLink);\n",
              "        }\n",
              "      </script>\n",
              "    </div>\n",
              "  </div>\n",
              "  "
            ],
            "text/plain": [
              "              product label_pred_zero_shot\n",
              "0         credit_card          credit_card\n",
              "1         credit_card       retail_banking\n",
              "2      retail_banking          credit_card\n",
              "3    credit_reporting     credit_reporting\n",
              "4    credit_reporting     credit_reporting\n",
              "..                ...                  ...\n",
              "995  credit_reporting     credit_reporting\n",
              "996    retail_banking       retail_banking\n",
              "997    retail_banking       retail_banking\n",
              "998   debt_collection     credit_reporting\n",
              "999   debt_collection          credit_card\n",
              "\n",
              "[1000 rows x 2 columns]"
            ]
          },
          "metadata": {},
          "execution_count": 52
        }
      ]
    },
    {
      "cell_type": "markdown",
      "metadata": {
        "id": "1HErlDt4ieQf"
      },
      "source": [
        "Finally, the model can be evaluated using the original datasets already labelled evaluation data."
      ]
    },
    {
      "cell_type": "code",
      "metadata": {
        "id": "Lf9zxVUGoNi6"
      },
      "source": [
        "from sklearn.metrics import accuracy_score"
      ],
      "execution_count": null,
      "outputs": []
    },
    {
      "cell_type": "code",
      "metadata": {
        "id": "Omn7s3NWjBw1",
        "colab": {
          "base_uri": "https://localhost:8080/"
        },
        "outputId": "cfaba328-6346-4a13-ac01-26ded47c1809"
      },
      "source": [
        "# Calculate the accuracy of the zero-shot model\n",
        "accuracy_score(df['product'], df['label_pred_zero_shot'])"
      ],
      "execution_count": null,
      "outputs": [
        {
          "output_type": "execute_result",
          "data": {
            "text/plain": [
              "0.77"
            ]
          },
          "metadata": {},
          "execution_count": 54
        }
      ]
    },
    {
      "cell_type": "markdown",
      "metadata": {
        "id": "sqWZAKpgOujg"
      },
      "source": [
        "The zero-shot classifier does a decent job. Glancing at a few random submissions uncorrectly labeled by the zero-shot classifier, there does not seem to be a particularly problematic class, although such a assertion would require further investigation. "
      ]
    }
  ]
}