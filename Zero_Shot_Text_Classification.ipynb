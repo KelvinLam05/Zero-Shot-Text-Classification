{
  "nbformat": 4,
  "nbformat_minor": 0,
  "metadata": {
    "colab": {
      "name": "Zero-Shot Text Classification.ipynb",
      "provenance": [],
      "collapsed_sections": [],
      "authorship_tag": "ABX9TyMdvBt6i6P09Bd1ze/4R99K",
      "include_colab_link": true
    },
    "kernelspec": {
      "display_name": "Python 3",
      "name": "python3"
    },
    "language_info": {
      "name": "python"
    },
    "accelerator": "GPU"
  },
  "cells": [
    {
      "cell_type": "markdown",
      "metadata": {
        "id": "view-in-github",
        "colab_type": "text"
      },
      "source": [
        "<a href=\"https://colab.research.google.com/github/KelvinLam05/Zero-Shot-Text-Classification-with-Hugging-Face/blob/main/Zero_Shot_Text_Classification.ipynb\" target=\"_parent\"><img src=\"https://colab.research.google.com/assets/colab-badge.svg\" alt=\"Open In Colab\"/></a>"
      ]
    },
    {
      "cell_type": "markdown",
      "metadata": {
        "id": "Lxy-b07hIKG1"
      },
      "source": [
        "**Zero-Shot Text Classification**\n",
        "\n",
        "Zero-shot learning, or ZSL, is a machine learning process commonly used for Natural Language Processing that allows us to generate predictions on unseen data without the need to train a model. Essentially, zero-shot learning gives us immensely powerful models that have been trained on enormous datasets and work out-of-the-box."
      ]
    },
    {
      "cell_type": "markdown",
      "metadata": {
        "id": "jwtB7jA-A7R7"
      },
      "source": [
        "**Goal of the project**\n",
        "\n",
        "The Consumer Financial Protection Bureau (CFPB) is a federal U.S. agency that acts as a mediator when disputes arise between financial institutions and consumers. Via a web form, consumers can send the agency a narrative of their dispute. A zero-shot text classification model would make the classification of complaints and their routing to the appropriate teams more efficient than manually tagged complaints.\n"
      ]
    },
    {
      "cell_type": "markdown",
      "metadata": {
        "id": "I-4ys9qfdPrD"
      },
      "source": [
        "**Attribute information**\n",
        "\n",
        "Each submission was tagged with one of five financial product classes:\n",
        "\n",
        "* credit reporting\n",
        "\n",
        "* debt collection\n",
        "\n",
        "* mortgages and loans \n",
        "\n",
        "* credit cards\n",
        "\n",
        "* retail banking"
      ]
    },
    {
      "cell_type": "code",
      "metadata": {
        "id": "4QrQ8M_9y0So"
      },
      "source": [
        "# Importing libraries\n",
        "import pandas as pd\n",
        "import numpy as np\n",
        "import tensorflow as tf"
      ],
      "execution_count": 86,
      "outputs": []
    },
    {
      "cell_type": "code",
      "metadata": {
        "id": "vsD9vOTkyB8T"
      },
      "source": [
        "# Load dataset\n",
        "df = pd.read_csv('/content/complaints.csv')"
      ],
      "execution_count": 87,
      "outputs": []
    },
    {
      "cell_type": "code",
      "metadata": {
        "colab": {
          "base_uri": "https://localhost:8080/",
          "height": 204
        },
        "id": "UVNYWBqFzj7d",
        "outputId": "fc4a3917-5d83-4559-f4f9-6b52f0004083"
      },
      "source": [
        "# Examine the data\n",
        "df.head()"
      ],
      "execution_count": 88,
      "outputs": [
        {
          "output_type": "execute_result",
          "data": {
            "text/html": [
              "<div>\n",
              "<style scoped>\n",
              "    .dataframe tbody tr th:only-of-type {\n",
              "        vertical-align: middle;\n",
              "    }\n",
              "\n",
              "    .dataframe tbody tr th {\n",
              "        vertical-align: top;\n",
              "    }\n",
              "\n",
              "    .dataframe thead th {\n",
              "        text-align: right;\n",
              "    }\n",
              "</style>\n",
              "<table border=\"1\" class=\"dataframe\">\n",
              "  <thead>\n",
              "    <tr style=\"text-align: right;\">\n",
              "      <th></th>\n",
              "      <th>narrative</th>\n",
              "      <th>product</th>\n",
              "    </tr>\n",
              "  </thead>\n",
              "  <tbody>\n",
              "    <tr>\n",
              "      <th>0</th>\n",
              "      <td>purchase order day shipping amount receive pro...</td>\n",
              "      <td>credit_card</td>\n",
              "    </tr>\n",
              "    <tr>\n",
              "      <th>1</th>\n",
              "      <td>forwarded message date tue subject please inve...</td>\n",
              "      <td>credit_card</td>\n",
              "    </tr>\n",
              "    <tr>\n",
              "      <th>2</th>\n",
              "      <td>forwarded message cc sent friday pdt subject f...</td>\n",
              "      <td>retail_banking</td>\n",
              "    </tr>\n",
              "    <tr>\n",
              "      <th>3</th>\n",
              "      <td>payment history missing credit report speciali...</td>\n",
              "      <td>credit_reporting</td>\n",
              "    </tr>\n",
              "    <tr>\n",
              "      <th>4</th>\n",
              "      <td>payment history missing credit report made mis...</td>\n",
              "      <td>credit_reporting</td>\n",
              "    </tr>\n",
              "  </tbody>\n",
              "</table>\n",
              "</div>"
            ],
            "text/plain": [
              "                                           narrative           product\n",
              "0  purchase order day shipping amount receive pro...       credit_card\n",
              "1  forwarded message date tue subject please inve...       credit_card\n",
              "2  forwarded message cc sent friday pdt subject f...    retail_banking\n",
              "3  payment history missing credit report speciali...  credit_reporting\n",
              "4  payment history missing credit report made mis...  credit_reporting"
            ]
          },
          "metadata": {},
          "execution_count": 88
        }
      ]
    },
    {
      "cell_type": "code",
      "metadata": {
        "colab": {
          "base_uri": "https://localhost:8080/"
        },
        "id": "Yws6exmCzsgK",
        "outputId": "1aedab3a-e44d-4cec-bcdb-ca9cc1904d71"
      },
      "source": [
        "# Overview of all variables, their datatypes\n",
        "df.info()"
      ],
      "execution_count": 89,
      "outputs": [
        {
          "output_type": "stream",
          "name": "stdout",
          "text": [
            "<class 'pandas.core.frame.DataFrame'>\n",
            "RangeIndex: 1000 entries, 0 to 999\n",
            "Data columns (total 2 columns):\n",
            " #   Column     Non-Null Count  Dtype \n",
            "---  ------     --------------  ----- \n",
            " 0   narrative  1000 non-null   object\n",
            " 1   product    1000 non-null   object\n",
            "dtypes: object(2)\n",
            "memory usage: 15.8+ KB\n"
          ]
        }
      ]
    },
    {
      "cell_type": "markdown",
      "metadata": {
        "id": "cg7EPi-sJ_MB"
      },
      "source": [
        "**Preprocessing**"
      ]
    },
    {
      "cell_type": "code",
      "metadata": {
        "colab": {
          "base_uri": "https://localhost:8080/"
        },
        "id": "a6kj-LgEzyUq",
        "outputId": "b6c7c5ad-a4a6-4f92-e155-4b5716a3150e"
      },
      "source": [
        "# Checking for missing values\n",
        "df.isnull().sum().sort_values(ascending = False)"
      ],
      "execution_count": 90,
      "outputs": [
        {
          "output_type": "execute_result",
          "data": {
            "text/plain": [
              "product      0\n",
              "narrative    0\n",
              "dtype: int64"
            ]
          },
          "metadata": {},
          "execution_count": 90
        }
      ]
    },
    {
      "cell_type": "code",
      "metadata": {
        "colab": {
          "base_uri": "https://localhost:8080/"
        },
        "id": "AMb0eZuXh-Zo",
        "outputId": "d1de2dc6-9edc-436a-9e8b-86917a6d0be4"
      },
      "source": [
        "# Find the number of unique classes present in the product column \n",
        "df['product'].unique()"
      ],
      "execution_count": 91,
      "outputs": [
        {
          "output_type": "execute_result",
          "data": {
            "text/plain": [
              "array(['credit_card', 'retail_banking', 'credit_reporting',\n",
              "       'mortgages_and_loans', 'debt_collection'], dtype=object)"
            ]
          },
          "metadata": {},
          "execution_count": 91
        }
      ]
    },
    {
      "cell_type": "markdown",
      "metadata": {
        "id": "M0FZ2gQKEwUK"
      },
      "source": [
        "There are five different types of financial products."
      ]
    },
    {
      "cell_type": "code",
      "metadata": {
        "colab": {
          "base_uri": "https://localhost:8080/",
          "height": 37
        },
        "id": "b_W1UDrZNXsO",
        "outputId": "8e283272-191b-40d0-bb2e-8421124f32fe"
      },
      "source": [
        "# Find all unique characters and symbols \n",
        "all_text = str()\n",
        "\n",
        "for sentence in df['narrative'].values:\n",
        "    all_text += sentence\n",
        "    \n",
        "''.join(set(all_text))"
      ],
      "execution_count": 92,
      "outputs": [
        {
          "output_type": "execute_result",
          "data": {
            "application/vnd.google.colaboratory.intrinsic+json": {
              "type": "string"
            },
            "text/plain": [
              "'hrtze mqgsixjauvnywpckdbolf'"
            ]
          },
          "metadata": {},
          "execution_count": 92
        }
      ]
    },
    {
      "cell_type": "markdown",
      "metadata": {
        "id": "3taReih4Vj03"
      },
      "source": [
        "The kind of data we get from customer feedback is usually unstructured. It contains unusual text and symbols that need to be cleaned so that a machine learning model can grasp it."
      ]
    },
    {
      "cell_type": "code",
      "metadata": {
        "id": "OZeMzUAcJ2g_"
      },
      "source": [
        "import re\n",
        "import nltk\n",
        "from nltk.tokenize import word_tokenize\n",
        "from nltk.corpus import stopwords\n",
        "from nltk.stem import WordNetLemmatizer "
      ],
      "execution_count": 93,
      "outputs": []
    },
    {
      "cell_type": "code",
      "metadata": {
        "colab": {
          "base_uri": "https://localhost:8080/"
        },
        "id": "s0qaYH33K6ct",
        "outputId": "ffe6c4c7-889b-4faf-f16d-a44aef1c56f0"
      },
      "source": [
        "nltk.download('stopwords')\n",
        "nltk.download('punkt')\n",
        "nltk.download('wordnet')"
      ],
      "execution_count": 94,
      "outputs": [
        {
          "output_type": "stream",
          "name": "stdout",
          "text": [
            "[nltk_data] Downloading package stopwords to /root/nltk_data...\n",
            "[nltk_data]   Package stopwords is already up-to-date!\n",
            "[nltk_data] Downloading package punkt to /root/nltk_data...\n",
            "[nltk_data]   Package punkt is already up-to-date!\n",
            "[nltk_data] Downloading package wordnet to /root/nltk_data...\n",
            "[nltk_data]   Package wordnet is already up-to-date!\n"
          ]
        },
        {
          "output_type": "execute_result",
          "data": {
            "text/plain": [
              "True"
            ]
          },
          "metadata": {},
          "execution_count": 94
        }
      ]
    },
    {
      "cell_type": "code",
      "metadata": {
        "id": "wGaHY7jbK_L7"
      },
      "source": [
        "stop_words = set(stopwords.words('english'))\n",
        "lemma = WordNetLemmatizer()"
      ],
      "execution_count": 95,
      "outputs": []
    },
    {
      "cell_type": "markdown",
      "metadata": {
        "id": "qxxjfkLRVorL"
      },
      "source": [
        "We will now set up our cleaning function."
      ]
    },
    {
      "cell_type": "code",
      "metadata": {
        "id": "DnuCn4iCLDul"
      },
      "source": [
        "def clean_text(text):\n",
        "\n",
        "  # Removing all irrelevant characters (numbers and punctuation)                           \n",
        "  text = re.sub('[^a-zA-Z]', ' ', text)                           \n",
        "  # Replace one or more spaces with single space\n",
        "  text = re.sub(r'\\s+', ' ', text)                                \n",
        "  # Convert all characters into lowercase\n",
        "  text = str(text).lower()                                        \n",
        "  # Tokenization\n",
        "  text = word_tokenize(text)\n",
        "  # Removing Stopwords                                      \n",
        "  text = [item for item in text if item not in stop_words]        \n",
        "  # Lemmatization\n",
        "  text = [lemma.lemmatize(word = w, pos = 'v') for w in text]     \n",
        "  # Remove the words having length <= 2\n",
        "  text = [i for i in text if len(i) > 2]                          \n",
        "  # Convert the list of tokens into back to the string\n",
        "  text = ' '.join (text)                                          \n",
        "  \n",
        "  return text "
      ],
      "execution_count": 96,
      "outputs": []
    },
    {
      "cell_type": "code",
      "metadata": {
        "id": "Isvcq_SgLIH0"
      },
      "source": [
        "df['clean_narrative'] = df['narrative'].apply(clean_text)"
      ],
      "execution_count": 97,
      "outputs": []
    },
    {
      "cell_type": "code",
      "metadata": {
        "colab": {
          "base_uri": "https://localhost:8080/",
          "height": 37
        },
        "id": "3tE_F3Q1clVj",
        "outputId": "5d040973-6ff0-4b45-f94d-0c3768bd90f9"
      },
      "source": [
        "all_text = str()\n",
        "\n",
        "for sentence in df['clean_narrative'].values:\n",
        "    all_text += sentence\n",
        "    \n",
        "''.join(set(all_text))"
      ],
      "execution_count": 98,
      "outputs": [
        {
          "output_type": "execute_result",
          "data": {
            "application/vnd.google.colaboratory.intrinsic+json": {
              "type": "string"
            },
            "text/plain": [
              "'hrtze mqxsigjauvnywpckdbolf'"
            ]
          },
          "metadata": {},
          "execution_count": 98
        }
      ]
    },
    {
      "cell_type": "markdown",
      "metadata": {
        "id": "nhFy4N0WGt2D"
      },
      "source": [
        "When working with unstructured text data, we will inevitably find misspelled words. Luckily, SpellChecker can fix this."
      ]
    },
    {
      "cell_type": "code",
      "metadata": {
        "colab": {
          "base_uri": "https://localhost:8080/"
        },
        "id": "sMt_onuPxxIc",
        "outputId": "19d3379c-072b-421f-a75b-d7a10f61ef37"
      },
      "source": [
        "pip install pyspellchecker"
      ],
      "execution_count": 99,
      "outputs": [
        {
          "output_type": "stream",
          "name": "stdout",
          "text": [
            "Requirement already satisfied: pyspellchecker in /usr/local/lib/python3.7/dist-packages (0.6.2)\n"
          ]
        }
      ]
    },
    {
      "cell_type": "code",
      "metadata": {
        "id": "6_BLOHcCz4WM"
      },
      "source": [
        "from spellchecker import SpellChecker"
      ],
      "execution_count": 100,
      "outputs": []
    },
    {
      "cell_type": "code",
      "metadata": {
        "id": "v4_Q-pW2z7Co"
      },
      "source": [
        "# Instantiate spell checker\n",
        "spell = SpellChecker()"
      ],
      "execution_count": 101,
      "outputs": []
    },
    {
      "cell_type": "code",
      "metadata": {
        "id": "Mlas10WNz-1c"
      },
      "source": [
        "# Correct spelling\n",
        "def correct_spellings(text):\n",
        "    \n",
        "    corrected_text = []\n",
        "    misspelled_words = spell.unknown(text.split())\n",
        "    for word in text.split():\n",
        "        if word in misspelled_words:\n",
        "            corrected_text.append(spell.correction(word))\n",
        "        else:\n",
        "            corrected_text.append(word)\n",
        "    \n",
        "    return ' '.join(corrected_text)"
      ],
      "execution_count": 102,
      "outputs": []
    },
    {
      "cell_type": "code",
      "metadata": {
        "id": "uyqDS5e30DLD"
      },
      "source": [
        "df['clean_narrative'] = df['clean_narrative'].apply(correct_spellings)"
      ],
      "execution_count": 103,
      "outputs": []
    },
    {
      "cell_type": "code",
      "metadata": {
        "colab": {
          "base_uri": "https://localhost:8080/",
          "height": 419
        },
        "id": "49MdafmExKf3",
        "outputId": "18c13677-e28f-4d7e-f4b6-e117b02e9afb"
      },
      "source": [
        "df[['narrative', 'clean_narrative']]"
      ],
      "execution_count": 104,
      "outputs": [
        {
          "output_type": "execute_result",
          "data": {
            "text/html": [
              "<div>\n",
              "<style scoped>\n",
              "    .dataframe tbody tr th:only-of-type {\n",
              "        vertical-align: middle;\n",
              "    }\n",
              "\n",
              "    .dataframe tbody tr th {\n",
              "        vertical-align: top;\n",
              "    }\n",
              "\n",
              "    .dataframe thead th {\n",
              "        text-align: right;\n",
              "    }\n",
              "</style>\n",
              "<table border=\"1\" class=\"dataframe\">\n",
              "  <thead>\n",
              "    <tr style=\"text-align: right;\">\n",
              "      <th></th>\n",
              "      <th>narrative</th>\n",
              "      <th>clean_narrative</th>\n",
              "    </tr>\n",
              "  </thead>\n",
              "  <tbody>\n",
              "    <tr>\n",
              "      <th>0</th>\n",
              "      <td>purchase order day shipping amount receive pro...</td>\n",
              "      <td>purchase order day ship amount receive product...</td>\n",
              "    </tr>\n",
              "    <tr>\n",
              "      <th>1</th>\n",
              "      <td>forwarded message date tue subject please inve...</td>\n",
              "      <td>forward message date tue subject please invest...</td>\n",
              "    </tr>\n",
              "    <tr>\n",
              "      <th>2</th>\n",
              "      <td>forwarded message cc sent friday pdt subject f...</td>\n",
              "      <td>forward message send friday put subject final ...</td>\n",
              "    </tr>\n",
              "    <tr>\n",
              "      <th>3</th>\n",
              "      <td>payment history missing credit report speciali...</td>\n",
              "      <td>payment history miss credit report specialize ...</td>\n",
              "    </tr>\n",
              "    <tr>\n",
              "      <th>4</th>\n",
              "      <td>payment history missing credit report made mis...</td>\n",
              "      <td>payment history miss credit report make mistak...</td>\n",
              "    </tr>\n",
              "    <tr>\n",
              "      <th>...</th>\n",
              "      <td>...</td>\n",
              "      <td>...</td>\n",
              "    </tr>\n",
              "    <tr>\n",
              "      <th>995</th>\n",
              "      <td>bank america add hard inquiry credit report pe...</td>\n",
              "      <td>bank america add hard inquiry credit report pe...</td>\n",
              "    </tr>\n",
              "    <tr>\n",
              "      <th>996</th>\n",
              "      <td>opened premium checking bundle advertised main...</td>\n",
              "      <td>open premium check bundle advertise main land ...</td>\n",
              "    </tr>\n",
              "    <tr>\n",
              "      <th>997</th>\n",
              "      <td>opened premium checking bundle advertised main...</td>\n",
              "      <td>open premium check bundle advertise main land ...</td>\n",
              "    </tr>\n",
              "    <tr>\n",
              "      <th>998</th>\n",
              "      <td>original account number date original account ...</td>\n",
              "      <td>original account number date original account ...</td>\n",
              "    </tr>\n",
              "    <tr>\n",
              "      <th>999</th>\n",
              "      <td>please provide actual credit card contract upo...</td>\n",
              "      <td>please provide actual credit card contract upo...</td>\n",
              "    </tr>\n",
              "  </tbody>\n",
              "</table>\n",
              "<p>1000 rows × 2 columns</p>\n",
              "</div>"
            ],
            "text/plain": [
              "                                             narrative                                    clean_narrative\n",
              "0    purchase order day shipping amount receive pro...  purchase order day ship amount receive product...\n",
              "1    forwarded message date tue subject please inve...  forward message date tue subject please invest...\n",
              "2    forwarded message cc sent friday pdt subject f...  forward message send friday put subject final ...\n",
              "3    payment history missing credit report speciali...  payment history miss credit report specialize ...\n",
              "4    payment history missing credit report made mis...  payment history miss credit report make mistak...\n",
              "..                                                 ...                                                ...\n",
              "995  bank america add hard inquiry credit report pe...  bank america add hard inquiry credit report pe...\n",
              "996  opened premium checking bundle advertised main...  open premium check bundle advertise main land ...\n",
              "997  opened premium checking bundle advertised main...  open premium check bundle advertise main land ...\n",
              "998  original account number date original account ...  original account number date original account ...\n",
              "999  please provide actual credit card contract upo...  please provide actual credit card contract upo...\n",
              "\n",
              "[1000 rows x 2 columns]"
            ]
          },
          "metadata": {},
          "execution_count": 104
        }
      ]
    },
    {
      "cell_type": "code",
      "metadata": {
        "colab": {
          "base_uri": "https://localhost:8080/",
          "height": 241
        },
        "id": "I2MnAYB72bdK",
        "outputId": "5682f4d0-221f-4751-8ba5-5be1387e7b63"
      },
      "source": [
        "# Display full strings\n",
        "with pd.option_context('display.max_colwidth', None):\n",
        "  display(df['clean_narrative'])"
      ],
      "execution_count": 105,
      "outputs": [
        {
          "output_type": "display_data",
          "data": {
            "text/plain": [
              "0                                                                                                                                                                                                                                                                                                                                                                                                                                                                                                                                                               purchase order day ship amount receive product week send followup email exact verbiage pay two day ship receive order company respond sorry inform due unusually high order volume order ship several week stock since early due high demand although continue take order guarantee receive order place due time mask order exact ship date right however guarantee ship soon soon deliver product get small shipment ship first come first serve basis appreciate patience fulfill order quickly recommend keep order lose place line cancel distributor stock moment prefer cancel please note ask via email cancel accordance cancellation policy agree checkout electronic inventory online request order cancel refund issue cancel order send verification order cancel refund item particulate respirator refund subtotal ship tax total usd visa end refund call dispute amount state nothing need submit address issue recharge item remove call back dispute amount transaction rebillmerchandiserobert purchase thu post wed purchase appear statement transaction refill follow see status case submit documentation show cancel order suppose submit refund call back speak manager case state dispute rule favor charge remove card capital one remove purchase bill purchase adjustmentmerchandiserobert post fri purchase appear statement purchase adjustment capital one recharge amount transaction rebillmerchandiserobert purchase thu post mon purchase appear statement transaction refill call capital one request recharge state visa rule case pretend remove purchase know anything case manager rule favor\n",
              "1                                                                                                                                                                                                                                                                                                                                                                                                                                                                                                                                                                                                                                                                                                                                                                                                                                                                                                                                                                                                                                                                                                                                                                                                                                                                                                           forward message date tue subject please investigate comunity bank retailer card scam send hello name scammed comunity bank credit card provider company childrens place new york forever victoria secret original credit comunity bank lower limit begin charge overage fee along late fee begin pay close attention card find limit also change well incur overage late fee reach company comunity bank state would change credit limit original limit reach tell summit payment account correct comunity bank credit card impact credit score plummet negative status currently pay price due corruption affect detrimental way debt due company charge overage fee well late fee even initial credit limit fluctuate tremendously company charge major fee account will correct account nervous say attorney reason reach employee company ruin credit ply help name contact info thank\n",
              "2                                                                                                                                                                                                                                                                                                                                                                                                                                                                                                                                                                                                                                                                                                                                                                                                                                                                                                                                                                        forward message send friday put subject final legal payment well fargo well fargo clearly wrong need look actually open account see court hear several different government agency report well include branch put open account numerous fraudulent charge debit card connect account clearly due fact well fargo maintain clearly require encryption card keep secure add damage request small claim lawsuit time take away run business branch require come branch multiple time get fraudulent charge remove actually present strong case proper consumer protection agency well fargo immediately bar issue account debit card insure agency card adequate prevent fraudulent use also request punitive treble damage sum hour take work handle lawsuit along legal cost file lawsuit county small claim court today well fargo outrageous fraudulent conduct clearly warrant punitive damage also share every possible consumer protection agency find would think well fargo enough adverse publicity fraudulent conduct last year introduce small claim suit clearly establish well fargo establish business practice fraud customer judge really need remind might want immediately run bonus payment legal department\n",
              "3                                                                                                                                                                                                                                                                                                                                                                                                                                                                                                                                                                                                                                                                                                                                                                                                                                                                                                                                                                                                                                                                                                                                                                                                                                                                                                                 payment history miss credit report specialize loan service make mistake put account forbearance without authorization knowledge matter fact automatic payment setup month monthly mortgage pay full notice issue account mark forbearance credit report try get new home loan another new bank contact immediately ask fix error provide letter detail please see ask forbearance issue seem fix however credit report payment history miss new bank able approve new loan issue miss payment history contact specialize loan service time since phone ask thing report payment history fix miss data issue provide letter show account never forbearance payment history past month however wait week countless email phone call talk multiple supervisor able get either one thing without issue fix new bank process new loan application therefore need help immediately get fix\n",
              "4                                                                                                                                                                                                                                                                                                                                                                                                                                                                                                                                                                                                                                                                                                                                                                                                                                                                                                                                                                                                                                                                                                                                                                                                                                                                                                                                                      payment history miss credit report make mistake put account forbearance without authorization knowledge matter fact automatic payment setup month monthly mortgage pay full notice issue account mark forbearance credit report try get new home loan another new bank contact immediately ask fix error provide letter detail please see ask forbearance issue seem fix however credit report payment history miss new bank able approve new loan issue miss payment history contact time since phone ask thing report payment history transition fix miss data issue provide letter show account never forbearance payment history past month however wait week countless email phone call talk multiple supervisor able get either one thing without issue fix new bank process new loan application therefore need help immediately get fix\n",
              "                                                                                                                                                                                                                                                                                                                                                                                                                                                                                                                                                                                                                                                                                                                                                                                                                                                                                                                                                                                                                                                                                                    ...                                                                                                                                                                                                                                                                                                                                                                                                                                                                                                                                                                                                                                                                                                                                                                                                                                                                                                                                                                                                                                                                                               \n",
              "995                                                                                                                                                                                                                                                                                                                                                                                                                                                                                                                                                                                                                                                                                                                                                                                                                                                                                                                                                                                                                                                                                                                                                                                                                                                                                                                                                                                                                                                                                                                                                                                                                                                                                                                                                                                                                                                                                                                                                                                                                                                                 bank america add hard inquiry credit report per bank america add hard inquiry credit report per add hard inquiry credit report per\n",
              "996                                                                                                                                                                                                                                                                                                                                                                                                                                                                                                                                                                                                                                                                                                                                                                                                                                                                                                                                                                                                                                                                                                                                                                                                                                                                                                                                                                                                                                                                                                                                                                                                                                                                                                                                                        open premium check bundle advertise main land page first citizen bank get sign bonus fulfil follow condition earn open new premier check bundle complete follow requirement maintain combine check save average deposit balance day establish direct deposit least per month make debit card transaction within day account open open new save account condition meet multiple email phone call bank last month get positive response bonus\n",
              "997                                                                                                                                                                                                                                                                                                                                                                                                                                                                                                                                                                                                                                                                                                                                                                                                                                                                                                                                                                                                                                                                                                                                                                                                                                                                                                                                                                                                                                                                                                                                                                                                                                                                                                                                                        open premium check bundle advertise main land page first citizen bank get sign bonus fulfil follow condition earn open new premier check bundle complete follow requirement maintain combine check save average deposit balance day establish direct deposit least per month make debit card transaction within day account open open new save account condition meet multiple email phone call bank last month get positive response bonus\n",
              "998                                                                                                                                                                                                                                                                                                                                                                                                                                                                                                                                                                                                                                                                                                                                                                                                                                                                                                                                                                                                                                                                                                                                                                                                                                                                                                                                                                                                                                                                                                                                                                                                                                                                                                                                                                                                                           original account number date original account open write agreement original creditor state debt owe full account summary itemize calculation allege debt date first delinquency date time phone call make number attempt contact concern allege debt report agency prove call make time govern fda law knowledge account please provide validation account sign contract\n",
              "999    please provide actual credit card contract upon complaint base please provide contract agreement assignment mean demonstrate plaintiff authority legally entitle collect allege debt please furnish reasonable proof original copy assignment agreement assignment agreement transfer allege contract account question capital one bank show assignment make real party interest please provide copy assignment capital one bank please provide evidence defendant allege debt plaintiff include specifically allege contract plaintiff defendant instrument construct solely purpose create loan agreement plaintiff defendant bear defendant signature please produce contract legally require defendant pay amount enter complaint please provide original copy account agreement state interest rate grace period finance charge assignment specifically state law agreement account govern plus important fact please provide copy amount pay consideration due allege please provide evidence authorization plaintiff business create loan issue extend credit collect debt operate state plaintiff conduct business please provide evidence authorization plaintiff attorney business create loan issue extend credit collect debt operate financial business state california please provide document document prof send defendant notification assignment account assignment right please attach notice send defendant plaintiff regard account demand payment please attach copy statement generate allege account open plaintiff please attach complete accurate history interest charge allege account plaintiff show exact date interest rate change list various rate charge debt please attach notice send defendant plaintiff announce change interest fee penalty term allege debt identify credit report agency credit bureau plaintiff report defendant debt date report please provide original dun letter send defendant please attach notice send defendant plaintiff regard account announce transfer assignment credit card account plaintiff collection agency collection attorney please attach copy agreement plaintiff grant attorney authority collect allege debt\n",
              "Name: clean_narrative, Length: 1000, dtype: object"
            ]
          },
          "metadata": {}
        }
      ]
    },
    {
      "cell_type": "markdown",
      "metadata": {
        "id": "4trJ9qD2lUug"
      },
      "source": [
        "**Testing for GPU**"
      ]
    },
    {
      "cell_type": "code",
      "metadata": {
        "id": "nKU2Juix2aJz"
      },
      "source": [
        "import torch"
      ],
      "execution_count": 106,
      "outputs": []
    },
    {
      "cell_type": "code",
      "metadata": {
        "colab": {
          "base_uri": "https://localhost:8080/"
        },
        "id": "IXcNY9mqbE20",
        "outputId": "a5b1691e-2add-49c5-ccd0-300699e282ba"
      },
      "source": [
        "# Whether cuda is available\n",
        "torch.cuda.is_available()"
      ],
      "execution_count": 107,
      "outputs": [
        {
          "output_type": "execute_result",
          "data": {
            "text/plain": [
              "True"
            ]
          },
          "metadata": {},
          "execution_count": 107
        }
      ]
    },
    {
      "cell_type": "code",
      "metadata": {
        "id": "61WrcWVM1D9G"
      },
      "source": [
        "# Load\n",
        "device = torch.cuda.current_device() if torch.cuda.is_available() else -1"
      ],
      "execution_count": 108,
      "outputs": []
    },
    {
      "cell_type": "code",
      "metadata": {
        "colab": {
          "base_uri": "https://localhost:8080/"
        },
        "id": "mVXlDgauQbRm",
        "outputId": "d94fcba7-46a3-4395-dd88-90a6d0632cfe"
      },
      "source": [
        "print(device)"
      ],
      "execution_count": 109,
      "outputs": [
        {
          "output_type": "stream",
          "name": "stdout",
          "text": [
            "0\n"
          ]
        }
      ]
    },
    {
      "cell_type": "markdown",
      "metadata": {
        "id": "rp5xjY035KWg"
      },
      "source": [
        "**Transformer Pipeline**"
      ]
    },
    {
      "cell_type": "markdown",
      "metadata": {
        "id": "_Vyq39PY5oHe"
      },
      "source": [
        "We will use the pipeline( ) function to load the zero-shot-classification transformer and set it to use the valhalla/distilbart-mnli-12-9 model. "
      ]
    },
    {
      "cell_type": "code",
      "metadata": {
        "id": "6J5xdE-Fmlg_"
      },
      "source": [
        "from transformers import pipeline"
      ],
      "execution_count": 110,
      "outputs": []
    },
    {
      "cell_type": "code",
      "metadata": {
        "id": "_qxt0aG8n_UY"
      },
      "source": [
        "task = 'zero-shot-classification'\n",
        "zero_shot_model = 'valhalla/distilbart-mnli-12-9'\n",
        "zero_shot_classifier = pipeline(task, zero_shot_model, device = device)"
      ],
      "execution_count": 111,
      "outputs": []
    },
    {
      "cell_type": "markdown",
      "metadata": {
        "id": "xpqHLHTj6W9-"
      },
      "source": [
        "We can use this pipeline by passing in a sequence and a list of candidate labels. The pipeline assumes by default that only one of the candidate labels is true, returning a list of scores for each label which add up to 1."
      ]
    },
    {
      "cell_type": "code",
      "metadata": {
        "id": "6soFj157HKuJ"
      },
      "source": [
        "sequence = df['clean_narrative'][0]"
      ],
      "execution_count": 112,
      "outputs": []
    },
    {
      "cell_type": "code",
      "metadata": {
        "id": "UlneV5ukIFX7"
      },
      "source": [
        "candidate_labels = ['credit_reporting',       \n",
        "                    'debt_collection',        \n",
        "                    'mortgages_and_loans',    \n",
        "                    'retail_banking',          \n",
        "                    'credit_card'] "
      ],
      "execution_count": 113,
      "outputs": []
    },
    {
      "cell_type": "code",
      "metadata": {
        "id": "-DIe-I-zx4fT"
      },
      "source": [
        "outputs = zero_shot_classifier(sequences = sequence, candidate_labels = candidate_labels)"
      ],
      "execution_count": 114,
      "outputs": []
    },
    {
      "cell_type": "markdown",
      "metadata": {
        "id": "d_cd0RLY6uNg"
      },
      "source": [
        "Let’s take a look at the outputs."
      ]
    },
    {
      "cell_type": "code",
      "metadata": {
        "id": "cFx_VAeT4kRE",
        "colab": {
          "base_uri": "https://localhost:8080/"
        },
        "outputId": "66cea01f-9f42-4f77-fa8e-3a4a0b5efc1b"
      },
      "source": [
        "for label, score in zip(outputs['labels'], outputs['scores']):\n",
        "    print(f'{label}: {score:.3f}')"
      ],
      "execution_count": 115,
      "outputs": [
        {
          "output_type": "stream",
          "name": "stdout",
          "text": [
            "credit_card: 0.563\n",
            "credit_reporting: 0.143\n",
            "debt_collection: 0.132\n",
            "retail_banking: 0.106\n",
            "mortgages_and_loans: 0.055\n"
          ]
        }
      ]
    },
    {
      "cell_type": "markdown",
      "metadata": {
        "id": "DytT3bx468UB"
      },
      "source": [
        "The model correctly identifies that the likely label is credit_card. Other irrelevant labels, such as credit_reporting, debt_collection, retail_banking and mortgages_and_loans, have a very low score."
      ]
    },
    {
      "cell_type": "markdown",
      "metadata": {
        "id": "vaHnu16QjyuH"
      },
      "source": [
        "**Classify all the submissions**"
      ]
    },
    {
      "cell_type": "code",
      "metadata": {
        "id": "AqJRPYalSXFj"
      },
      "source": [
        "task = 'zero-shot-classification'\n",
        "zero_shot_model = 'valhalla/distilbart-mnli-12-9'\n",
        "classifier = pipeline(task, zero_shot_model, device = device) "
      ],
      "execution_count": 116,
      "outputs": []
    },
    {
      "cell_type": "code",
      "metadata": {
        "id": "F0SJ9knVSgCJ"
      },
      "source": [
        "candidate_labels = ['credit_reporting',       \n",
        "                    'debt_collection',        \n",
        "                    'mortgages_and_loans',    \n",
        "                    'retail_banking',          \n",
        "                    'credit_card']  "
      ],
      "execution_count": 117,
      "outputs": []
    },
    {
      "cell_type": "code",
      "metadata": {
        "id": "GMzKISC6r8M8",
        "colab": {
          "base_uri": "https://localhost:8080/"
        },
        "outputId": "e13553ff-e9cb-49ab-d549-7272763b1d0c"
      },
      "source": [
        "# Compute the predicted label for each submission\n",
        "df['label_pred_zero_shot'] = df['clean_narrative'].apply(lambda x: classifier(x, candidate_labels = candidate_labels)['labels'][0])"
      ],
      "execution_count": 118,
      "outputs": [
        {
          "output_type": "stream",
          "name": "stderr",
          "text": [
            "/usr/local/lib/python3.7/dist-packages/transformers/pipelines/base.py:910: UserWarning: You seem to be using the pipelines sequentially on GPU. In order to maximize efficiency please use a dataset\n",
            "  UserWarning,\n"
          ]
        }
      ]
    },
    {
      "cell_type": "markdown",
      "metadata": {
        "id": "xtA8sPS_iwdO"
      },
      "source": [
        "At this point, we have a dataset that contains labels produced by the zero-shot classifier."
      ]
    },
    {
      "cell_type": "code",
      "metadata": {
        "id": "DS0PiQx1iy8l",
        "colab": {
          "base_uri": "https://localhost:8080/",
          "height": 419
        },
        "outputId": "1e4000d8-a64b-46b0-fd82-484c35ba1819"
      },
      "source": [
        "df[['product','label_pred_zero_shot']]"
      ],
      "execution_count": 119,
      "outputs": [
        {
          "output_type": "execute_result",
          "data": {
            "text/html": [
              "<div>\n",
              "<style scoped>\n",
              "    .dataframe tbody tr th:only-of-type {\n",
              "        vertical-align: middle;\n",
              "    }\n",
              "\n",
              "    .dataframe tbody tr th {\n",
              "        vertical-align: top;\n",
              "    }\n",
              "\n",
              "    .dataframe thead th {\n",
              "        text-align: right;\n",
              "    }\n",
              "</style>\n",
              "<table border=\"1\" class=\"dataframe\">\n",
              "  <thead>\n",
              "    <tr style=\"text-align: right;\">\n",
              "      <th></th>\n",
              "      <th>product</th>\n",
              "      <th>label_pred_zero_shot</th>\n",
              "    </tr>\n",
              "  </thead>\n",
              "  <tbody>\n",
              "    <tr>\n",
              "      <th>0</th>\n",
              "      <td>credit_card</td>\n",
              "      <td>credit_card</td>\n",
              "    </tr>\n",
              "    <tr>\n",
              "      <th>1</th>\n",
              "      <td>credit_card</td>\n",
              "      <td>retail_banking</td>\n",
              "    </tr>\n",
              "    <tr>\n",
              "      <th>2</th>\n",
              "      <td>retail_banking</td>\n",
              "      <td>credit_card</td>\n",
              "    </tr>\n",
              "    <tr>\n",
              "      <th>3</th>\n",
              "      <td>credit_reporting</td>\n",
              "      <td>credit_reporting</td>\n",
              "    </tr>\n",
              "    <tr>\n",
              "      <th>4</th>\n",
              "      <td>credit_reporting</td>\n",
              "      <td>credit_reporting</td>\n",
              "    </tr>\n",
              "    <tr>\n",
              "      <th>...</th>\n",
              "      <td>...</td>\n",
              "      <td>...</td>\n",
              "    </tr>\n",
              "    <tr>\n",
              "      <th>995</th>\n",
              "      <td>credit_reporting</td>\n",
              "      <td>credit_reporting</td>\n",
              "    </tr>\n",
              "    <tr>\n",
              "      <th>996</th>\n",
              "      <td>retail_banking</td>\n",
              "      <td>retail_banking</td>\n",
              "    </tr>\n",
              "    <tr>\n",
              "      <th>997</th>\n",
              "      <td>retail_banking</td>\n",
              "      <td>retail_banking</td>\n",
              "    </tr>\n",
              "    <tr>\n",
              "      <th>998</th>\n",
              "      <td>debt_collection</td>\n",
              "      <td>credit_reporting</td>\n",
              "    </tr>\n",
              "    <tr>\n",
              "      <th>999</th>\n",
              "      <td>debt_collection</td>\n",
              "      <td>credit_card</td>\n",
              "    </tr>\n",
              "  </tbody>\n",
              "</table>\n",
              "<p>1000 rows × 2 columns</p>\n",
              "</div>"
            ],
            "text/plain": [
              "              product label_pred_zero_shot\n",
              "0         credit_card          credit_card\n",
              "1         credit_card       retail_banking\n",
              "2      retail_banking          credit_card\n",
              "3    credit_reporting     credit_reporting\n",
              "4    credit_reporting     credit_reporting\n",
              "..                ...                  ...\n",
              "995  credit_reporting     credit_reporting\n",
              "996    retail_banking       retail_banking\n",
              "997    retail_banking       retail_banking\n",
              "998   debt_collection     credit_reporting\n",
              "999   debt_collection          credit_card\n",
              "\n",
              "[1000 rows x 2 columns]"
            ]
          },
          "metadata": {},
          "execution_count": 119
        }
      ]
    },
    {
      "cell_type": "markdown",
      "metadata": {
        "id": "1HErlDt4ieQf"
      },
      "source": [
        "Finally, the model can be evaluated using the original datasets already labelled evaluation data."
      ]
    },
    {
      "cell_type": "code",
      "metadata": {
        "id": "Lf9zxVUGoNi6"
      },
      "source": [
        "from sklearn.metrics import accuracy_score"
      ],
      "execution_count": 120,
      "outputs": []
    },
    {
      "cell_type": "code",
      "metadata": {
        "colab": {
          "base_uri": "https://localhost:8080/"
        },
        "id": "Omn7s3NWjBw1",
        "outputId": "1bb9d871-34af-4136-d933-7326a6f36b26"
      },
      "source": [
        "# Accuracy classification score\n",
        "accuracy_score(df['product'], df['label_pred_zero_shot'])"
      ],
      "execution_count": 121,
      "outputs": [
        {
          "output_type": "execute_result",
          "data": {
            "text/plain": [
              "0.756"
            ]
          },
          "metadata": {},
          "execution_count": 121
        }
      ]
    },
    {
      "cell_type": "markdown",
      "metadata": {
        "id": "sqWZAKpgOujg"
      },
      "source": [
        "The zero-shot classifier does a decent job. Glancing at a few random submissions uncorrectly labeled by the zero-shot classifier, there does not seem to be a particularly problematic class."
      ]
    }
  ]
}