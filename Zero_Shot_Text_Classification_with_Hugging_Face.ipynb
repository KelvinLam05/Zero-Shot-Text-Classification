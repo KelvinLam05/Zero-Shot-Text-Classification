{
  "nbformat": 4,
  "nbformat_minor": 0,
  "metadata": {
    "colab": {
      "name": "Zero-Shot Text Classification with Hugging Face.ipynb",
      "provenance": [],
      "collapsed_sections": [],
      "authorship_tag": "ABX9TyMXOOj+PP9BiL6/7ShwjcNw",
      "include_colab_link": true
    },
    "kernelspec": {
      "display_name": "Python 3",
      "name": "python3"
    },
    "language_info": {
      "name": "python"
    },
    "widgets": {
      "application/vnd.jupyter.widget-state+json": {
        "62d8b2c5e5bc486f8c8a3f4025da1483": {
          "model_module": "@jupyter-widgets/controls",
          "model_name": "HBoxModel",
          "model_module_version": "1.5.0",
          "state": {
            "_view_name": "HBoxView",
            "_dom_classes": [],
            "_model_name": "HBoxModel",
            "_view_module": "@jupyter-widgets/controls",
            "_model_module_version": "1.5.0",
            "_view_count": null,
            "_view_module_version": "1.5.0",
            "box_style": "",
            "layout": "IPY_MODEL_27eaef9fcd384c5086049128952a1429",
            "_model_module": "@jupyter-widgets/controls",
            "children": [
              "IPY_MODEL_8e064588f7244f5ba83251070dbb0f35",
              "IPY_MODEL_cfa17e7efde844ca99af14c039c17aae",
              "IPY_MODEL_38ba530aead94fb9a075ceb29bf7a816"
            ]
          }
        },
        "27eaef9fcd384c5086049128952a1429": {
          "model_module": "@jupyter-widgets/base",
          "model_name": "LayoutModel",
          "model_module_version": "1.2.0",
          "state": {
            "_view_name": "LayoutView",
            "grid_template_rows": null,
            "right": null,
            "justify_content": null,
            "_view_module": "@jupyter-widgets/base",
            "overflow": null,
            "_model_module_version": "1.2.0",
            "_view_count": null,
            "flex_flow": null,
            "width": null,
            "min_width": null,
            "border": null,
            "align_items": null,
            "bottom": null,
            "_model_module": "@jupyter-widgets/base",
            "top": null,
            "grid_column": null,
            "overflow_y": null,
            "overflow_x": null,
            "grid_auto_flow": null,
            "grid_area": null,
            "grid_template_columns": null,
            "flex": null,
            "_model_name": "LayoutModel",
            "justify_items": null,
            "grid_row": null,
            "max_height": null,
            "align_content": null,
            "visibility": null,
            "align_self": null,
            "height": null,
            "min_height": null,
            "padding": null,
            "grid_auto_rows": null,
            "grid_gap": null,
            "max_width": null,
            "order": null,
            "_view_module_version": "1.2.0",
            "grid_template_areas": null,
            "object_position": null,
            "object_fit": null,
            "grid_auto_columns": null,
            "margin": null,
            "display": null,
            "left": null
          }
        },
        "8e064588f7244f5ba83251070dbb0f35": {
          "model_module": "@jupyter-widgets/controls",
          "model_name": "HTMLModel",
          "model_module_version": "1.5.0",
          "state": {
            "_view_name": "HTMLView",
            "style": "IPY_MODEL_64f2e5b84df7460986245a910fdb6d05",
            "_dom_classes": [],
            "description": "",
            "_model_name": "HTMLModel",
            "placeholder": "​",
            "_view_module": "@jupyter-widgets/controls",
            "_model_module_version": "1.5.0",
            "value": "Downloading: 100%",
            "_view_count": null,
            "_view_module_version": "1.5.0",
            "description_tooltip": null,
            "_model_module": "@jupyter-widgets/controls",
            "layout": "IPY_MODEL_95572e3d6ef04f95affc0b014de5069f"
          }
        },
        "cfa17e7efde844ca99af14c039c17aae": {
          "model_module": "@jupyter-widgets/controls",
          "model_name": "FloatProgressModel",
          "model_module_version": "1.5.0",
          "state": {
            "_view_name": "ProgressView",
            "style": "IPY_MODEL_3657a0c733d141cb8c32a2b6af300b24",
            "_dom_classes": [],
            "description": "",
            "_model_name": "FloatProgressModel",
            "bar_style": "success",
            "max": 1197,
            "_view_module": "@jupyter-widgets/controls",
            "_model_module_version": "1.5.0",
            "value": 1197,
            "_view_count": null,
            "_view_module_version": "1.5.0",
            "orientation": "horizontal",
            "min": 0,
            "description_tooltip": null,
            "_model_module": "@jupyter-widgets/controls",
            "layout": "IPY_MODEL_5366d9e6ece6402dae843847effa17a6"
          }
        },
        "38ba530aead94fb9a075ceb29bf7a816": {
          "model_module": "@jupyter-widgets/controls",
          "model_name": "HTMLModel",
          "model_module_version": "1.5.0",
          "state": {
            "_view_name": "HTMLView",
            "style": "IPY_MODEL_c23d1bbf1318472dbdf325b30e6d69ef",
            "_dom_classes": [],
            "description": "",
            "_model_name": "HTMLModel",
            "placeholder": "​",
            "_view_module": "@jupyter-widgets/controls",
            "_model_module_version": "1.5.0",
            "value": " 1.20k/1.20k [00:00&lt;00:00, 28.4kB/s]",
            "_view_count": null,
            "_view_module_version": "1.5.0",
            "description_tooltip": null,
            "_model_module": "@jupyter-widgets/controls",
            "layout": "IPY_MODEL_4c4944510c8340009b3f8a0d81118cd1"
          }
        },
        "64f2e5b84df7460986245a910fdb6d05": {
          "model_module": "@jupyter-widgets/controls",
          "model_name": "DescriptionStyleModel",
          "model_module_version": "1.5.0",
          "state": {
            "_view_name": "StyleView",
            "_model_name": "DescriptionStyleModel",
            "description_width": "",
            "_view_module": "@jupyter-widgets/base",
            "_model_module_version": "1.5.0",
            "_view_count": null,
            "_view_module_version": "1.2.0",
            "_model_module": "@jupyter-widgets/controls"
          }
        },
        "95572e3d6ef04f95affc0b014de5069f": {
          "model_module": "@jupyter-widgets/base",
          "model_name": "LayoutModel",
          "model_module_version": "1.2.0",
          "state": {
            "_view_name": "LayoutView",
            "grid_template_rows": null,
            "right": null,
            "justify_content": null,
            "_view_module": "@jupyter-widgets/base",
            "overflow": null,
            "_model_module_version": "1.2.0",
            "_view_count": null,
            "flex_flow": null,
            "width": null,
            "min_width": null,
            "border": null,
            "align_items": null,
            "bottom": null,
            "_model_module": "@jupyter-widgets/base",
            "top": null,
            "grid_column": null,
            "overflow_y": null,
            "overflow_x": null,
            "grid_auto_flow": null,
            "grid_area": null,
            "grid_template_columns": null,
            "flex": null,
            "_model_name": "LayoutModel",
            "justify_items": null,
            "grid_row": null,
            "max_height": null,
            "align_content": null,
            "visibility": null,
            "align_self": null,
            "height": null,
            "min_height": null,
            "padding": null,
            "grid_auto_rows": null,
            "grid_gap": null,
            "max_width": null,
            "order": null,
            "_view_module_version": "1.2.0",
            "grid_template_areas": null,
            "object_position": null,
            "object_fit": null,
            "grid_auto_columns": null,
            "margin": null,
            "display": null,
            "left": null
          }
        },
        "3657a0c733d141cb8c32a2b6af300b24": {
          "model_module": "@jupyter-widgets/controls",
          "model_name": "ProgressStyleModel",
          "model_module_version": "1.5.0",
          "state": {
            "_view_name": "StyleView",
            "_model_name": "ProgressStyleModel",
            "description_width": "",
            "_view_module": "@jupyter-widgets/base",
            "_model_module_version": "1.5.0",
            "_view_count": null,
            "_view_module_version": "1.2.0",
            "bar_color": null,
            "_model_module": "@jupyter-widgets/controls"
          }
        },
        "5366d9e6ece6402dae843847effa17a6": {
          "model_module": "@jupyter-widgets/base",
          "model_name": "LayoutModel",
          "model_module_version": "1.2.0",
          "state": {
            "_view_name": "LayoutView",
            "grid_template_rows": null,
            "right": null,
            "justify_content": null,
            "_view_module": "@jupyter-widgets/base",
            "overflow": null,
            "_model_module_version": "1.2.0",
            "_view_count": null,
            "flex_flow": null,
            "width": null,
            "min_width": null,
            "border": null,
            "align_items": null,
            "bottom": null,
            "_model_module": "@jupyter-widgets/base",
            "top": null,
            "grid_column": null,
            "overflow_y": null,
            "overflow_x": null,
            "grid_auto_flow": null,
            "grid_area": null,
            "grid_template_columns": null,
            "flex": null,
            "_model_name": "LayoutModel",
            "justify_items": null,
            "grid_row": null,
            "max_height": null,
            "align_content": null,
            "visibility": null,
            "align_self": null,
            "height": null,
            "min_height": null,
            "padding": null,
            "grid_auto_rows": null,
            "grid_gap": null,
            "max_width": null,
            "order": null,
            "_view_module_version": "1.2.0",
            "grid_template_areas": null,
            "object_position": null,
            "object_fit": null,
            "grid_auto_columns": null,
            "margin": null,
            "display": null,
            "left": null
          }
        },
        "c23d1bbf1318472dbdf325b30e6d69ef": {
          "model_module": "@jupyter-widgets/controls",
          "model_name": "DescriptionStyleModel",
          "model_module_version": "1.5.0",
          "state": {
            "_view_name": "StyleView",
            "_model_name": "DescriptionStyleModel",
            "description_width": "",
            "_view_module": "@jupyter-widgets/base",
            "_model_module_version": "1.5.0",
            "_view_count": null,
            "_view_module_version": "1.2.0",
            "_model_module": "@jupyter-widgets/controls"
          }
        },
        "4c4944510c8340009b3f8a0d81118cd1": {
          "model_module": "@jupyter-widgets/base",
          "model_name": "LayoutModel",
          "model_module_version": "1.2.0",
          "state": {
            "_view_name": "LayoutView",
            "grid_template_rows": null,
            "right": null,
            "justify_content": null,
            "_view_module": "@jupyter-widgets/base",
            "overflow": null,
            "_model_module_version": "1.2.0",
            "_view_count": null,
            "flex_flow": null,
            "width": null,
            "min_width": null,
            "border": null,
            "align_items": null,
            "bottom": null,
            "_model_module": "@jupyter-widgets/base",
            "top": null,
            "grid_column": null,
            "overflow_y": null,
            "overflow_x": null,
            "grid_auto_flow": null,
            "grid_area": null,
            "grid_template_columns": null,
            "flex": null,
            "_model_name": "LayoutModel",
            "justify_items": null,
            "grid_row": null,
            "max_height": null,
            "align_content": null,
            "visibility": null,
            "align_self": null,
            "height": null,
            "min_height": null,
            "padding": null,
            "grid_auto_rows": null,
            "grid_gap": null,
            "max_width": null,
            "order": null,
            "_view_module_version": "1.2.0",
            "grid_template_areas": null,
            "object_position": null,
            "object_fit": null,
            "grid_auto_columns": null,
            "margin": null,
            "display": null,
            "left": null
          }
        },
        "42d8170fc66b4222909bad6d0d35b610": {
          "model_module": "@jupyter-widgets/controls",
          "model_name": "HBoxModel",
          "model_module_version": "1.5.0",
          "state": {
            "_view_name": "HBoxView",
            "_dom_classes": [],
            "_model_name": "HBoxModel",
            "_view_module": "@jupyter-widgets/controls",
            "_model_module_version": "1.5.0",
            "_view_count": null,
            "_view_module_version": "1.5.0",
            "box_style": "",
            "layout": "IPY_MODEL_cd66ac86f4ad4bb1be3b3e4479465634",
            "_model_module": "@jupyter-widgets/controls",
            "children": [
              "IPY_MODEL_8e6415bd6ad24ba3aa189edc512f4425",
              "IPY_MODEL_68dd74749396474ba42c038e0eb4585d",
              "IPY_MODEL_bc277053c59643e2beb55dbd814769e2"
            ]
          }
        },
        "cd66ac86f4ad4bb1be3b3e4479465634": {
          "model_module": "@jupyter-widgets/base",
          "model_name": "LayoutModel",
          "model_module_version": "1.2.0",
          "state": {
            "_view_name": "LayoutView",
            "grid_template_rows": null,
            "right": null,
            "justify_content": null,
            "_view_module": "@jupyter-widgets/base",
            "overflow": null,
            "_model_module_version": "1.2.0",
            "_view_count": null,
            "flex_flow": null,
            "width": null,
            "min_width": null,
            "border": null,
            "align_items": null,
            "bottom": null,
            "_model_module": "@jupyter-widgets/base",
            "top": null,
            "grid_column": null,
            "overflow_y": null,
            "overflow_x": null,
            "grid_auto_flow": null,
            "grid_area": null,
            "grid_template_columns": null,
            "flex": null,
            "_model_name": "LayoutModel",
            "justify_items": null,
            "grid_row": null,
            "max_height": null,
            "align_content": null,
            "visibility": null,
            "align_self": null,
            "height": null,
            "min_height": null,
            "padding": null,
            "grid_auto_rows": null,
            "grid_gap": null,
            "max_width": null,
            "order": null,
            "_view_module_version": "1.2.0",
            "grid_template_areas": null,
            "object_position": null,
            "object_fit": null,
            "grid_auto_columns": null,
            "margin": null,
            "display": null,
            "left": null
          }
        },
        "8e6415bd6ad24ba3aa189edc512f4425": {
          "model_module": "@jupyter-widgets/controls",
          "model_name": "HTMLModel",
          "model_module_version": "1.5.0",
          "state": {
            "_view_name": "HTMLView",
            "style": "IPY_MODEL_b96e4621d09c46a692c16eccc1cba8d7",
            "_dom_classes": [],
            "description": "",
            "_model_name": "HTMLModel",
            "placeholder": "​",
            "_view_module": "@jupyter-widgets/controls",
            "_model_module_version": "1.5.0",
            "value": "Downloading: 100%",
            "_view_count": null,
            "_view_module_version": "1.5.0",
            "description_tooltip": null,
            "_model_module": "@jupyter-widgets/controls",
            "layout": "IPY_MODEL_da47cf277f60403b97bb30993a7a6020"
          }
        },
        "68dd74749396474ba42c038e0eb4585d": {
          "model_module": "@jupyter-widgets/controls",
          "model_name": "FloatProgressModel",
          "model_module_version": "1.5.0",
          "state": {
            "_view_name": "ProgressView",
            "style": "IPY_MODEL_392f3c0685c8474b87ec3cfba68f7b1e",
            "_dom_classes": [],
            "description": "",
            "_model_name": "FloatProgressModel",
            "bar_style": "success",
            "max": 242065649,
            "_view_module": "@jupyter-widgets/controls",
            "_model_module_version": "1.5.0",
            "value": 242065649,
            "_view_count": null,
            "_view_module_version": "1.5.0",
            "orientation": "horizontal",
            "min": 0,
            "description_tooltip": null,
            "_model_module": "@jupyter-widgets/controls",
            "layout": "IPY_MODEL_955ec16671414bf38387b3f5fc82774b"
          }
        },
        "bc277053c59643e2beb55dbd814769e2": {
          "model_module": "@jupyter-widgets/controls",
          "model_name": "HTMLModel",
          "model_module_version": "1.5.0",
          "state": {
            "_view_name": "HTMLView",
            "style": "IPY_MODEL_bc6573ae0af7467985ea91c786363c80",
            "_dom_classes": [],
            "description": "",
            "_model_name": "HTMLModel",
            "placeholder": "​",
            "_view_module": "@jupyter-widgets/controls",
            "_model_module_version": "1.5.0",
            "value": " 242M/242M [00:08&lt;00:00, 26.2MB/s]",
            "_view_count": null,
            "_view_module_version": "1.5.0",
            "description_tooltip": null,
            "_model_module": "@jupyter-widgets/controls",
            "layout": "IPY_MODEL_59a312af2dbe48dca9c198d8764e95f9"
          }
        },
        "b96e4621d09c46a692c16eccc1cba8d7": {
          "model_module": "@jupyter-widgets/controls",
          "model_name": "DescriptionStyleModel",
          "model_module_version": "1.5.0",
          "state": {
            "_view_name": "StyleView",
            "_model_name": "DescriptionStyleModel",
            "description_width": "",
            "_view_module": "@jupyter-widgets/base",
            "_model_module_version": "1.5.0",
            "_view_count": null,
            "_view_module_version": "1.2.0",
            "_model_module": "@jupyter-widgets/controls"
          }
        },
        "da47cf277f60403b97bb30993a7a6020": {
          "model_module": "@jupyter-widgets/base",
          "model_name": "LayoutModel",
          "model_module_version": "1.2.0",
          "state": {
            "_view_name": "LayoutView",
            "grid_template_rows": null,
            "right": null,
            "justify_content": null,
            "_view_module": "@jupyter-widgets/base",
            "overflow": null,
            "_model_module_version": "1.2.0",
            "_view_count": null,
            "flex_flow": null,
            "width": null,
            "min_width": null,
            "border": null,
            "align_items": null,
            "bottom": null,
            "_model_module": "@jupyter-widgets/base",
            "top": null,
            "grid_column": null,
            "overflow_y": null,
            "overflow_x": null,
            "grid_auto_flow": null,
            "grid_area": null,
            "grid_template_columns": null,
            "flex": null,
            "_model_name": "LayoutModel",
            "justify_items": null,
            "grid_row": null,
            "max_height": null,
            "align_content": null,
            "visibility": null,
            "align_self": null,
            "height": null,
            "min_height": null,
            "padding": null,
            "grid_auto_rows": null,
            "grid_gap": null,
            "max_width": null,
            "order": null,
            "_view_module_version": "1.2.0",
            "grid_template_areas": null,
            "object_position": null,
            "object_fit": null,
            "grid_auto_columns": null,
            "margin": null,
            "display": null,
            "left": null
          }
        },
        "392f3c0685c8474b87ec3cfba68f7b1e": {
          "model_module": "@jupyter-widgets/controls",
          "model_name": "ProgressStyleModel",
          "model_module_version": "1.5.0",
          "state": {
            "_view_name": "StyleView",
            "_model_name": "ProgressStyleModel",
            "description_width": "",
            "_view_module": "@jupyter-widgets/base",
            "_model_module_version": "1.5.0",
            "_view_count": null,
            "_view_module_version": "1.2.0",
            "bar_color": null,
            "_model_module": "@jupyter-widgets/controls"
          }
        },
        "955ec16671414bf38387b3f5fc82774b": {
          "model_module": "@jupyter-widgets/base",
          "model_name": "LayoutModel",
          "model_module_version": "1.2.0",
          "state": {
            "_view_name": "LayoutView",
            "grid_template_rows": null,
            "right": null,
            "justify_content": null,
            "_view_module": "@jupyter-widgets/base",
            "overflow": null,
            "_model_module_version": "1.2.0",
            "_view_count": null,
            "flex_flow": null,
            "width": null,
            "min_width": null,
            "border": null,
            "align_items": null,
            "bottom": null,
            "_model_module": "@jupyter-widgets/base",
            "top": null,
            "grid_column": null,
            "overflow_y": null,
            "overflow_x": null,
            "grid_auto_flow": null,
            "grid_area": null,
            "grid_template_columns": null,
            "flex": null,
            "_model_name": "LayoutModel",
            "justify_items": null,
            "grid_row": null,
            "max_height": null,
            "align_content": null,
            "visibility": null,
            "align_self": null,
            "height": null,
            "min_height": null,
            "padding": null,
            "grid_auto_rows": null,
            "grid_gap": null,
            "max_width": null,
            "order": null,
            "_view_module_version": "1.2.0",
            "grid_template_areas": null,
            "object_position": null,
            "object_fit": null,
            "grid_auto_columns": null,
            "margin": null,
            "display": null,
            "left": null
          }
        },
        "bc6573ae0af7467985ea91c786363c80": {
          "model_module": "@jupyter-widgets/controls",
          "model_name": "DescriptionStyleModel",
          "model_module_version": "1.5.0",
          "state": {
            "_view_name": "StyleView",
            "_model_name": "DescriptionStyleModel",
            "description_width": "",
            "_view_module": "@jupyter-widgets/base",
            "_model_module_version": "1.5.0",
            "_view_count": null,
            "_view_module_version": "1.2.0",
            "_model_module": "@jupyter-widgets/controls"
          }
        },
        "59a312af2dbe48dca9c198d8764e95f9": {
          "model_module": "@jupyter-widgets/base",
          "model_name": "LayoutModel",
          "model_module_version": "1.2.0",
          "state": {
            "_view_name": "LayoutView",
            "grid_template_rows": null,
            "right": null,
            "justify_content": null,
            "_view_module": "@jupyter-widgets/base",
            "overflow": null,
            "_model_module_version": "1.2.0",
            "_view_count": null,
            "flex_flow": null,
            "width": null,
            "min_width": null,
            "border": null,
            "align_items": null,
            "bottom": null,
            "_model_module": "@jupyter-widgets/base",
            "top": null,
            "grid_column": null,
            "overflow_y": null,
            "overflow_x": null,
            "grid_auto_flow": null,
            "grid_area": null,
            "grid_template_columns": null,
            "flex": null,
            "_model_name": "LayoutModel",
            "justify_items": null,
            "grid_row": null,
            "max_height": null,
            "align_content": null,
            "visibility": null,
            "align_self": null,
            "height": null,
            "min_height": null,
            "padding": null,
            "grid_auto_rows": null,
            "grid_gap": null,
            "max_width": null,
            "order": null,
            "_view_module_version": "1.2.0",
            "grid_template_areas": null,
            "object_position": null,
            "object_fit": null,
            "grid_auto_columns": null,
            "margin": null,
            "display": null,
            "left": null
          }
        },
        "b040e9f8d3e04b6eae31c85850596220": {
          "model_module": "@jupyter-widgets/controls",
          "model_name": "HBoxModel",
          "model_module_version": "1.5.0",
          "state": {
            "_view_name": "HBoxView",
            "_dom_classes": [],
            "_model_name": "HBoxModel",
            "_view_module": "@jupyter-widgets/controls",
            "_model_module_version": "1.5.0",
            "_view_count": null,
            "_view_module_version": "1.5.0",
            "box_style": "",
            "layout": "IPY_MODEL_c2eb0737df0c49bdac488fedd9c4769c",
            "_model_module": "@jupyter-widgets/controls",
            "children": [
              "IPY_MODEL_4e747ffc3fc94e25af7aebceaf01d15e",
              "IPY_MODEL_24cc607d028c4022856837b5e32d7338",
              "IPY_MODEL_38fab63704a54986b6034a3e0c14437b"
            ]
          }
        },
        "c2eb0737df0c49bdac488fedd9c4769c": {
          "model_module": "@jupyter-widgets/base",
          "model_name": "LayoutModel",
          "model_module_version": "1.2.0",
          "state": {
            "_view_name": "LayoutView",
            "grid_template_rows": null,
            "right": null,
            "justify_content": null,
            "_view_module": "@jupyter-widgets/base",
            "overflow": null,
            "_model_module_version": "1.2.0",
            "_view_count": null,
            "flex_flow": null,
            "width": null,
            "min_width": null,
            "border": null,
            "align_items": null,
            "bottom": null,
            "_model_module": "@jupyter-widgets/base",
            "top": null,
            "grid_column": null,
            "overflow_y": null,
            "overflow_x": null,
            "grid_auto_flow": null,
            "grid_area": null,
            "grid_template_columns": null,
            "flex": null,
            "_model_name": "LayoutModel",
            "justify_items": null,
            "grid_row": null,
            "max_height": null,
            "align_content": null,
            "visibility": null,
            "align_self": null,
            "height": null,
            "min_height": null,
            "padding": null,
            "grid_auto_rows": null,
            "grid_gap": null,
            "max_width": null,
            "order": null,
            "_view_module_version": "1.2.0",
            "grid_template_areas": null,
            "object_position": null,
            "object_fit": null,
            "grid_auto_columns": null,
            "margin": null,
            "display": null,
            "left": null
          }
        },
        "4e747ffc3fc94e25af7aebceaf01d15e": {
          "model_module": "@jupyter-widgets/controls",
          "model_name": "HTMLModel",
          "model_module_version": "1.5.0",
          "state": {
            "_view_name": "HTMLView",
            "style": "IPY_MODEL_e0beacb51022410195953309e6da1342",
            "_dom_classes": [],
            "description": "",
            "_model_name": "HTMLModel",
            "placeholder": "​",
            "_view_module": "@jupyter-widgets/controls",
            "_model_module_version": "1.5.0",
            "value": "Downloading: 100%",
            "_view_count": null,
            "_view_module_version": "1.5.0",
            "description_tooltip": null,
            "_model_module": "@jupyter-widgets/controls",
            "layout": "IPY_MODEL_ccba5935db05496eb33dfa06c91af0bb"
          }
        },
        "24cc607d028c4022856837b5e32d7338": {
          "model_module": "@jupyter-widgets/controls",
          "model_name": "FloatProgressModel",
          "model_module_version": "1.5.0",
          "state": {
            "_view_name": "ProgressView",
            "style": "IPY_MODEL_a2b7067b84164b359d9d7f904549c7f4",
            "_dom_classes": [],
            "description": "",
            "_model_name": "FloatProgressModel",
            "bar_style": "success",
            "max": 791656,
            "_view_module": "@jupyter-widgets/controls",
            "_model_module_version": "1.5.0",
            "value": 791656,
            "_view_count": null,
            "_view_module_version": "1.5.0",
            "orientation": "horizontal",
            "min": 0,
            "description_tooltip": null,
            "_model_module": "@jupyter-widgets/controls",
            "layout": "IPY_MODEL_65f69fa4f1e44928a7a1258dbec647cf"
          }
        },
        "38fab63704a54986b6034a3e0c14437b": {
          "model_module": "@jupyter-widgets/controls",
          "model_name": "HTMLModel",
          "model_module_version": "1.5.0",
          "state": {
            "_view_name": "HTMLView",
            "style": "IPY_MODEL_ab280eef1b5744bdb1c02b117ea2150c",
            "_dom_classes": [],
            "description": "",
            "_model_name": "HTMLModel",
            "placeholder": "​",
            "_view_module": "@jupyter-widgets/controls",
            "_model_module_version": "1.5.0",
            "value": " 792k/792k [00:00&lt;00:00, 876kB/s]",
            "_view_count": null,
            "_view_module_version": "1.5.0",
            "description_tooltip": null,
            "_model_module": "@jupyter-widgets/controls",
            "layout": "IPY_MODEL_330b1ffbfa8c47d29db815002c1ead7a"
          }
        },
        "e0beacb51022410195953309e6da1342": {
          "model_module": "@jupyter-widgets/controls",
          "model_name": "DescriptionStyleModel",
          "model_module_version": "1.5.0",
          "state": {
            "_view_name": "StyleView",
            "_model_name": "DescriptionStyleModel",
            "description_width": "",
            "_view_module": "@jupyter-widgets/base",
            "_model_module_version": "1.5.0",
            "_view_count": null,
            "_view_module_version": "1.2.0",
            "_model_module": "@jupyter-widgets/controls"
          }
        },
        "ccba5935db05496eb33dfa06c91af0bb": {
          "model_module": "@jupyter-widgets/base",
          "model_name": "LayoutModel",
          "model_module_version": "1.2.0",
          "state": {
            "_view_name": "LayoutView",
            "grid_template_rows": null,
            "right": null,
            "justify_content": null,
            "_view_module": "@jupyter-widgets/base",
            "overflow": null,
            "_model_module_version": "1.2.0",
            "_view_count": null,
            "flex_flow": null,
            "width": null,
            "min_width": null,
            "border": null,
            "align_items": null,
            "bottom": null,
            "_model_module": "@jupyter-widgets/base",
            "top": null,
            "grid_column": null,
            "overflow_y": null,
            "overflow_x": null,
            "grid_auto_flow": null,
            "grid_area": null,
            "grid_template_columns": null,
            "flex": null,
            "_model_name": "LayoutModel",
            "justify_items": null,
            "grid_row": null,
            "max_height": null,
            "align_content": null,
            "visibility": null,
            "align_self": null,
            "height": null,
            "min_height": null,
            "padding": null,
            "grid_auto_rows": null,
            "grid_gap": null,
            "max_width": null,
            "order": null,
            "_view_module_version": "1.2.0",
            "grid_template_areas": null,
            "object_position": null,
            "object_fit": null,
            "grid_auto_columns": null,
            "margin": null,
            "display": null,
            "left": null
          }
        },
        "a2b7067b84164b359d9d7f904549c7f4": {
          "model_module": "@jupyter-widgets/controls",
          "model_name": "ProgressStyleModel",
          "model_module_version": "1.5.0",
          "state": {
            "_view_name": "StyleView",
            "_model_name": "ProgressStyleModel",
            "description_width": "",
            "_view_module": "@jupyter-widgets/base",
            "_model_module_version": "1.5.0",
            "_view_count": null,
            "_view_module_version": "1.2.0",
            "bar_color": null,
            "_model_module": "@jupyter-widgets/controls"
          }
        },
        "65f69fa4f1e44928a7a1258dbec647cf": {
          "model_module": "@jupyter-widgets/base",
          "model_name": "LayoutModel",
          "model_module_version": "1.2.0",
          "state": {
            "_view_name": "LayoutView",
            "grid_template_rows": null,
            "right": null,
            "justify_content": null,
            "_view_module": "@jupyter-widgets/base",
            "overflow": null,
            "_model_module_version": "1.2.0",
            "_view_count": null,
            "flex_flow": null,
            "width": null,
            "min_width": null,
            "border": null,
            "align_items": null,
            "bottom": null,
            "_model_module": "@jupyter-widgets/base",
            "top": null,
            "grid_column": null,
            "overflow_y": null,
            "overflow_x": null,
            "grid_auto_flow": null,
            "grid_area": null,
            "grid_template_columns": null,
            "flex": null,
            "_model_name": "LayoutModel",
            "justify_items": null,
            "grid_row": null,
            "max_height": null,
            "align_content": null,
            "visibility": null,
            "align_self": null,
            "height": null,
            "min_height": null,
            "padding": null,
            "grid_auto_rows": null,
            "grid_gap": null,
            "max_width": null,
            "order": null,
            "_view_module_version": "1.2.0",
            "grid_template_areas": null,
            "object_position": null,
            "object_fit": null,
            "grid_auto_columns": null,
            "margin": null,
            "display": null,
            "left": null
          }
        },
        "ab280eef1b5744bdb1c02b117ea2150c": {
          "model_module": "@jupyter-widgets/controls",
          "model_name": "DescriptionStyleModel",
          "model_module_version": "1.5.0",
          "state": {
            "_view_name": "StyleView",
            "_model_name": "DescriptionStyleModel",
            "description_width": "",
            "_view_module": "@jupyter-widgets/base",
            "_model_module_version": "1.5.0",
            "_view_count": null,
            "_view_module_version": "1.2.0",
            "_model_module": "@jupyter-widgets/controls"
          }
        },
        "330b1ffbfa8c47d29db815002c1ead7a": {
          "model_module": "@jupyter-widgets/base",
          "model_name": "LayoutModel",
          "model_module_version": "1.2.0",
          "state": {
            "_view_name": "LayoutView",
            "grid_template_rows": null,
            "right": null,
            "justify_content": null,
            "_view_module": "@jupyter-widgets/base",
            "overflow": null,
            "_model_module_version": "1.2.0",
            "_view_count": null,
            "flex_flow": null,
            "width": null,
            "min_width": null,
            "border": null,
            "align_items": null,
            "bottom": null,
            "_model_module": "@jupyter-widgets/base",
            "top": null,
            "grid_column": null,
            "overflow_y": null,
            "overflow_x": null,
            "grid_auto_flow": null,
            "grid_area": null,
            "grid_template_columns": null,
            "flex": null,
            "_model_name": "LayoutModel",
            "justify_items": null,
            "grid_row": null,
            "max_height": null,
            "align_content": null,
            "visibility": null,
            "align_self": null,
            "height": null,
            "min_height": null,
            "padding": null,
            "grid_auto_rows": null,
            "grid_gap": null,
            "max_width": null,
            "order": null,
            "_view_module_version": "1.2.0",
            "grid_template_areas": null,
            "object_position": null,
            "object_fit": null,
            "grid_auto_columns": null,
            "margin": null,
            "display": null,
            "left": null
          }
        },
        "5811eaa3ef5e42c280be9c0f4b9902b0": {
          "model_module": "@jupyter-widgets/controls",
          "model_name": "HBoxModel",
          "model_module_version": "1.5.0",
          "state": {
            "_view_name": "HBoxView",
            "_dom_classes": [],
            "_model_name": "HBoxModel",
            "_view_module": "@jupyter-widgets/controls",
            "_model_module_version": "1.5.0",
            "_view_count": null,
            "_view_module_version": "1.5.0",
            "box_style": "",
            "layout": "IPY_MODEL_b94e461818954126b0090565b87b8ee8",
            "_model_module": "@jupyter-widgets/controls",
            "children": [
              "IPY_MODEL_3f4017f94a0649adaaaaac6c5b877881",
              "IPY_MODEL_eec41917b5dc44e0901e813deb8c1fa4",
              "IPY_MODEL_8b577a483f4840ac8b1980ad5bf98273"
            ]
          }
        },
        "b94e461818954126b0090565b87b8ee8": {
          "model_module": "@jupyter-widgets/base",
          "model_name": "LayoutModel",
          "model_module_version": "1.2.0",
          "state": {
            "_view_name": "LayoutView",
            "grid_template_rows": null,
            "right": null,
            "justify_content": null,
            "_view_module": "@jupyter-widgets/base",
            "overflow": null,
            "_model_module_version": "1.2.0",
            "_view_count": null,
            "flex_flow": null,
            "width": null,
            "min_width": null,
            "border": null,
            "align_items": null,
            "bottom": null,
            "_model_module": "@jupyter-widgets/base",
            "top": null,
            "grid_column": null,
            "overflow_y": null,
            "overflow_x": null,
            "grid_auto_flow": null,
            "grid_area": null,
            "grid_template_columns": null,
            "flex": null,
            "_model_name": "LayoutModel",
            "justify_items": null,
            "grid_row": null,
            "max_height": null,
            "align_content": null,
            "visibility": null,
            "align_self": null,
            "height": null,
            "min_height": null,
            "padding": null,
            "grid_auto_rows": null,
            "grid_gap": null,
            "max_width": null,
            "order": null,
            "_view_module_version": "1.2.0",
            "grid_template_areas": null,
            "object_position": null,
            "object_fit": null,
            "grid_auto_columns": null,
            "margin": null,
            "display": null,
            "left": null
          }
        },
        "3f4017f94a0649adaaaaac6c5b877881": {
          "model_module": "@jupyter-widgets/controls",
          "model_name": "HTMLModel",
          "model_module_version": "1.5.0",
          "state": {
            "_view_name": "HTMLView",
            "style": "IPY_MODEL_be500defe109496192a5169cce46429e",
            "_dom_classes": [],
            "description": "",
            "_model_name": "HTMLModel",
            "placeholder": "​",
            "_view_module": "@jupyter-widgets/controls",
            "_model_module_version": "1.5.0",
            "value": "Downloading: 100%",
            "_view_count": null,
            "_view_module_version": "1.5.0",
            "description_tooltip": null,
            "_model_module": "@jupyter-widgets/controls",
            "layout": "IPY_MODEL_0195f760e147449c8cdba5c7c79df888"
          }
        },
        "eec41917b5dc44e0901e813deb8c1fa4": {
          "model_module": "@jupyter-widgets/controls",
          "model_name": "FloatProgressModel",
          "model_module_version": "1.5.0",
          "state": {
            "_view_name": "ProgressView",
            "style": "IPY_MODEL_5c8d0035e02a4123b29e9ccc71d13f21",
            "_dom_classes": [],
            "description": "",
            "_model_name": "FloatProgressModel",
            "bar_style": "success",
            "max": 1389353,
            "_view_module": "@jupyter-widgets/controls",
            "_model_module_version": "1.5.0",
            "value": 1389353,
            "_view_count": null,
            "_view_module_version": "1.5.0",
            "orientation": "horizontal",
            "min": 0,
            "description_tooltip": null,
            "_model_module": "@jupyter-widgets/controls",
            "layout": "IPY_MODEL_280904fcdfc14ec989aa5cc51af2a0f7"
          }
        },
        "8b577a483f4840ac8b1980ad5bf98273": {
          "model_module": "@jupyter-widgets/controls",
          "model_name": "HTMLModel",
          "model_module_version": "1.5.0",
          "state": {
            "_view_name": "HTMLView",
            "style": "IPY_MODEL_cae5c6e32e114d2c91a112851d7d0d93",
            "_dom_classes": [],
            "description": "",
            "_model_name": "HTMLModel",
            "placeholder": "​",
            "_view_module": "@jupyter-widgets/controls",
            "_model_module_version": "1.5.0",
            "value": " 1.39M/1.39M [00:00&lt;00:00, 2.84MB/s]",
            "_view_count": null,
            "_view_module_version": "1.5.0",
            "description_tooltip": null,
            "_model_module": "@jupyter-widgets/controls",
            "layout": "IPY_MODEL_22efabfa0d37478dbb28fb86c13c177f"
          }
        },
        "be500defe109496192a5169cce46429e": {
          "model_module": "@jupyter-widgets/controls",
          "model_name": "DescriptionStyleModel",
          "model_module_version": "1.5.0",
          "state": {
            "_view_name": "StyleView",
            "_model_name": "DescriptionStyleModel",
            "description_width": "",
            "_view_module": "@jupyter-widgets/base",
            "_model_module_version": "1.5.0",
            "_view_count": null,
            "_view_module_version": "1.2.0",
            "_model_module": "@jupyter-widgets/controls"
          }
        },
        "0195f760e147449c8cdba5c7c79df888": {
          "model_module": "@jupyter-widgets/base",
          "model_name": "LayoutModel",
          "model_module_version": "1.2.0",
          "state": {
            "_view_name": "LayoutView",
            "grid_template_rows": null,
            "right": null,
            "justify_content": null,
            "_view_module": "@jupyter-widgets/base",
            "overflow": null,
            "_model_module_version": "1.2.0",
            "_view_count": null,
            "flex_flow": null,
            "width": null,
            "min_width": null,
            "border": null,
            "align_items": null,
            "bottom": null,
            "_model_module": "@jupyter-widgets/base",
            "top": null,
            "grid_column": null,
            "overflow_y": null,
            "overflow_x": null,
            "grid_auto_flow": null,
            "grid_area": null,
            "grid_template_columns": null,
            "flex": null,
            "_model_name": "LayoutModel",
            "justify_items": null,
            "grid_row": null,
            "max_height": null,
            "align_content": null,
            "visibility": null,
            "align_self": null,
            "height": null,
            "min_height": null,
            "padding": null,
            "grid_auto_rows": null,
            "grid_gap": null,
            "max_width": null,
            "order": null,
            "_view_module_version": "1.2.0",
            "grid_template_areas": null,
            "object_position": null,
            "object_fit": null,
            "grid_auto_columns": null,
            "margin": null,
            "display": null,
            "left": null
          }
        },
        "5c8d0035e02a4123b29e9ccc71d13f21": {
          "model_module": "@jupyter-widgets/controls",
          "model_name": "ProgressStyleModel",
          "model_module_version": "1.5.0",
          "state": {
            "_view_name": "StyleView",
            "_model_name": "ProgressStyleModel",
            "description_width": "",
            "_view_module": "@jupyter-widgets/base",
            "_model_module_version": "1.5.0",
            "_view_count": null,
            "_view_module_version": "1.2.0",
            "bar_color": null,
            "_model_module": "@jupyter-widgets/controls"
          }
        },
        "280904fcdfc14ec989aa5cc51af2a0f7": {
          "model_module": "@jupyter-widgets/base",
          "model_name": "LayoutModel",
          "model_module_version": "1.2.0",
          "state": {
            "_view_name": "LayoutView",
            "grid_template_rows": null,
            "right": null,
            "justify_content": null,
            "_view_module": "@jupyter-widgets/base",
            "overflow": null,
            "_model_module_version": "1.2.0",
            "_view_count": null,
            "flex_flow": null,
            "width": null,
            "min_width": null,
            "border": null,
            "align_items": null,
            "bottom": null,
            "_model_module": "@jupyter-widgets/base",
            "top": null,
            "grid_column": null,
            "overflow_y": null,
            "overflow_x": null,
            "grid_auto_flow": null,
            "grid_area": null,
            "grid_template_columns": null,
            "flex": null,
            "_model_name": "LayoutModel",
            "justify_items": null,
            "grid_row": null,
            "max_height": null,
            "align_content": null,
            "visibility": null,
            "align_self": null,
            "height": null,
            "min_height": null,
            "padding": null,
            "grid_auto_rows": null,
            "grid_gap": null,
            "max_width": null,
            "order": null,
            "_view_module_version": "1.2.0",
            "grid_template_areas": null,
            "object_position": null,
            "object_fit": null,
            "grid_auto_columns": null,
            "margin": null,
            "display": null,
            "left": null
          }
        },
        "cae5c6e32e114d2c91a112851d7d0d93": {
          "model_module": "@jupyter-widgets/controls",
          "model_name": "DescriptionStyleModel",
          "model_module_version": "1.5.0",
          "state": {
            "_view_name": "StyleView",
            "_model_name": "DescriptionStyleModel",
            "description_width": "",
            "_view_module": "@jupyter-widgets/base",
            "_model_module_version": "1.5.0",
            "_view_count": null,
            "_view_module_version": "1.2.0",
            "_model_module": "@jupyter-widgets/controls"
          }
        },
        "22efabfa0d37478dbb28fb86c13c177f": {
          "model_module": "@jupyter-widgets/base",
          "model_name": "LayoutModel",
          "model_module_version": "1.2.0",
          "state": {
            "_view_name": "LayoutView",
            "grid_template_rows": null,
            "right": null,
            "justify_content": null,
            "_view_module": "@jupyter-widgets/base",
            "overflow": null,
            "_model_module_version": "1.2.0",
            "_view_count": null,
            "flex_flow": null,
            "width": null,
            "min_width": null,
            "border": null,
            "align_items": null,
            "bottom": null,
            "_model_module": "@jupyter-widgets/base",
            "top": null,
            "grid_column": null,
            "overflow_y": null,
            "overflow_x": null,
            "grid_auto_flow": null,
            "grid_area": null,
            "grid_template_columns": null,
            "flex": null,
            "_model_name": "LayoutModel",
            "justify_items": null,
            "grid_row": null,
            "max_height": null,
            "align_content": null,
            "visibility": null,
            "align_self": null,
            "height": null,
            "min_height": null,
            "padding": null,
            "grid_auto_rows": null,
            "grid_gap": null,
            "max_width": null,
            "order": null,
            "_view_module_version": "1.2.0",
            "grid_template_areas": null,
            "object_position": null,
            "object_fit": null,
            "grid_auto_columns": null,
            "margin": null,
            "display": null,
            "left": null
          }
        }
      }
    },
    "accelerator": "GPU"
  },
  "cells": [
    {
      "cell_type": "markdown",
      "metadata": {
        "id": "view-in-github",
        "colab_type": "text"
      },
      "source": [
        "<a href=\"https://colab.research.google.com/github/KelvinLam05/Zero-Shot-Text-Classification/blob/main/Zero_Shot_Text_Classification_with_Hugging_Face.ipynb\" target=\"_parent\"><img src=\"https://colab.research.google.com/assets/colab-badge.svg\" alt=\"Open In Colab\"/></a>"
      ]
    },
    {
      "cell_type": "markdown",
      "metadata": {
        "id": "Lxy-b07hIKG1"
      },
      "source": [
        "**Zero-Shot Text Classification**\n",
        "\n",
        "In zero-shot text classification, the model can classify any text between given labels without any prior data."
      ]
    },
    {
      "cell_type": "markdown",
      "metadata": {
        "id": "jwtB7jA-A7R7"
      },
      "source": [
        "**Goal of the project**\n",
        "\n",
        "Let’s build a zero-shot text classifier of Scotch whiskies labeled *Single Malt Scotch*, *Blended Scotch Whisky* and *Blended Malt Scotch Whisky*."
      ]
    },
    {
      "cell_type": "code",
      "metadata": {
        "id": "4QrQ8M_9y0So"
      },
      "source": [
        "# Importing libraries\n",
        "import pandas as pd\n",
        "import numpy as np\n",
        "import ktrain\n",
        "import tensorflow as tf\n",
        "from ktrain import text\n",
        "from sklearn.model_selection import train_test_split"
      ],
      "execution_count": null,
      "outputs": []
    },
    {
      "cell_type": "code",
      "metadata": {
        "id": "vsD9vOTkyB8T"
      },
      "source": [
        "# Load dataset\n",
        "df = pd.read_csv('/content/scotch_whisky_review.csv')"
      ],
      "execution_count": null,
      "outputs": []
    },
    {
      "cell_type": "code",
      "metadata": {
        "colab": {
          "base_uri": "https://localhost:8080/",
          "height": 289
        },
        "id": "UVNYWBqFzj7d",
        "outputId": "fdf851d9-3735-4ba4-8990-0619f64a92b2"
      },
      "source": [
        "# Examine the data\n",
        "df.head()"
      ],
      "execution_count": null,
      "outputs": [
        {
          "output_type": "execute_result",
          "data": {
            "text/html": [
              "<div>\n",
              "<style scoped>\n",
              "    .dataframe tbody tr th:only-of-type {\n",
              "        vertical-align: middle;\n",
              "    }\n",
              "\n",
              "    .dataframe tbody tr th {\n",
              "        vertical-align: top;\n",
              "    }\n",
              "\n",
              "    .dataframe thead th {\n",
              "        text-align: right;\n",
              "    }\n",
              "</style>\n",
              "<table border=\"1\" class=\"dataframe\">\n",
              "  <thead>\n",
              "    <tr style=\"text-align: right;\">\n",
              "      <th></th>\n",
              "      <th>name</th>\n",
              "      <th>category</th>\n",
              "      <th>review.point</th>\n",
              "      <th>price</th>\n",
              "      <th>currency</th>\n",
              "      <th>description.1.2247.</th>\n",
              "    </tr>\n",
              "  </thead>\n",
              "  <tbody>\n",
              "    <tr>\n",
              "      <th>0</th>\n",
              "      <td>Caol Ila 18 year old (Diageo Special Releases ...</td>\n",
              "      <td>Single Malt Scotch</td>\n",
              "      <td>88</td>\n",
              "      <td>100</td>\n",
              "      <td>$</td>\n",
              "      <td>If you like sherried malts, you’ll love this! ...</td>\n",
              "    </tr>\n",
              "    <tr>\n",
              "      <th>1</th>\n",
              "      <td>Carlyle, 40%</td>\n",
              "      <td>Single Malt Scotch</td>\n",
              "      <td>88</td>\n",
              "      <td>13</td>\n",
              "      <td>$</td>\n",
              "      <td>A dense, suffocating fog of peat smoke, sea sa...</td>\n",
              "    </tr>\n",
              "    <tr>\n",
              "      <th>2</th>\n",
              "      <td>Big Peat Christmas Edition 2017, 54.1%</td>\n",
              "      <td>Blended Malt Scotch Whisky</td>\n",
              "      <td>88</td>\n",
              "      <td>70</td>\n",
              "      <td>$</td>\n",
              "      <td>The style and class of the youngest was inspir...</td>\n",
              "    </tr>\n",
              "    <tr>\n",
              "      <th>3</th>\n",
              "      <td>J. Mossman Gold Crown 12 year old, 40%</td>\n",
              "      <td>Blended Scotch Whisky</td>\n",
              "      <td>88</td>\n",
              "      <td>43</td>\n",
              "      <td>$</td>\n",
              "      <td>After six ‘Work in Progress’ releases, Kilkerr...</td>\n",
              "    </tr>\n",
              "    <tr>\n",
              "      <th>4</th>\n",
              "      <td>Chapter 7 2008 (distilled at Allt-a-Bhainne) 9...</td>\n",
              "      <td>Single Malt Scotch</td>\n",
              "      <td>88</td>\n",
              "      <td>65</td>\n",
              "      <td>$</td>\n",
              "      <td>As the name implies, this non-chill filtered e...</td>\n",
              "    </tr>\n",
              "  </tbody>\n",
              "</table>\n",
              "</div>"
            ],
            "text/plain": [
              "                                                name  ...                                description.1.2247.\n",
              "0  Caol Ila 18 year old (Diageo Special Releases ...  ...  If you like sherried malts, you’ll love this! ...\n",
              "1                                       Carlyle, 40%  ...  A dense, suffocating fog of peat smoke, sea sa...\n",
              "2             Big Peat Christmas Edition 2017, 54.1%  ...  The style and class of the youngest was inspir...\n",
              "3             J. Mossman Gold Crown 12 year old, 40%  ...  After six ‘Work in Progress’ releases, Kilkerr...\n",
              "4  Chapter 7 2008 (distilled at Allt-a-Bhainne) 9...  ...  As the name implies, this non-chill filtered e...\n",
              "\n",
              "[5 rows x 6 columns]"
            ]
          },
          "metadata": {},
          "execution_count": 89
        }
      ]
    },
    {
      "cell_type": "code",
      "metadata": {
        "colab": {
          "base_uri": "https://localhost:8080/"
        },
        "id": "Yws6exmCzsgK",
        "outputId": "8223b1d7-d640-4a5e-c86c-299ea8142b22"
      },
      "source": [
        "# Overview of all variables, their datatypes\n",
        "df.info()"
      ],
      "execution_count": null,
      "outputs": [
        {
          "output_type": "stream",
          "name": "stdout",
          "text": [
            "<class 'pandas.core.frame.DataFrame'>\n",
            "RangeIndex: 1000 entries, 0 to 999\n",
            "Data columns (total 6 columns):\n",
            " #   Column               Non-Null Count  Dtype \n",
            "---  ------               --------------  ----- \n",
            " 0   name                 1000 non-null   object\n",
            " 1   category             1000 non-null   object\n",
            " 2   review.point         1000 non-null   int64 \n",
            " 3   price                1000 non-null   object\n",
            " 4   currency             1000 non-null   object\n",
            " 5   description.1.2247.  983 non-null    object\n",
            "dtypes: int64(1), object(5)\n",
            "memory usage: 47.0+ KB\n"
          ]
        }
      ]
    },
    {
      "cell_type": "markdown",
      "metadata": {
        "id": "cg7EPi-sJ_MB"
      },
      "source": [
        "**Preprocessing**"
      ]
    },
    {
      "cell_type": "code",
      "metadata": {
        "id": "3D-hv9IBSa2K"
      },
      "source": [
        "# Rename column header\n",
        "df.rename(columns = {'description.1.2247.': 'description'}, inplace = True)"
      ],
      "execution_count": null,
      "outputs": []
    },
    {
      "cell_type": "code",
      "metadata": {
        "colab": {
          "base_uri": "https://localhost:8080/"
        },
        "id": "a6kj-LgEzyUq",
        "outputId": "1fd8cdab-10ae-47bb-b4dd-4070a10a8350"
      },
      "source": [
        "# Checking for missing values\n",
        "df.isnull().sum().sort_values(ascending = False)"
      ],
      "execution_count": null,
      "outputs": [
        {
          "output_type": "execute_result",
          "data": {
            "text/plain": [
              "description     17\n",
              "currency         0\n",
              "price            0\n",
              "review.point     0\n",
              "category         0\n",
              "name             0\n",
              "dtype: int64"
            ]
          },
          "metadata": {},
          "execution_count": 92
        }
      ]
    },
    {
      "cell_type": "code",
      "metadata": {
        "id": "6yYdHcoxSPYJ"
      },
      "source": [
        "# Drop rows with NaN values\n",
        "df = df[pd.notnull(df['description'])]"
      ],
      "execution_count": null,
      "outputs": []
    },
    {
      "cell_type": "code",
      "metadata": {
        "colab": {
          "base_uri": "https://localhost:8080/"
        },
        "id": "BDZb500QSsQ2",
        "outputId": "10e81eed-3f53-48db-a1bb-723e5093aeb3"
      },
      "source": [
        "df.isnull().sum().sort_values(ascending = False)"
      ],
      "execution_count": null,
      "outputs": [
        {
          "output_type": "execute_result",
          "data": {
            "text/plain": [
              "description     0\n",
              "currency        0\n",
              "price           0\n",
              "review.point    0\n",
              "category        0\n",
              "name            0\n",
              "dtype: int64"
            ]
          },
          "metadata": {},
          "execution_count": 94
        }
      ]
    },
    {
      "cell_type": "code",
      "metadata": {
        "id": "F7wK8DM_9eNR"
      },
      "source": [
        "# Drop columns that are not needed\n",
        "df = df[['description', 'category']]"
      ],
      "execution_count": null,
      "outputs": []
    },
    {
      "cell_type": "code",
      "metadata": {
        "colab": {
          "base_uri": "https://localhost:8080/"
        },
        "id": "AMb0eZuXh-Zo",
        "outputId": "1b2cb373-e771-40d7-e774-3ddd1ab7715c"
      },
      "source": [
        "# Checking the distribution of classes\n",
        "df['category'].value_counts() "
      ],
      "execution_count": null,
      "outputs": [
        {
          "output_type": "execute_result",
          "data": {
            "text/plain": [
              "Single Malt Scotch            830\n",
              "Blended Scotch Whisky          96\n",
              "Blended Malt Scotch Whisky     57\n",
              "Name: category, dtype: int64"
            ]
          },
          "metadata": {},
          "execution_count": 97
        }
      ]
    },
    {
      "cell_type": "markdown",
      "metadata": {
        "id": "s7Q21GPIWjEl"
      },
      "source": [
        "We have a highly unbalanced dataset."
      ]
    },
    {
      "cell_type": "code",
      "metadata": {
        "colab": {
          "base_uri": "https://localhost:8080/",
          "height": 37
        },
        "id": "b_W1UDrZNXsO",
        "outputId": "942d538d-2c07-4f02-a094-4dd26d60c2c9"
      },
      "source": [
        "# Find all unique characters and symbols \n",
        "all_text = str()\n",
        "\n",
        "for sentence in df['description'].values:\n",
        "    all_text += sentence\n",
        "    \n",
        "''.join(set(all_text))"
      ],
      "execution_count": null,
      "outputs": [
        {
          "output_type": "execute_result",
          "data": {
            "application/vnd.google.colaboratory.intrinsic+json": {
              "type": "string"
            },
            "text/plain": [
              "'DnA\\'–fQNX6”xg9sùU:;8t&LSi2(W0Y’C,“.â\"dÌaP3?BJluh$ò1me4V/—HGEqp\\u2028oZ!à\\xa05I£bKçyéTvMwô%‘c -R7\\nzkè#Oür€)\\r…jûF'"
            ]
          },
          "metadata": {},
          "execution_count": 96
        }
      ]
    },
    {
      "cell_type": "markdown",
      "metadata": {
        "id": "3taReih4Vj03"
      },
      "source": [
        "The kind of data we get from customer feedback is usually unstructured. It contains unusual text and symbols that need to be cleaned so that a machine learning model can grasp it."
      ]
    },
    {
      "cell_type": "code",
      "metadata": {
        "id": "OZeMzUAcJ2g_"
      },
      "source": [
        "import re\n",
        "import nltk\n",
        "from nltk.tokenize import word_tokenize\n",
        "from nltk.corpus import stopwords\n",
        "from nltk.stem import WordNetLemmatizer "
      ],
      "execution_count": null,
      "outputs": []
    },
    {
      "cell_type": "code",
      "metadata": {
        "colab": {
          "base_uri": "https://localhost:8080/"
        },
        "id": "s0qaYH33K6ct",
        "outputId": "d25d5191-e35c-41e2-e0a4-87faa04ee8b8"
      },
      "source": [
        "nltk.download('stopwords')\n",
        "nltk.download('punkt')\n",
        "nltk.download('wordnet')"
      ],
      "execution_count": null,
      "outputs": [
        {
          "output_type": "stream",
          "name": "stdout",
          "text": [
            "[nltk_data] Downloading package stopwords to /root/nltk_data...\n",
            "[nltk_data]   Package stopwords is already up-to-date!\n",
            "[nltk_data] Downloading package punkt to /root/nltk_data...\n",
            "[nltk_data]   Package punkt is already up-to-date!\n",
            "[nltk_data] Downloading package wordnet to /root/nltk_data...\n",
            "[nltk_data]   Package wordnet is already up-to-date!\n"
          ]
        },
        {
          "output_type": "execute_result",
          "data": {
            "text/plain": [
              "True"
            ]
          },
          "metadata": {},
          "execution_count": 99
        }
      ]
    },
    {
      "cell_type": "code",
      "metadata": {
        "id": "wGaHY7jbK_L7"
      },
      "source": [
        "stop_words = set(stopwords.words('english'))\n",
        "lemma = WordNetLemmatizer()"
      ],
      "execution_count": null,
      "outputs": []
    },
    {
      "cell_type": "markdown",
      "metadata": {
        "id": "qxxjfkLRVorL"
      },
      "source": [
        "We will now set up our cleaning function."
      ]
    },
    {
      "cell_type": "code",
      "metadata": {
        "id": "DnuCn4iCLDul"
      },
      "source": [
        "def clean_review(review_text):\n",
        "\n",
        "  # Removing all irrelevant characters (numbers and punctuation)                           \n",
        "  review_text = re.sub('[^a-zA-Z]', ' ', review_text)                           \n",
        "  # Replace one or more spaces with single space\n",
        "  review_text = re.sub(r'\\s+', ' ', review_text)                                \n",
        "  # Convert all characters into lowercase\n",
        "  review_text = str(review_text).lower()                                        \n",
        "  # Tokenization\n",
        "  review_text = word_tokenize(review_text)\n",
        "  # Removing Stopwords                                      \n",
        "  review_text = [item for item in review_text if item not in stop_words]        \n",
        "  # Lemmatization\n",
        "  review_text = [lemma.lemmatize(word = w, pos = 'v') for w in review_text]     \n",
        "  # Remove the words having length <= 2\n",
        "  review_text = [i for i in review_text if len(i) > 2]                          \n",
        "  # Convert the list of tokens into back to the string\n",
        "  review_text = ' '.join (review_text)                                          \n",
        "  \n",
        "  return review_text "
      ],
      "execution_count": null,
      "outputs": []
    },
    {
      "cell_type": "code",
      "metadata": {
        "id": "Isvcq_SgLIH0"
      },
      "source": [
        "df['clean_review'] = df['description'].apply(clean_review)"
      ],
      "execution_count": null,
      "outputs": []
    },
    {
      "cell_type": "code",
      "metadata": {
        "colab": {
          "base_uri": "https://localhost:8080/",
          "height": 37
        },
        "id": "3tE_F3Q1clVj",
        "outputId": "edcef1e7-f0d8-4928-94b6-52a1a53eada8"
      },
      "source": [
        "all_text = str()\n",
        "\n",
        "for sentence in df['clean_review'].values:\n",
        "    all_text += sentence\n",
        "    \n",
        "''.join(set(all_text))"
      ],
      "execution_count": null,
      "outputs": [
        {
          "output_type": "execute_result",
          "data": {
            "application/vnd.google.colaboratory.intrinsic+json": {
              "type": "string"
            },
            "text/plain": [
              "'nqzpkfobgxsdraltyhuivjwmec '"
            ]
          },
          "metadata": {},
          "execution_count": 103
        }
      ]
    },
    {
      "cell_type": "code",
      "metadata": {
        "colab": {
          "base_uri": "https://localhost:8080/"
        },
        "id": "SyRgxttKLpI5",
        "outputId": "438c0199-f9ad-4b48-9380-71e3ad520469"
      },
      "source": [
        "# Get the first five rows\n",
        "df['description'].head()"
      ],
      "execution_count": null,
      "outputs": [
        {
          "output_type": "execute_result",
          "data": {
            "text/plain": [
              "0    If you like sherried malts, you’ll love this! ...\n",
              "1    A dense, suffocating fog of peat smoke, sea sa...\n",
              "2    The style and class of the youngest was inspir...\n",
              "3    After six ‘Work in Progress’ releases, Kilkerr...\n",
              "4    As the name implies, this non-chill filtered e...\n",
              "Name: description, dtype: object"
            ]
          },
          "metadata": {},
          "execution_count": 104
        }
      ]
    },
    {
      "cell_type": "code",
      "metadata": {
        "colab": {
          "base_uri": "https://localhost:8080/"
        },
        "id": "SJ8YCMpSLxiO",
        "outputId": "cbcc9c3c-b15c-42df-b76c-cddfc6bccbbf"
      },
      "source": [
        "# Get the first five rows\n",
        "df['clean_review'].head()"
      ],
      "execution_count": null,
      "outputs": [
        {
          "output_type": "execute_result",
          "data": {
            "text/plain": [
              "0    like sherried malt love bottle respectable str...\n",
              "1    dense suffocate fog peat smoke sea salt dry se...\n",
              "2    style class youngest inspire classic elegance ...\n",
              "3    six work progress release kilkerran glengyle d...\n",
              "4    name imply non chill filter expression finish ...\n",
              "Name: clean_review, dtype: object"
            ]
          },
          "metadata": {},
          "execution_count": 105
        }
      ]
    },
    {
      "cell_type": "code",
      "metadata": {
        "colab": {
          "base_uri": "https://localhost:8080/",
          "height": 241
        },
        "id": "I2MnAYB72bdK",
        "outputId": "958f805d-4d56-48b3-ca9e-02c9dd63dcc0"
      },
      "source": [
        "# Display full strings\n",
        "with pd.option_context('display.max_colwidth', None):\n",
        "  display(df['clean_review'])"
      ],
      "execution_count": null,
      "outputs": [
        {
          "output_type": "display_data",
          "data": {
            "text/plain": [
              "0                                                                                                                 like sherried malt love bottle respectable strength red apple cherry skin strawberry raspberry eccles cake malt loaf warm spice lot get nose finely structure dram soft leather rhubarb bramley apple cherryade fresh victoria plum pepper mute ginger deliver sustain flavor long spicy peel fruit finish give distillery closure could interest components bottle\n",
              "1                                                                                                                                                       dense suffocate fog peat smoke sea salt dry seaweed high tide lemon scent candle remember come air supple silky texture lemon mousse bake apple vanilla cinnamon ginger massive rush pepper hold mouth long possible flavor delivery impressively long constantly evolve hot dry finish frankly relief peppery assault palate\n",
              "2                                                                                                                                    style class youngest inspire classic elegance paris comprise kininvie girvan marry tuns portuguese oak pure creamy goodness bath lemon meringue pie vanilla tablet fresh oak shave buttery soft texture back palate kick honey explosions nougat toffee back distinct oakiness remind get much offer vanilla playfulness travel retail exclusive\n",
              "3                                                                                                                          six work progress release kilkerran glengyle distillery finally come age core expression comprise whisky first fill bourbon casks sherry casks floral nose honey hint brine peaty fruit note develop palate confident oily slightly earthy tin peach black pepper cinnamon smoke suggestion medicine chests finish relatively long pepper licorice dry oak\n",
              "4                                                                                                                                                                                                                                                  name imply non chill filter expression finish pedro ximinez sherry butt nose offer sweet sherry honey malt lemon palate yield sherry plain chocolate honey spicy toffee hint orange spicy toffee plus dry oak medium length finish\n",
              "                                                                                                                                                                                                                                            ...                                                                                                                                                                                                                                      \n",
              "995                                                                                                                                                                                                                                                                                                         pleasingly aromatic floral lively fruit fresh cereal grain honey vanilla cream subtle grassy hay note add complexity friendly whisky conjure image sunny afternoon spring\n",
              "996    blend three different single malt name derive fact whisky age american oak body french oak head cross oaks age statement whiskies older ten years gentle subtly complex somewhat lithe easy drink whisky less oak spice predecessor spice tree people think whisky dinner drink think would make great aperitif delicate dry spice note light body pick evenly proportion note vanilla coconut subtle note cleave anise delicate fruit wrap gentle malty body versatile whisky\n",
              "997                                                                                                                                                                                                                               textural whisky incredibly creamy mouth coat vanilla honey barley hay linseed oil clementine subtle peach whisky continue cling palate long finish would expect auchentoshan taste like bolder nice whisky lack polish standard year old expression\n",
              "998                                                                                                                                              tell tale rich honey balvenie personality spice finish new char oak casks make normally masculine whisky even bigger honey malt impact palate first intermediate note citrus fruit follow dry spice cinnamon vanilla ginger cocoa new oak impact evident whisky long dry spicy finish nice whisky perhaps tad much new oak greatness\n",
              "999                                                                                                                                                                                                                                                                                                                              fruity spicy high bright fruit note lemon mandarin mango sprinkle ginger powder vanilla oak kick end lead fairly dry finish surprise year old whisky\n",
              "Name: clean_review, Length: 983, dtype: object"
            ]
          },
          "metadata": {}
        }
      ]
    },
    {
      "cell_type": "markdown",
      "metadata": {
        "id": "4trJ9qD2lUug"
      },
      "source": [
        "**Testing for GPU**"
      ]
    },
    {
      "cell_type": "code",
      "metadata": {
        "id": "nKU2Juix2aJz"
      },
      "source": [
        "import torch"
      ],
      "execution_count": null,
      "outputs": []
    },
    {
      "cell_type": "code",
      "metadata": {
        "id": "IXcNY9mqbE20",
        "colab": {
          "base_uri": "https://localhost:8080/"
        },
        "outputId": "78b35a50-be25-4022-a6b0-1298ab19b832"
      },
      "source": [
        "torch.cuda.is_available()"
      ],
      "execution_count": null,
      "outputs": [
        {
          "output_type": "execute_result",
          "data": {
            "text/plain": [
              "True"
            ]
          },
          "metadata": {},
          "execution_count": 108
        }
      ]
    },
    {
      "cell_type": "code",
      "metadata": {
        "id": "61WrcWVM1D9G"
      },
      "source": [
        "device = torch.cuda.current_device() if torch.cuda.is_available() else -1"
      ],
      "execution_count": null,
      "outputs": []
    },
    {
      "cell_type": "code",
      "metadata": {
        "colab": {
          "base_uri": "https://localhost:8080/"
        },
        "id": "mVXlDgauQbRm",
        "outputId": "acad4147-3013-4c8a-8fdd-a79ba5ebdb41"
      },
      "source": [
        "print(device)"
      ],
      "execution_count": null,
      "outputs": [
        {
          "output_type": "stream",
          "name": "stdout",
          "text": [
            "0\n"
          ]
        }
      ]
    },
    {
      "cell_type": "code",
      "metadata": {
        "id": "JGVKJLS2SCw6"
      },
      "source": [
        "# Load\n",
        "Load_on_CPU = torch.device('cuda')"
      ],
      "execution_count": null,
      "outputs": []
    },
    {
      "cell_type": "markdown",
      "metadata": {
        "id": "rp5xjY035KWg"
      },
      "source": [
        "**Transformer Pipeline**"
      ]
    },
    {
      "cell_type": "markdown",
      "metadata": {
        "id": "_Vyq39PY5oHe"
      },
      "source": [
        "We’ll use the appropriate transformers.pipeline to compute the predicted class for each Scotch whisky."
      ]
    },
    {
      "cell_type": "code",
      "metadata": {
        "id": "6J5xdE-Fmlg_"
      },
      "source": [
        "from transformers import pipeline"
      ],
      "execution_count": null,
      "outputs": []
    },
    {
      "cell_type": "code",
      "metadata": {
        "id": "_qxt0aG8n_UY"
      },
      "source": [
        "task = 'zero-shot-classification'\n",
        "zero_shot_model = 'vicgalle/xlm-roberta-large-xnli-anli'\n",
        "zero_shot_classifier = pipeline(task, zero_shot_model, device = device)"
      ],
      "execution_count": null,
      "outputs": []
    },
    {
      "cell_type": "markdown",
      "metadata": {
        "id": "xpqHLHTj6W9-"
      },
      "source": [
        "We can use this pipeline by passing in a sequence and a list of candidate labels. The pipeline assumes by default that only one of the candidate labels is true, returning a list of scores for each label which add up to 1."
      ]
    },
    {
      "cell_type": "code",
      "metadata": {
        "id": "6soFj157HKuJ"
      },
      "source": [
        "sequences = 'like sherried malt love bottle respectable strength red apple cherry skin strawberry raspberry eccles cake malt loaf warm spice lot get nose finely structure dram soft leather rhubarb bramley apple cherryade fresh victoria plum pepper mute ginger deliver sustain flavor long spicy peel fruit finish give distillery closure could interest components bottle'"
      ],
      "execution_count": null,
      "outputs": []
    },
    {
      "cell_type": "code",
      "metadata": {
        "id": "UlneV5ukIFX7"
      },
      "source": [
        "candidate_labels = ['Single Malt Scotch', 'Blended Scotch Whisky', 'Blended Malt Scotch Whisky']"
      ],
      "execution_count": null,
      "outputs": []
    },
    {
      "cell_type": "code",
      "metadata": {
        "id": "-DIe-I-zx4fT"
      },
      "source": [
        "outputs = zero_shot_classifier(sequences = sequences, candidate_labels = candidate_labels, multi_class = False)"
      ],
      "execution_count": null,
      "outputs": []
    },
    {
      "cell_type": "markdown",
      "metadata": {
        "id": "d_cd0RLY6uNg"
      },
      "source": [
        "Let’s take a look at the outputs."
      ]
    },
    {
      "cell_type": "code",
      "metadata": {
        "id": "cFx_VAeT4kRE",
        "colab": {
          "base_uri": "https://localhost:8080/"
        },
        "outputId": "5f4bf26d-8331-4fd9-b031-1b0c3ff95d68"
      },
      "source": [
        "for label, score in zip(outputs['labels'], outputs['scores']):\n",
        "    print(f'{label}: {score:.3f}')"
      ],
      "execution_count": null,
      "outputs": [
        {
          "output_type": "stream",
          "name": "stdout",
          "text": [
            "Single Malt Scotch: 0.473\n",
            "Blended Scotch Whisky: 0.267\n",
            "Blended Malt Scotch Whisky: 0.260\n"
          ]
        }
      ]
    },
    {
      "cell_type": "markdown",
      "metadata": {
        "id": "DytT3bx468UB"
      },
      "source": [
        "The model correctly identifies that the likely label is Single Malt Scotch. Other irrelevant labels, such as Blended Scotch Whisky and Blended Malt Scotch Whisky, have a very low score."
      ]
    },
    {
      "cell_type": "code",
      "metadata": {
        "id": "AqJRPYalSXFj"
      },
      "source": [
        "task = 'zero-shot-classification'\n",
        "zero_shot_model = 'vicgalle/xlm-roberta-large-xnli-anli'\n",
        "classifier = pipeline(task, zero_shot_model, device = device) "
      ],
      "execution_count": null,
      "outputs": []
    },
    {
      "cell_type": "code",
      "metadata": {
        "id": "F0SJ9knVSgCJ"
      },
      "source": [
        "candidate_labels = ['Single Malt Scotch', 'Blended Scotch Whisky', 'Blended Malt Scotch Whisky']"
      ],
      "execution_count": null,
      "outputs": []
    },
    {
      "cell_type": "code",
      "metadata": {
        "id": "GMzKISC6r8M8"
      },
      "source": [
        "# Compute the predicted label for each whisky\n",
        "df['label_pred_zero_shot'] = df['clean_review'].apply(lambda x: classifier(x, candidate_labels = candidate_labels)['labels'][0])"
      ],
      "execution_count": null,
      "outputs": []
    },
    {
      "cell_type": "code",
      "metadata": {
        "id": "Lf9zxVUGoNi6"
      },
      "source": [
        "from sklearn.metrics import accuracy_score"
      ],
      "execution_count": null,
      "outputs": []
    },
    {
      "cell_type": "code",
      "metadata": {
        "id": "Omn7s3NWjBw1",
        "colab": {
          "base_uri": "https://localhost:8080/"
        },
        "outputId": "9b07758a-eb5c-4f2b-8de4-1a2b055cdf6b"
      },
      "source": [
        "# Accuracy\n",
        "accuracy_score(df['category'], df['label_pred_zero_shot'])"
      ],
      "execution_count": null,
      "outputs": [
        {
          "output_type": "execute_result",
          "data": {
            "text/plain": [
              "0.6907426246185148"
            ]
          },
          "metadata": {},
          "execution_count": 122
        }
      ]
    },
    {
      "cell_type": "markdown",
      "metadata": {
        "id": "sqWZAKpgOujg"
      },
      "source": [
        "The Zero-Shot classifier does a decent job. Glancing at a few random reviews uncorrectly labeled by the Zero-Shot classifier, there does not seem to be a particularly problematic class, although such a assertion would require further investigation. But the length of the review could lead to poor performance. We can read about this on the Hugging Face forum. Joe Davison, Hugging Face developer and creator of the Zero-Shot pipeline, says the following:\n",
        "\n",
        "*For long documents, I don’t think there’s an ideal solution right now. If truncation isn’t satisfactory, then the best thing you can do is probably split the document into smaller segments and ensemble the scores somehow.*\n",
        "\n",
        "We’ll try another solution: summarizing the article first, then Zero-Shot classifying it."
      ]
    },
    {
      "cell_type": "markdown",
      "metadata": {
        "id": "sPvItN3O-746"
      },
      "source": [
        "**Initialize and summarizing with Bert Summarizer + Zero-Shot Classification**"
      ]
    },
    {
      "cell_type": "code",
      "metadata": {
        "id": "LzbKnLuy13Mf"
      },
      "source": [
        "# Find the length of strings\n",
        "df['clean_review_length'] = df['clean_review'].apply(len)"
      ],
      "execution_count": null,
      "outputs": []
    },
    {
      "cell_type": "code",
      "metadata": {
        "colab": {
          "base_uri": "https://localhost:8080/"
        },
        "id": "kLcIT-LQ2SLS",
        "outputId": "c1dceefa-02e3-4ad7-ba7f-e676315b23e7"
      },
      "source": [
        "# Generate descriptive statistics \n",
        "df['clean_review_length'].describe()"
      ],
      "execution_count": null,
      "outputs": [
        {
          "output_type": "execute_result",
          "data": {
            "text/plain": [
              "count    983.000000\n",
              "mean     285.916582\n",
              "std       63.868860\n",
              "min      116.000000\n",
              "25%      250.000000\n",
              "50%      286.000000\n",
              "75%      320.000000\n",
              "max      668.000000\n",
              "Name: clean_review_length, dtype: float64"
            ]
          },
          "metadata": {},
          "execution_count": 124
        }
      ]
    },
    {
      "cell_type": "code",
      "metadata": {
        "colab": {
          "base_uri": "https://localhost:8080/",
          "height": 37
        },
        "id": "GGWBBXVnag_g",
        "outputId": "f3eb0620-ac2b-439a-b1e8-9b4b132fb9f9"
      },
      "source": [
        "# Find the longest string\n",
        "min(df['clean_review'], key = len)"
      ],
      "execution_count": null,
      "outputs": [
        {
          "output_type": "execute_result",
          "data": {
            "application/vnd.google.colaboratory.intrinsic+json": {
              "type": "string"
            },
            "text/plain": [
              "'lemonade hint aniseed putty nose tropical fruit spice milk chocolate palate finish medium length spicy hint licorice'"
            ]
          },
          "metadata": {},
          "execution_count": 125
        }
      ]
    },
    {
      "cell_type": "code",
      "metadata": {
        "colab": {
          "base_uri": "https://localhost:8080/",
          "height": 122
        },
        "id": "rvCL0oVbaRgb",
        "outputId": "90aad95c-8b35-4339-8042-98703d285b15"
      },
      "source": [
        "# Find the shortest string\n",
        "max(df['clean_review'], key = len)"
      ],
      "execution_count": null,
      "outputs": [
        {
          "output_type": "execute_result",
          "data": {
            "application/vnd.google.colaboratory.intrinsic+json": {
              "type": "string"
            },
            "text/plain": [
              "'color antique gold aroma dry creamy note vanilla marshmallow honey tropical fruit pineapple coconut palate malty creamy front vanilla marshmallow hint honey briefly become fruity tropical fruit turn dry oaky big long dry finish especially triple distil lowlander lowland whiskies know mature nicely younger age people know especially auchentoshan delicious older age mention still column older vintages auchentoshan offer individual retailers one cask time one casks one many vintage auchentoshan whiskies enjoy past years auchentoshan balance complexity perspective seem best year old range still say one hold fairly well age available exclusively park avenue liquors'"
            ]
          },
          "metadata": {},
          "execution_count": 126
        }
      ]
    },
    {
      "cell_type": "markdown",
      "metadata": {
        "id": "WUThe6ygZWm-"
      },
      "source": [
        "**Text Summarization with BERT**"
      ]
    },
    {
      "cell_type": "markdown",
      "metadata": {
        "id": "9hkkMn3PZOD9"
      },
      "source": [
        "To see how the summarization model works, we’ll do a quick dry run. \n",
        "\n"
      ]
    },
    {
      "cell_type": "code",
      "metadata": {
        "id": "yjiF3dkwkkCB"
      },
      "source": [
        "from transformers import BertTokenizerFast, EncoderDecoderModel"
      ],
      "execution_count": null,
      "outputs": []
    },
    {
      "cell_type": "code",
      "metadata": {
        "id": "8GqBU0DQosFU"
      },
      "source": [
        "review_text = max(df['clean_review'], key = len)"
      ],
      "execution_count": null,
      "outputs": []
    },
    {
      "cell_type": "code",
      "metadata": {
        "id": "j53fXrO_Dayi"
      },
      "source": [
        "summarization_model = 'mrm8488/bert-small2bert-small-finetuned-cnn_daily_mail-summarization'"
      ],
      "execution_count": null,
      "outputs": []
    },
    {
      "cell_type": "code",
      "metadata": {
        "colab": {
          "base_uri": "https://localhost:8080/"
        },
        "id": "wj1tZY4bkl-3",
        "outputId": "57d9407b-871a-473a-e70c-83ce77cb6173"
      },
      "source": [
        "model = EncoderDecoderModel.from_pretrained(summarization_model).to(Load_on_CPU)\n",
        "tokenizer = BertTokenizerFast.from_pretrained(summarization_model)\n",
        "\n",
        "inputs = tokenizer(review_text, padding = 'max_length', truncation = True, max_length = 512, return_tensors = 'pt')\n",
        "input_ids = inputs.input_ids.to(Load_on_CPU)\n",
        "attention_mask = inputs.attention_mask.to(Load_on_CPU)\n",
        "\n",
        "output = model.generate(input_ids, attention_mask = attention_mask, max_length = 286, no_repeat_ngram_size = 2, num_beams = 4, do_sample = False, early_stopping = True)\n",
        "summary_text = tokenizer.decode(output[0], skip_special_tokens = True)\n",
        "\n",
        "print(summary_text)"
      ],
      "execution_count": null,
      "outputs": [
        {
          "output_type": "stream",
          "name": "stdout",
          "text": [
            "the color antique gold aroma dry creamy note vanilla marshmallow honey tropical fruit turns dry oaky big long dry finish especially triple distil lowlander lowland whiskies know mature nicely younger age people know especially auchentoshan delicious older age mention still column older vintages auchnoshan offer individual retailers one cask time one.\n"
          ]
        }
      ]
    },
    {
      "cell_type": "markdown",
      "metadata": {
        "id": "A7Av_kcCZ2PS"
      },
      "source": [
        "**Initialize and summarizing with Bert Summarizer + Zero-Shot Classification**"
      ]
    },
    {
      "cell_type": "code",
      "metadata": {
        "id": "81jJdXF0ERpm"
      },
      "source": [
        "model = EncoderDecoderModel.from_pretrained(summarization_model).to(Load_on_CPU)\n",
        "tokenizer = BertTokenizerFast.from_pretrained(summarization_model)\n",
        "\n",
        "# Custom summarization pipeline (to handle long reviews)\n",
        "def generate_summary(text):\n",
        "    \n",
        "    inputs = tokenizer(text, padding = 'max_length', truncation = True, max_length = 512, return_tensors = 'pt')\n",
        "    input_ids = inputs.input_ids.to(Load_on_CPU)\n",
        "    attention_mask = inputs.attention_mask.to(Load_on_CPU)\n",
        "\n",
        "    output = model.generate(input_ids, attention_mask = attention_mask, max_length = 286, no_repeat_ngram_size = 2, num_beams = 4, do_sample = False, early_stopping = True)\n",
        "    \n",
        "    return tokenizer.decode(output[0], skip_special_tokens = True)"
      ],
      "execution_count": null,
      "outputs": []
    },
    {
      "cell_type": "code",
      "metadata": {
        "id": "D72baZGujMqL"
      },
      "source": [
        "task = 'zero-shot-classification'\n",
        "zero_shot_model = 'vicgalle/xlm-roberta-large-xnli-anli'\n",
        "classifier = pipeline(task, zero_shot_model, device = device) "
      ],
      "execution_count": null,
      "outputs": []
    },
    {
      "cell_type": "code",
      "metadata": {
        "id": "7E3UmxK5aPEn"
      },
      "source": [
        "candidate_labels = ['Single Malt Scotch', 'Blended Scotch Whisky', 'Blended Malt Scotch Whisky']"
      ],
      "execution_count": null,
      "outputs": []
    },
    {
      "cell_type": "code",
      "metadata": {
        "id": "BVaAccNoabEO"
      },
      "source": [
        "# Apply summarization then zero-shot classification to the dataset\n",
        "df['label_pred_bert-small_sum_zs'] = df['clean_review'].apply(lambda x: classifier(generate_summary(x), candidate_labels = candidate_labels, multi_class = False)['labels'][0])"
      ],
      "execution_count": null,
      "outputs": []
    },
    {
      "cell_type": "code",
      "metadata": {
        "id": "OnnddQl06e41",
        "colab": {
          "base_uri": "https://localhost:8080/"
        },
        "outputId": "9a759d65-fc0c-4d03-af7b-0ef5122deab3"
      },
      "source": [
        "# Accuracy\n",
        "accuracy_score(df['category'], df['label_pred_bert-small_sum_zs'])"
      ],
      "execution_count": null,
      "outputs": [
        {
          "output_type": "execute_result",
          "data": {
            "text/plain": [
              "0.728382502543235"
            ]
          },
          "metadata": {},
          "execution_count": 135
        }
      ]
    },
    {
      "cell_type": "markdown",
      "metadata": {
        "id": "NmCEIHSDRnSx"
      },
      "source": [
        "Adding the summarization before the zero-shot classification, **the accuracy jumped by ~3.7%!**"
      ]
    },
    {
      "cell_type": "markdown",
      "metadata": {
        "id": "ooXUW-FFaDCJ"
      },
      "source": [
        "**Text Summarization with T5**"
      ]
    },
    {
      "cell_type": "markdown",
      "metadata": {
        "id": "WExJWo_mZ9x1"
      },
      "source": [
        "To see how the summarization model works, we’ll do a quick dry run."
      ]
    },
    {
      "cell_type": "code",
      "metadata": {
        "id": "f8QzMH2S0jZk"
      },
      "source": [
        "from transformers import T5Tokenizer, T5ForConditionalGeneration, T5Config"
      ],
      "execution_count": null,
      "outputs": []
    },
    {
      "cell_type": "code",
      "metadata": {
        "id": "WGuCeNI0MJoC"
      },
      "source": [
        "review_text = max(df['clean_review'], key = len)"
      ],
      "execution_count": null,
      "outputs": []
    },
    {
      "cell_type": "code",
      "metadata": {
        "colab": {
          "base_uri": "https://localhost:8080/",
          "height": 182,
          "referenced_widgets": [
            "62d8b2c5e5bc486f8c8a3f4025da1483",
            "27eaef9fcd384c5086049128952a1429",
            "8e064588f7244f5ba83251070dbb0f35",
            "cfa17e7efde844ca99af14c039c17aae",
            "38ba530aead94fb9a075ceb29bf7a816",
            "64f2e5b84df7460986245a910fdb6d05",
            "95572e3d6ef04f95affc0b014de5069f",
            "3657a0c733d141cb8c32a2b6af300b24",
            "5366d9e6ece6402dae843847effa17a6",
            "c23d1bbf1318472dbdf325b30e6d69ef",
            "4c4944510c8340009b3f8a0d81118cd1",
            "42d8170fc66b4222909bad6d0d35b610",
            "cd66ac86f4ad4bb1be3b3e4479465634",
            "8e6415bd6ad24ba3aa189edc512f4425",
            "68dd74749396474ba42c038e0eb4585d",
            "bc277053c59643e2beb55dbd814769e2",
            "b96e4621d09c46a692c16eccc1cba8d7",
            "da47cf277f60403b97bb30993a7a6020",
            "392f3c0685c8474b87ec3cfba68f7b1e",
            "955ec16671414bf38387b3f5fc82774b",
            "bc6573ae0af7467985ea91c786363c80",
            "59a312af2dbe48dca9c198d8764e95f9",
            "b040e9f8d3e04b6eae31c85850596220",
            "c2eb0737df0c49bdac488fedd9c4769c",
            "4e747ffc3fc94e25af7aebceaf01d15e",
            "24cc607d028c4022856837b5e32d7338",
            "38fab63704a54986b6034a3e0c14437b",
            "e0beacb51022410195953309e6da1342",
            "ccba5935db05496eb33dfa06c91af0bb",
            "a2b7067b84164b359d9d7f904549c7f4",
            "65f69fa4f1e44928a7a1258dbec647cf",
            "ab280eef1b5744bdb1c02b117ea2150c",
            "330b1ffbfa8c47d29db815002c1ead7a",
            "5811eaa3ef5e42c280be9c0f4b9902b0",
            "b94e461818954126b0090565b87b8ee8",
            "3f4017f94a0649adaaaaac6c5b877881",
            "eec41917b5dc44e0901e813deb8c1fa4",
            "8b577a483f4840ac8b1980ad5bf98273",
            "be500defe109496192a5169cce46429e",
            "0195f760e147449c8cdba5c7c79df888",
            "5c8d0035e02a4123b29e9ccc71d13f21",
            "280904fcdfc14ec989aa5cc51af2a0f7",
            "cae5c6e32e114d2c91a112851d7d0d93",
            "22efabfa0d37478dbb28fb86c13c177f"
          ]
        },
        "id": "3bth6FCm0u7E",
        "outputId": "b57b21a7-2320-48ea-8808-542c1bdfeed8"
      },
      "source": [
        "model = T5ForConditionalGeneration.from_pretrained('t5-small').to(Load_on_CPU)\n",
        "tokenizer = T5Tokenizer.from_pretrained('t5-small')\n",
        "\n",
        "input_ids = tokenizer.encode(review_text, padding = 'max_length', truncation = True, max_length = 512, return_tensors = 'pt').to(Load_on_CPU)\n",
        "summary_ids = model.generate(input_ids, max_length = 286, no_repeat_ngram_size = 2, num_beams = 4, do_sample = False, early_stopping = True)\n",
        "\n",
        "summary_text = tokenizer.decode(summary_ids[0], skip_special_tokens = True)\n",
        "\n",
        "print(summary_text)"
      ],
      "execution_count": null,
      "outputs": [
        {
          "output_type": "display_data",
          "data": {
            "application/vnd.jupyter.widget-view+json": {
              "model_id": "62d8b2c5e5bc486f8c8a3f4025da1483",
              "version_minor": 0,
              "version_major": 2
            },
            "text/plain": [
              "Downloading:   0%|          | 0.00/1.20k [00:00<?, ?B/s]"
            ]
          },
          "metadata": {}
        },
        {
          "output_type": "display_data",
          "data": {
            "application/vnd.jupyter.widget-view+json": {
              "model_id": "42d8170fc66b4222909bad6d0d35b610",
              "version_minor": 0,
              "version_major": 2
            },
            "text/plain": [
              "Downloading:   0%|          | 0.00/242M [00:00<?, ?B/s]"
            ]
          },
          "metadata": {}
        },
        {
          "output_type": "display_data",
          "data": {
            "application/vnd.jupyter.widget-view+json": {
              "model_id": "b040e9f8d3e04b6eae31c85850596220",
              "version_minor": 0,
              "version_major": 2
            },
            "text/plain": [
              "Downloading:   0%|          | 0.00/792k [00:00<?, ?B/s]"
            ]
          },
          "metadata": {}
        },
        {
          "output_type": "display_data",
          "data": {
            "application/vnd.jupyter.widget-view+json": {
              "model_id": "5811eaa3ef5e42c280be9c0f4b9902b0",
              "version_minor": 0,
              "version_major": 2
            },
            "text/plain": [
              "Downloading:   0%|          | 0.00/1.39M [00:00<?, ?B/s]"
            ]
          },
          "metadata": {}
        },
        {
          "output_type": "stream",
          "name": "stdout",
          "text": [
            "gold aroma dry creamy note vanilla marshmallow honey tropical fruit pineapple coconut palate malty creamy front vanilla  marshmallow hint honey briefly become fruity tropical fruits turn dry oaky big long dry finish especially triple distil lowlander lowland whiskies know mature nicely younger age people know especially auchentoshan delicious older age mention still column older vintages Auchen to offer individual retailers one cask time one cazks one many vintage aussientasan whisky enjoy past years a balance complexity perspective seem best year old range still say one hold\n"
          ]
        }
      ]
    },
    {
      "cell_type": "markdown",
      "metadata": {
        "id": "q_PdIBUn_RBI"
      },
      "source": [
        "**Initialize and summarizing with T5 Summarizer + Zero-Shot Classification**"
      ]
    },
    {
      "cell_type": "code",
      "metadata": {
        "id": "rZktX0qoIlhE"
      },
      "source": [
        "model = T5ForConditionalGeneration.from_pretrained('t5-small').to(Load_on_CPU)\n",
        "tokenizer = T5Tokenizer.from_pretrained('t5-small')\n",
        "\n",
        "# Custom summarization pipeline (to handle long reviews)\n",
        "def generate_summary(text):\n",
        "\n",
        "    input_ids = tokenizer.encode(text, padding = 'max_length', truncation = True, max_length = 512, return_tensors = 'pt').to(Load_on_CPU)\n",
        "    summary_ids = model.generate(input_ids, max_length = 286, no_repeat_ngram_size = 2, num_beams = 4, do_sample = False, early_stopping = True)\n",
        "\n",
        "    return tokenizer.decode(summary_ids[0], skip_special_tokens = True)"
      ],
      "execution_count": null,
      "outputs": []
    },
    {
      "cell_type": "code",
      "metadata": {
        "id": "heoI78isJXm8"
      },
      "source": [
        "task = 'zero-shot-classification'\n",
        "zero_shot_model = 'vicgalle/xlm-roberta-large-xnli-anli'\n",
        "classifier = pipeline(task, zero_shot_model, device = device) "
      ],
      "execution_count": null,
      "outputs": []
    },
    {
      "cell_type": "code",
      "metadata": {
        "id": "JrsoaTCnJaTk"
      },
      "source": [
        "candidate_labels = ['Single Malt Scotch', 'Blended Scotch Whisky', 'Blended Malt Scotch Whisky']"
      ],
      "execution_count": null,
      "outputs": []
    },
    {
      "cell_type": "code",
      "metadata": {
        "id": "Rjs_mN_KJdPW"
      },
      "source": [
        "# Apply summarization then zero-shot classification to the dataset\n",
        "df['label_pred_t5-small_sum_zs'] = df['clean_review'].apply(lambda x: classifier(generate_summary(x), candidate_labels = candidate_labels, multi_class = False)['labels'][0])"
      ],
      "execution_count": null,
      "outputs": []
    },
    {
      "cell_type": "code",
      "metadata": {
        "colab": {
          "base_uri": "https://localhost:8080/"
        },
        "id": "K-h4KZVuJkoU",
        "outputId": "5d568c3b-78eb-4013-c5a2-102032fa7e22"
      },
      "source": [
        "# Accuracy\n",
        "accuracy_score(df['category'], df['label_pred_t5-small_sum_zs'])"
      ],
      "execution_count": null,
      "outputs": [
        {
          "output_type": "execute_result",
          "data": {
            "text/plain": [
              "0.7293997965412004"
            ]
          },
          "metadata": {},
          "execution_count": 143
        }
      ]
    },
    {
      "cell_type": "markdown",
      "metadata": {
        "id": "h1CVcJpZSTY7"
      },
      "source": [
        "Adding the summarization before the zero-shot classification, **the accuracy jumped by ~3.8%!**"
      ]
    }
  ]
}