{
  "nbformat": 4,
  "nbformat_minor": 0,
  "metadata": {
    "colab": {
      "name": "e-commerce_customer_churn_prediction.ipynb",
      "provenance": [],
      "collapsed_sections": [],
      "authorship_tag": "ABX9TyNqlmInSwTSSBDTymHV5uqX",
      "include_colab_link": true
    },
    "kernelspec": {
      "name": "python3",
      "display_name": "Python 3"
    },
    "language_info": {
      "name": "python"
    },
    "gpuClass": "standard"
  },
  "cells": [
    {
      "cell_type": "markdown",
      "metadata": {
        "id": "view-in-github",
        "colab_type": "text"
      },
      "source": [
        "<a href=\"https://colab.research.google.com/github/KelvinLam05/customer_e-mail_categorization/blob/main/e-commerce_customer_churn_prediction.ipynb\" target=\"_parent\"><img src=\"https://colab.research.google.com/assets/colab-badge.svg\" alt=\"Open In Colab\"/></a>"
      ]
    },
    {
      "cell_type": "markdown",
      "metadata": {
        "id": "rBmInmnTejoM"
      },
      "source": [
        "**Goal of the project**\n"
      ]
    },
    {
      "cell_type": "markdown",
      "source": [
        "Companies put a lot of emphasis on customer acquisition, and rightfully so: companies need customers. However, customer acquisition costs are usually fairly high, and companies sometimes focus too much on acquisition and not enough on retention. A company may have great acquisition rates, but, if you also have a high churn rate, we are essentially flushing those acquisition costs down the drain. The goal of this project is to demonstrate how machine learning can be used to identify customers who are likely to churn. If customers at high risk of churn can be identified early, interventions can be done to retain that customer."
      ],
      "metadata": {
        "id": "MtM_wtTdCqeH"
      }
    },
    {
      "cell_type": "code",
      "metadata": {
        "id": "Ve9jnH44AS-4"
      },
      "source": [
        "# Importing libraries\n",
        "import pandas as pd\n",
        "import numpy as np\n",
        "import matplotlib.pyplot as plt\n",
        "import seaborn as sns\n",
        "\n",
        "%matplotlib inline"
      ],
      "execution_count": 234,
      "outputs": []
    },
    {
      "cell_type": "markdown",
      "source": [
        "**Load the data**"
      ],
      "metadata": {
        "id": "p1OSkCjjARoT"
      }
    },
    {
      "cell_type": "code",
      "metadata": {
        "id": "j3Yk-eM7AoBb"
      },
      "source": [
        "# Load dataset\n",
        "df = pd.read_excel('/content/e-commerce_dataset.xlsx')"
      ],
      "execution_count": 235,
      "outputs": []
    },
    {
      "cell_type": "code",
      "source": [
        "# Rename Pandas columns to lower case\n",
        "df.columns = df.columns.str.lower()"
      ],
      "metadata": {
        "id": "fmOq2shuA35o"
      },
      "execution_count": 236,
      "outputs": []
    },
    {
      "cell_type": "code",
      "source": [
        "df = df.applymap(lambda s: s.lower() if type(s) == str else s)"
      ],
      "metadata": {
        "id": "Imj51xbdUPAj"
      },
      "execution_count": 237,
      "outputs": []
    },
    {
      "cell_type": "code",
      "metadata": {
        "colab": {
          "base_uri": "https://localhost:8080/",
          "height": 268
        },
        "id": "GcRFPPNEOuRT",
        "outputId": "e51cadca-4705-41ab-9b19-934b0818ecb0"
      },
      "source": [
        "# Examine the data\n",
        "df.head()"
      ],
      "execution_count": 238,
      "outputs": [
        {
          "output_type": "execute_result",
          "data": {
            "text/plain": [
              "   customerid  churn  tenure preferredlogindevice  citytier  warehousetohome  \\\n",
              "0       50001      1     4.0         mobile phone         3              6.0   \n",
              "1       50002      1     NaN                phone         1              8.0   \n",
              "2       50003      1     NaN                phone         1             30.0   \n",
              "3       50004      1     0.0                phone         3             15.0   \n",
              "4       50005      1     0.0                phone         1             12.0   \n",
              "\n",
              "  preferredpaymentmode  gender  hourspendonapp  numberofdeviceregistered  \\\n",
              "0           debit card  female             3.0                         3   \n",
              "1                  upi    male             3.0                         4   \n",
              "2           debit card    male             2.0                         4   \n",
              "3           debit card    male             2.0                         4   \n",
              "4                   cc    male             NaN                         3   \n",
              "\n",
              "     preferedordercat  satisfactionscore maritalstatus  numberofaddress  \\\n",
              "0  laptop & accessory                  2        single                9   \n",
              "1              mobile                  3        single                7   \n",
              "2              mobile                  3        single                6   \n",
              "3  laptop & accessory                  5        single                8   \n",
              "4              mobile                  5        single                3   \n",
              "\n",
              "   complain  orderamounthikefromlastyear  couponused  ordercount  \\\n",
              "0         1                         11.0         1.0         1.0   \n",
              "1         1                         15.0         0.0         1.0   \n",
              "2         1                         14.0         0.0         1.0   \n",
              "3         0                         23.0         0.0         1.0   \n",
              "4         0                         11.0         1.0         1.0   \n",
              "\n",
              "   daysincelastorder  cashbackamount  \n",
              "0                5.0          159.93  \n",
              "1                0.0          120.90  \n",
              "2                3.0          120.28  \n",
              "3                3.0          134.07  \n",
              "4                3.0          129.60  "
            ],
            "text/html": [
              "\n",
              "  <div id=\"df-8e8e752c-0117-44a0-983a-69dff176be05\">\n",
              "    <div class=\"colab-df-container\">\n",
              "      <div>\n",
              "<style scoped>\n",
              "    .dataframe tbody tr th:only-of-type {\n",
              "        vertical-align: middle;\n",
              "    }\n",
              "\n",
              "    .dataframe tbody tr th {\n",
              "        vertical-align: top;\n",
              "    }\n",
              "\n",
              "    .dataframe thead th {\n",
              "        text-align: right;\n",
              "    }\n",
              "</style>\n",
              "<table border=\"1\" class=\"dataframe\">\n",
              "  <thead>\n",
              "    <tr style=\"text-align: right;\">\n",
              "      <th></th>\n",
              "      <th>customerid</th>\n",
              "      <th>churn</th>\n",
              "      <th>tenure</th>\n",
              "      <th>preferredlogindevice</th>\n",
              "      <th>citytier</th>\n",
              "      <th>warehousetohome</th>\n",
              "      <th>preferredpaymentmode</th>\n",
              "      <th>gender</th>\n",
              "      <th>hourspendonapp</th>\n",
              "      <th>numberofdeviceregistered</th>\n",
              "      <th>preferedordercat</th>\n",
              "      <th>satisfactionscore</th>\n",
              "      <th>maritalstatus</th>\n",
              "      <th>numberofaddress</th>\n",
              "      <th>complain</th>\n",
              "      <th>orderamounthikefromlastyear</th>\n",
              "      <th>couponused</th>\n",
              "      <th>ordercount</th>\n",
              "      <th>daysincelastorder</th>\n",
              "      <th>cashbackamount</th>\n",
              "    </tr>\n",
              "  </thead>\n",
              "  <tbody>\n",
              "    <tr>\n",
              "      <th>0</th>\n",
              "      <td>50001</td>\n",
              "      <td>1</td>\n",
              "      <td>4.0</td>\n",
              "      <td>mobile phone</td>\n",
              "      <td>3</td>\n",
              "      <td>6.0</td>\n",
              "      <td>debit card</td>\n",
              "      <td>female</td>\n",
              "      <td>3.0</td>\n",
              "      <td>3</td>\n",
              "      <td>laptop &amp; accessory</td>\n",
              "      <td>2</td>\n",
              "      <td>single</td>\n",
              "      <td>9</td>\n",
              "      <td>1</td>\n",
              "      <td>11.0</td>\n",
              "      <td>1.0</td>\n",
              "      <td>1.0</td>\n",
              "      <td>5.0</td>\n",
              "      <td>159.93</td>\n",
              "    </tr>\n",
              "    <tr>\n",
              "      <th>1</th>\n",
              "      <td>50002</td>\n",
              "      <td>1</td>\n",
              "      <td>NaN</td>\n",
              "      <td>phone</td>\n",
              "      <td>1</td>\n",
              "      <td>8.0</td>\n",
              "      <td>upi</td>\n",
              "      <td>male</td>\n",
              "      <td>3.0</td>\n",
              "      <td>4</td>\n",
              "      <td>mobile</td>\n",
              "      <td>3</td>\n",
              "      <td>single</td>\n",
              "      <td>7</td>\n",
              "      <td>1</td>\n",
              "      <td>15.0</td>\n",
              "      <td>0.0</td>\n",
              "      <td>1.0</td>\n",
              "      <td>0.0</td>\n",
              "      <td>120.90</td>\n",
              "    </tr>\n",
              "    <tr>\n",
              "      <th>2</th>\n",
              "      <td>50003</td>\n",
              "      <td>1</td>\n",
              "      <td>NaN</td>\n",
              "      <td>phone</td>\n",
              "      <td>1</td>\n",
              "      <td>30.0</td>\n",
              "      <td>debit card</td>\n",
              "      <td>male</td>\n",
              "      <td>2.0</td>\n",
              "      <td>4</td>\n",
              "      <td>mobile</td>\n",
              "      <td>3</td>\n",
              "      <td>single</td>\n",
              "      <td>6</td>\n",
              "      <td>1</td>\n",
              "      <td>14.0</td>\n",
              "      <td>0.0</td>\n",
              "      <td>1.0</td>\n",
              "      <td>3.0</td>\n",
              "      <td>120.28</td>\n",
              "    </tr>\n",
              "    <tr>\n",
              "      <th>3</th>\n",
              "      <td>50004</td>\n",
              "      <td>1</td>\n",
              "      <td>0.0</td>\n",
              "      <td>phone</td>\n",
              "      <td>3</td>\n",
              "      <td>15.0</td>\n",
              "      <td>debit card</td>\n",
              "      <td>male</td>\n",
              "      <td>2.0</td>\n",
              "      <td>4</td>\n",
              "      <td>laptop &amp; accessory</td>\n",
              "      <td>5</td>\n",
              "      <td>single</td>\n",
              "      <td>8</td>\n",
              "      <td>0</td>\n",
              "      <td>23.0</td>\n",
              "      <td>0.0</td>\n",
              "      <td>1.0</td>\n",
              "      <td>3.0</td>\n",
              "      <td>134.07</td>\n",
              "    </tr>\n",
              "    <tr>\n",
              "      <th>4</th>\n",
              "      <td>50005</td>\n",
              "      <td>1</td>\n",
              "      <td>0.0</td>\n",
              "      <td>phone</td>\n",
              "      <td>1</td>\n",
              "      <td>12.0</td>\n",
              "      <td>cc</td>\n",
              "      <td>male</td>\n",
              "      <td>NaN</td>\n",
              "      <td>3</td>\n",
              "      <td>mobile</td>\n",
              "      <td>5</td>\n",
              "      <td>single</td>\n",
              "      <td>3</td>\n",
              "      <td>0</td>\n",
              "      <td>11.0</td>\n",
              "      <td>1.0</td>\n",
              "      <td>1.0</td>\n",
              "      <td>3.0</td>\n",
              "      <td>129.60</td>\n",
              "    </tr>\n",
              "  </tbody>\n",
              "</table>\n",
              "</div>\n",
              "      <button class=\"colab-df-convert\" onclick=\"convertToInteractive('df-8e8e752c-0117-44a0-983a-69dff176be05')\"\n",
              "              title=\"Convert this dataframe to an interactive table.\"\n",
              "              style=\"display:none;\">\n",
              "        \n",
              "  <svg xmlns=\"http://www.w3.org/2000/svg\" height=\"24px\"viewBox=\"0 0 24 24\"\n",
              "       width=\"24px\">\n",
              "    <path d=\"M0 0h24v24H0V0z\" fill=\"none\"/>\n",
              "    <path d=\"M18.56 5.44l.94 2.06.94-2.06 2.06-.94-2.06-.94-.94-2.06-.94 2.06-2.06.94zm-11 1L8.5 8.5l.94-2.06 2.06-.94-2.06-.94L8.5 2.5l-.94 2.06-2.06.94zm10 10l.94 2.06.94-2.06 2.06-.94-2.06-.94-.94-2.06-.94 2.06-2.06.94z\"/><path d=\"M17.41 7.96l-1.37-1.37c-.4-.4-.92-.59-1.43-.59-.52 0-1.04.2-1.43.59L10.3 9.45l-7.72 7.72c-.78.78-.78 2.05 0 2.83L4 21.41c.39.39.9.59 1.41.59.51 0 1.02-.2 1.41-.59l7.78-7.78 2.81-2.81c.8-.78.8-2.07 0-2.86zM5.41 20L4 18.59l7.72-7.72 1.47 1.35L5.41 20z\"/>\n",
              "  </svg>\n",
              "      </button>\n",
              "      \n",
              "  <style>\n",
              "    .colab-df-container {\n",
              "      display:flex;\n",
              "      flex-wrap:wrap;\n",
              "      gap: 12px;\n",
              "    }\n",
              "\n",
              "    .colab-df-convert {\n",
              "      background-color: #E8F0FE;\n",
              "      border: none;\n",
              "      border-radius: 50%;\n",
              "      cursor: pointer;\n",
              "      display: none;\n",
              "      fill: #1967D2;\n",
              "      height: 32px;\n",
              "      padding: 0 0 0 0;\n",
              "      width: 32px;\n",
              "    }\n",
              "\n",
              "    .colab-df-convert:hover {\n",
              "      background-color: #E2EBFA;\n",
              "      box-shadow: 0px 1px 2px rgba(60, 64, 67, 0.3), 0px 1px 3px 1px rgba(60, 64, 67, 0.15);\n",
              "      fill: #174EA6;\n",
              "    }\n",
              "\n",
              "    [theme=dark] .colab-df-convert {\n",
              "      background-color: #3B4455;\n",
              "      fill: #D2E3FC;\n",
              "    }\n",
              "\n",
              "    [theme=dark] .colab-df-convert:hover {\n",
              "      background-color: #434B5C;\n",
              "      box-shadow: 0px 1px 3px 1px rgba(0, 0, 0, 0.15);\n",
              "      filter: drop-shadow(0px 1px 2px rgba(0, 0, 0, 0.3));\n",
              "      fill: #FFFFFF;\n",
              "    }\n",
              "  </style>\n",
              "\n",
              "      <script>\n",
              "        const buttonEl =\n",
              "          document.querySelector('#df-8e8e752c-0117-44a0-983a-69dff176be05 button.colab-df-convert');\n",
              "        buttonEl.style.display =\n",
              "          google.colab.kernel.accessAllowed ? 'block' : 'none';\n",
              "\n",
              "        async function convertToInteractive(key) {\n",
              "          const element = document.querySelector('#df-8e8e752c-0117-44a0-983a-69dff176be05');\n",
              "          const dataTable =\n",
              "            await google.colab.kernel.invokeFunction('convertToInteractive',\n",
              "                                                     [key], {});\n",
              "          if (!dataTable) return;\n",
              "\n",
              "          const docLinkHtml = 'Like what you see? Visit the ' +\n",
              "            '<a target=\"_blank\" href=https://colab.research.google.com/notebooks/data_table.ipynb>data table notebook</a>'\n",
              "            + ' to learn more about interactive tables.';\n",
              "          element.innerHTML = '';\n",
              "          dataTable['output_type'] = 'display_data';\n",
              "          await google.colab.output.renderOutput(dataTable, element);\n",
              "          const docLink = document.createElement('div');\n",
              "          docLink.innerHTML = docLinkHtml;\n",
              "          element.appendChild(docLink);\n",
              "        }\n",
              "      </script>\n",
              "    </div>\n",
              "  </div>\n",
              "  "
            ]
          },
          "metadata": {},
          "execution_count": 238
        }
      ]
    },
    {
      "cell_type": "code",
      "metadata": {
        "colab": {
          "base_uri": "https://localhost:8080/"
        },
        "id": "ggHEXgt5O3c6",
        "outputId": "c39d0fd9-3a04-4e62-db41-92d6f09491e9"
      },
      "source": [
        "# Overview of all variables, their datatypes\n",
        "df.info()"
      ],
      "execution_count": 239,
      "outputs": [
        {
          "output_type": "stream",
          "name": "stdout",
          "text": [
            "<class 'pandas.core.frame.DataFrame'>\n",
            "RangeIndex: 5630 entries, 0 to 5629\n",
            "Data columns (total 20 columns):\n",
            " #   Column                       Non-Null Count  Dtype  \n",
            "---  ------                       --------------  -----  \n",
            " 0   customerid                   5630 non-null   int64  \n",
            " 1   churn                        5630 non-null   int64  \n",
            " 2   tenure                       5366 non-null   float64\n",
            " 3   preferredlogindevice         5630 non-null   object \n",
            " 4   citytier                     5630 non-null   int64  \n",
            " 5   warehousetohome              5379 non-null   float64\n",
            " 6   preferredpaymentmode         5630 non-null   object \n",
            " 7   gender                       5630 non-null   object \n",
            " 8   hourspendonapp               5375 non-null   float64\n",
            " 9   numberofdeviceregistered     5630 non-null   int64  \n",
            " 10  preferedordercat             5630 non-null   object \n",
            " 11  satisfactionscore            5630 non-null   int64  \n",
            " 12  maritalstatus                5630 non-null   object \n",
            " 13  numberofaddress              5630 non-null   int64  \n",
            " 14  complain                     5630 non-null   int64  \n",
            " 15  orderamounthikefromlastyear  5365 non-null   float64\n",
            " 16  couponused                   5374 non-null   float64\n",
            " 17  ordercount                   5372 non-null   float64\n",
            " 18  daysincelastorder            5323 non-null   float64\n",
            " 19  cashbackamount               5630 non-null   float64\n",
            "dtypes: float64(8), int64(7), object(5)\n",
            "memory usage: 879.8+ KB\n"
          ]
        }
      ]
    },
    {
      "cell_type": "markdown",
      "source": [
        "**Define the target variable**\n"
      ],
      "metadata": {
        "id": "Ff4Ln6OXTGR9"
      }
    },
    {
      "cell_type": "markdown",
      "source": [
        "If we run the Pandas value_counts( ) function we will see that this is an imbalanced dataset. "
      ],
      "metadata": {
        "id": "q9YG00NxBj2G"
      }
    },
    {
      "cell_type": "code",
      "source": [
        "df['churn'].value_counts()"
      ],
      "metadata": {
        "colab": {
          "base_uri": "https://localhost:8080/"
        },
        "id": "K8PN-GxmBniq",
        "outputId": "ae281243-cf9b-4718-8d67-0db51e983b0f"
      },
      "execution_count": 240,
      "outputs": [
        {
          "output_type": "execute_result",
          "data": {
            "text/plain": [
              "0    4682\n",
              "1     948\n",
              "Name: churn, dtype: int64"
            ]
          },
          "metadata": {},
          "execution_count": 240
        }
      ]
    },
    {
      "cell_type": "markdown",
      "source": [
        "**Check for missing values**"
      ],
      "metadata": {
        "id": "menw3-ibCGX9"
      }
    },
    {
      "cell_type": "code",
      "metadata": {
        "colab": {
          "base_uri": "https://localhost:8080/"
        },
        "id": "28MsfXzToekQ",
        "outputId": "dac7e3df-0078-420a-da86-540474a3c05a"
      },
      "source": [
        "# Check for missing values\n",
        "df.isnull().sum()"
      ],
      "execution_count": 241,
      "outputs": [
        {
          "output_type": "execute_result",
          "data": {
            "text/plain": [
              "customerid                       0\n",
              "churn                            0\n",
              "tenure                         264\n",
              "preferredlogindevice             0\n",
              "citytier                         0\n",
              "warehousetohome                251\n",
              "preferredpaymentmode             0\n",
              "gender                           0\n",
              "hourspendonapp                 255\n",
              "numberofdeviceregistered         0\n",
              "preferedordercat                 0\n",
              "satisfactionscore                0\n",
              "maritalstatus                    0\n",
              "numberofaddress                  0\n",
              "complain                         0\n",
              "orderamounthikefromlastyear    265\n",
              "couponused                     256\n",
              "ordercount                     258\n",
              "daysincelastorder              307\n",
              "cashbackamount                   0\n",
              "dtype: int64"
            ]
          },
          "metadata": {},
          "execution_count": 241
        }
      ]
    },
    {
      "cell_type": "markdown",
      "source": [
        "We do have some missing values."
      ],
      "metadata": {
        "id": "p6mw9iXfCM8p"
      }
    },
    {
      "cell_type": "markdown",
      "source": [
        "**Check for duplicate values**"
      ],
      "metadata": {
        "id": "QYch2PS0Q-rQ"
      }
    },
    {
      "cell_type": "code",
      "source": [
        "# Identify duplicate rows\n",
        "df.duplicated().sum()"
      ],
      "metadata": {
        "colab": {
          "base_uri": "https://localhost:8080/"
        },
        "id": "Xrsa6i7ofgko",
        "outputId": "437fd835-b7f0-4454-a6ee-1b961e2d3551"
      },
      "execution_count": 242,
      "outputs": [
        {
          "output_type": "execute_result",
          "data": {
            "text/plain": [
              "0"
            ]
          },
          "metadata": {},
          "execution_count": 242
        }
      ]
    },
    {
      "cell_type": "markdown",
      "source": [
        "There were no duplicate rows."
      ],
      "metadata": {
        "id": "Qzh0kQsdRXyZ"
      }
    },
    {
      "cell_type": "code",
      "source": [
        "# Drop the 'customerid' column \n",
        "df = df.drop(['customerid'], axis = 1)"
      ],
      "metadata": {
        "id": "VJXz7BUAa2tq"
      },
      "execution_count": 243,
      "outputs": []
    },
    {
      "cell_type": "markdown",
      "source": [
        "**Examine collinearity**"
      ],
      "metadata": {
        "id": "oRTaOe0ruL3U"
      }
    },
    {
      "cell_type": "markdown",
      "source": [
        "Having highly correlated variables will result in unnecessarily complex models with more than necessary predictor variables.\n",
        "\n",
        "Creating a correlation heatmap is a good way to visualise potential collinearity. We can see from the colours below that preferedordercat and cashbackamount are collinear, so only one is needed."
      ],
      "metadata": {
        "id": "aWhiOaszuSR3"
      }
    },
    {
      "cell_type": "code",
      "source": [
        "from dython.nominal import associations"
      ],
      "metadata": {
        "id": "02AQNKXU9S9m"
      },
      "execution_count": 244,
      "outputs": []
    },
    {
      "cell_type": "code",
      "source": [
        "features = df.copy()"
      ],
      "metadata": {
        "id": "tpPBd0KAbYGS"
      },
      "execution_count": 245,
      "outputs": []
    },
    {
      "cell_type": "code",
      "source": [
        "features.drop(['churn'], axis = 1, inplace = True)"
      ],
      "metadata": {
        "id": "Ur0zorVobXsZ"
      },
      "execution_count": 246,
      "outputs": []
    },
    {
      "cell_type": "code",
      "source": [
        "fig, ax = plt.subplots(figsize = (14, 10))\n",
        "r = associations(features, ax = ax, cmap = 'coolwarm')"
      ],
      "metadata": {
        "colab": {
          "base_uri": "https://localhost:8080/",
          "height": 735
        },
        "id": "dHyc_3x974ph",
        "outputId": "ffa2e0db-655e-425f-ee96-d6cbab70951e"
      },
      "execution_count": 247,
      "outputs": [
        {
          "output_type": "display_data",
          "data": {
            "text/plain": [
              "<Figure size 1008x720 with 2 Axes>"
            ],
            "image/png": "[encoded data removed]"
          },
          "metadata": {
            "needs_background": "light"
          }
        }
      ]
    },
    {
      "cell_type": "code",
      "source": [
        "df = df.drop(['preferedordercat'], axis = 1)"
      ],
      "metadata": {
        "id": "j8jYl1NZVhdj"
      },
      "execution_count": 248,
      "outputs": []
    },
    {
      "cell_type": "markdown",
      "metadata": {
        "id": "hCif0_YGoBiw"
      },
      "source": [
        "**Split the train and test data**"
      ]
    },
    {
      "cell_type": "code",
      "metadata": {
        "id": "Db5V-6K9Aqau"
      },
      "source": [
        "X = df.drop('churn', axis = 1) "
      ],
      "execution_count": 249,
      "outputs": []
    },
    {
      "cell_type": "code",
      "metadata": {
        "id": "YVAA05vTnjL9"
      },
      "source": [
        "y = df['churn']"
      ],
      "execution_count": 250,
      "outputs": []
    },
    {
      "cell_type": "markdown",
      "source": [
        "To divide X and y into the train and test datasets we need to train the model we will use the train_test_split( ) function from scikit-learn. We will assign 30% of the data to the test groups using the argument test_size = 0.3, and we will use the stratify = y option to ensure the target variable is present in the test and train data in equal proportions. The random_state = 42 argument means we get reproducible results each time we run the code, rather than a random mix, which may give us different results."
      ],
      "metadata": {
        "id": "jjvHrn1w2A4k"
      }
    },
    {
      "cell_type": "code",
      "metadata": {
        "id": "onwsmsYdCoh0"
      },
      "source": [
        "from sklearn.model_selection import train_test_split"
      ],
      "execution_count": 251,
      "outputs": []
    },
    {
      "cell_type": "code",
      "metadata": {
        "id": "-LrXeaAmCHXj"
      },
      "source": [
        "# Isolate X and y variables, and perform train-test split\n",
        "X_train, X_test, y_train, y_test = train_test_split(X, y, test_size = 0.3, random_state = 42, stratify = y)"
      ],
      "execution_count": 252,
      "outputs": []
    },
    {
      "cell_type": "markdown",
      "source": [
        "**Create a model pipeline**"
      ],
      "metadata": {
        "id": "TatYScbcxOVn"
      }
    },
    {
      "cell_type": "markdown",
      "source": [
        "Next, we will create a model pipeline. This will handle the encoding of our data using the ColumnTransformer( ) feature. This also scales the data before we pass it to the model.\n",
        "\n",
        "I have used the SMOTEENN to better handle class imbalance."
      ],
      "metadata": {
        "id": "Zj_Zo1RvRdcs"
      }
    },
    {
      "cell_type": "code",
      "source": [
        "import time\n",
        "from sklearn.pipeline import Pipeline\n",
        "from sklearn.compose import ColumnTransformer\n",
        "from sklearn.impute import SimpleImputer\n",
        "from sklearn.preprocessing import OneHotEncoder\n",
        "\n",
        "from imblearn.pipeline import Pipeline as imbpipeline\n",
        "from imblearn.combine import SMOTEENN\n",
        "from sklearn.preprocessing import RobustScaler\n",
        "from sklearn.model_selection import cross_val_score\n",
        "from sklearn.metrics import roc_auc_score"
      ],
      "metadata": {
        "id": "41hl-QKjFvEp"
      },
      "execution_count": 253,
      "outputs": []
    },
    {
      "cell_type": "code",
      "source": [
        "def get_pipeline(X, model):\n",
        "\n",
        "    numeric_columns = list(X.select_dtypes(exclude = ['object']).columns.values.tolist())    \n",
        "    categorical_columns = list(X.select_dtypes(include = ['object']).columns.values.tolist())\n",
        "    numeric_pipeline = SimpleImputer(strategy = 'median')\n",
        "    categorical_pipeline = OneHotEncoder(drop = 'if_binary', sparse = False, handle_unknown = 'ignore')\n",
        "    \n",
        "    preprocessor = ColumnTransformer(transformers = [('numeric', numeric_pipeline, numeric_columns), ('categorical', categorical_pipeline, categorical_columns)], remainder = 'passthrough')\n",
        "\n",
        "    bundled_pipeline = imbpipeline(steps = [('preprocessor', preprocessor),\n",
        "                                            ('smote', SMOTEENN(random_state = 42)),\n",
        "                                            ('scaler', RobustScaler()),\n",
        "                                            ('model', model)])\n",
        "    return bundled_pipeline"
      ],
      "metadata": {
        "id": "Q_PCjzY_Fu2y"
      },
      "execution_count": 254,
      "outputs": []
    },
    {
      "cell_type": "markdown",
      "source": [
        "**Select the best model**"
      ],
      "metadata": {
        "id": "6GcVc1Rpx1Kp"
      }
    },
    {
      "cell_type": "markdown",
      "source": [
        "Rather than simply selecting a single model, or repeating our code manually on a range of models, we can create another function to automatically test a wide range of possible models to determine the best one for our needs. To do this we first create a dictionary containing some a selection of base classifiers, including XGBoost, Random Forest, Decision Tree, SVC, and a Bernoulli Naive Bayes among others.\n",
        "\n",
        "We will create a Pandas dataframe into which we will store the data. Then we will loop over each of the models, fit it using the X_train and y_train data, then generate predictions from X_test and calculate the mean ROC/AUC score from 10 rounds of cross-validation. That will give us the ROC/AUC score for the X_test data, plus the average ROC/AUC score for the training data set."
      ],
      "metadata": {
        "id": "V7Gb30iAzqUo"
      }
    },
    {
      "cell_type": "code",
      "source": [
        "from sklearn.dummy import DummyClassifier\n",
        "from sklearn.neighbors import KNeighborsClassifier\n",
        "from catboost import CatBoostClassifier\n",
        "from sklearn.tree import DecisionTreeClassifier\n",
        "from lightgbm import LGBMClassifier\n",
        "from sklearn.linear_model import SGDClassifier\n",
        "from sklearn.ensemble import RandomForestClassifier, ExtraTreesClassifier, GradientBoostingClassifier\n",
        "from sklearn.ensemble import BaggingClassifier, AdaBoostClassifier, HistGradientBoostingClassifier\n",
        "from xgboost import XGBClassifier, XGBRFClassifier\n",
        "from sklearn.svm import SVC\n",
        "from sklearn.naive_bayes import BernoulliNB"
      ],
      "metadata": {
        "id": "Zi1Vm0BsFvPr"
      },
      "execution_count": 255,
      "outputs": []
    },
    {
      "cell_type": "code",
      "source": [
        "def select_model(X, y, pipeline = None):\n",
        "\n",
        "  classifiers = {}\n",
        "  classifiers.update({'DummyClassifier': DummyClassifier(strategy = 'most_frequent', random_state = 42)})\n",
        "  classifiers.update({'XGBClassifier': XGBClassifier(random_state = 42)})\n",
        "  classifiers.update({'XGBRFClassifier': XGBRFClassifier(random_state = 42)})\n",
        "  classifiers.update({'LGBMClassifier': LGBMClassifier(random_state = 42)})\n",
        "  classifiers.update({'RandomForestClassifier': RandomForestClassifier(random_state = 42)})\n",
        "  classifiers.update({'DecisionTreeClassifier': DecisionTreeClassifier(random_state = 42)})\n",
        "  classifiers.update({'ExtraTreeClassifier': ExtraTreesClassifier(random_state = 42)})\n",
        "  classifiers.update({'GradientBoostingClassifier': GradientBoostingClassifier(random_state = 42)})    \n",
        "  classifiers.update({'BaggingClassifier': BaggingClassifier(random_state = 42)})\n",
        "  classifiers.update({'AdaBoostClassifier': AdaBoostClassifier(random_state = 42)})\n",
        "  classifiers.update({'HistGradientBoostingClassifier': HistGradientBoostingClassifier(random_state = 42)})\n",
        "  classifiers.update({'KNeighborsClassifier': KNeighborsClassifier()})\n",
        "  classifiers.update({'SGDClassifier': SGDClassifier(random_state = 42)})\n",
        "  classifiers.update({'BaggingClassifier': BaggingClassifier(random_state = 42)})\n",
        "  classifiers.update({'BernoulliNB': BernoulliNB()})\n",
        "  classifiers.update({'SVC': SVC(random_state = 42)})\n",
        "  classifiers.update({'CatBoostClassifier': CatBoostClassifier(silent = True, random_state = 42)})\n",
        "\n",
        "  df_models = pd.DataFrame(columns = ['model', 'run_time', 'roc_auc_cv', 'roc_auc'])\n",
        "\n",
        "  for key in classifiers:\n",
        "\n",
        "      print('*', key)\n",
        "\n",
        "      start_time = time.time()\n",
        "      \n",
        "      pipeline = get_pipeline(X_train, classifiers[key])\n",
        "\n",
        "      cv = cross_val_score(pipeline, X, y, cv = 10, scoring = 'roc_auc', n_jobs = -1)\n",
        "\n",
        "      pipeline.fit(X_train, y_train)\n",
        "      y_pred = pipeline.predict(X_test)\n",
        "\n",
        "      row = {'model': key,\n",
        "             'run_time': format(round((time.time() - start_time) / 60, 2)),\n",
        "             'roc_auc_cv': cv.mean(),\n",
        "             'roc_auc': roc_auc_score(y_test, y_pred)}\n",
        "\n",
        "      df_models = df_models.append(row, ignore_index = True)\n",
        "\n",
        "  df_models = df_models.sort_values(by = 'roc_auc', ascending = False)\n",
        "      \n",
        "  return df_models"
      ],
      "metadata": {
        "id": "tPxOY4toFuqR"
      },
      "execution_count": 256,
      "outputs": []
    },
    {
      "cell_type": "code",
      "source": [
        "models = select_model(X_train, y_train)"
      ],
      "metadata": {
        "colab": {
          "base_uri": "https://localhost:8080/"
        },
        "id": "ZhysNV4NTjMa",
        "outputId": "39f5ca7b-1aa2-4b8a-e32f-4c569132bf28"
      },
      "execution_count": 257,
      "outputs": [
        {
          "output_type": "stream",
          "name": "stdout",
          "text": [
            "* DummyClassifier\n",
            "* XGBClassifier\n",
            "* XGBRFClassifier\n",
            "* LGBMClassifier\n",
            "* RandomForestClassifier\n",
            "* DecisionTreeClassifier\n",
            "* ExtraTreeClassifier\n",
            "* GradientBoostingClassifier\n",
            "* BaggingClassifier\n",
            "* AdaBoostClassifier\n",
            "* HistGradientBoostingClassifier\n",
            "* KNeighborsClassifier\n",
            "* SGDClassifier\n",
            "* BernoulliNB\n",
            "* SVC\n",
            "* CatBoostClassifier\n"
          ]
        }
      ]
    },
    {
      "cell_type": "code",
      "source": [
        "models.head(10)"
      ],
      "metadata": {
        "id": "t0rN3bl1rBt1",
        "colab": {
          "base_uri": "https://localhost:8080/",
          "height": 359
        },
        "outputId": "f85da29f-6241-4534-966e-d2b4409ced14"
      },
      "execution_count": 258,
      "outputs": [
        {
          "output_type": "execute_result",
          "data": {
            "text/plain": [
              "                             model run_time  roc_auc_cv   roc_auc\n",
              "3                   LGBMClassifier     0.23    0.945850  0.919687\n",
              "10  HistGradientBoostingClassifier     0.25    0.945575  0.913675\n",
              "15              CatBoostClassifier     2.44    0.948809  0.909086\n",
              "6              ExtraTreeClassifier      0.2    0.962005  0.887379\n",
              "4           RandomForestClassifier     0.23    0.947882  0.883015\n",
              "14                             SVC     0.25    0.897191  0.847315\n",
              "5           DecisionTreeClassifier     0.13    0.835060  0.846585\n",
              "8                BaggingClassifier     0.16    0.923426  0.844582\n",
              "7       GradientBoostingClassifier     0.35    0.912237  0.841603\n",
              "1                    XGBClassifier     0.21    0.910707  0.829673"
            ],
            "text/html": [
              "\n",
              "  <div id=\"df-4c2cc862-f2f5-49e0-a970-59e37a562909\">\n",
              "    <div class=\"colab-df-container\">\n",
              "      <div>\n",
              "<style scoped>\n",
              "    .dataframe tbody tr th:only-of-type {\n",
              "        vertical-align: middle;\n",
              "    }\n",
              "\n",
              "    .dataframe tbody tr th {\n",
              "        vertical-align: top;\n",
              "    }\n",
              "\n",
              "    .dataframe thead th {\n",
              "        text-align: right;\n",
              "    }\n",
              "</style>\n",
              "<table border=\"1\" class=\"dataframe\">\n",
              "  <thead>\n",
              "    <tr style=\"text-align: right;\">\n",
              "      <th></th>\n",
              "      <th>model</th>\n",
              "      <th>run_time</th>\n",
              "      <th>roc_auc_cv</th>\n",
              "      <th>roc_auc</th>\n",
              "    </tr>\n",
              "  </thead>\n",
              "  <tbody>\n",
              "    <tr>\n",
              "      <th>3</th>\n",
              "      <td>LGBMClassifier</td>\n",
              "      <td>0.23</td>\n",
              "      <td>0.945850</td>\n",
              "      <td>0.919687</td>\n",
              "    </tr>\n",
              "    <tr>\n",
              "      <th>10</th>\n",
              "      <td>HistGradientBoostingClassifier</td>\n",
              "      <td>0.25</td>\n",
              "      <td>0.945575</td>\n",
              "      <td>0.913675</td>\n",
              "    </tr>\n",
              "    <tr>\n",
              "      <th>15</th>\n",
              "      <td>CatBoostClassifier</td>\n",
              "      <td>2.44</td>\n",
              "      <td>0.948809</td>\n",
              "      <td>0.909086</td>\n",
              "    </tr>\n",
              "    <tr>\n",
              "      <th>6</th>\n",
              "      <td>ExtraTreeClassifier</td>\n",
              "      <td>0.2</td>\n",
              "      <td>0.962005</td>\n",
              "      <td>0.887379</td>\n",
              "    </tr>\n",
              "    <tr>\n",
              "      <th>4</th>\n",
              "      <td>RandomForestClassifier</td>\n",
              "      <td>0.23</td>\n",
              "      <td>0.947882</td>\n",
              "      <td>0.883015</td>\n",
              "    </tr>\n",
              "    <tr>\n",
              "      <th>14</th>\n",
              "      <td>SVC</td>\n",
              "      <td>0.25</td>\n",
              "      <td>0.897191</td>\n",
              "      <td>0.847315</td>\n",
              "    </tr>\n",
              "    <tr>\n",
              "      <th>5</th>\n",
              "      <td>DecisionTreeClassifier</td>\n",
              "      <td>0.13</td>\n",
              "      <td>0.835060</td>\n",
              "      <td>0.846585</td>\n",
              "    </tr>\n",
              "    <tr>\n",
              "      <th>8</th>\n",
              "      <td>BaggingClassifier</td>\n",
              "      <td>0.16</td>\n",
              "      <td>0.923426</td>\n",
              "      <td>0.844582</td>\n",
              "    </tr>\n",
              "    <tr>\n",
              "      <th>7</th>\n",
              "      <td>GradientBoostingClassifier</td>\n",
              "      <td>0.35</td>\n",
              "      <td>0.912237</td>\n",
              "      <td>0.841603</td>\n",
              "    </tr>\n",
              "    <tr>\n",
              "      <th>1</th>\n",
              "      <td>XGBClassifier</td>\n",
              "      <td>0.21</td>\n",
              "      <td>0.910707</td>\n",
              "      <td>0.829673</td>\n",
              "    </tr>\n",
              "  </tbody>\n",
              "</table>\n",
              "</div>\n",
              "      <button class=\"colab-df-convert\" onclick=\"convertToInteractive('df-4c2cc862-f2f5-49e0-a970-59e37a562909')\"\n",
              "              title=\"Convert this dataframe to an interactive table.\"\n",
              "              style=\"display:none;\">\n",
              "        \n",
              "  <svg xmlns=\"http://www.w3.org/2000/svg\" height=\"24px\"viewBox=\"0 0 24 24\"\n",
              "       width=\"24px\">\n",
              "    <path d=\"M0 0h24v24H0V0z\" fill=\"none\"/>\n",
              "    <path d=\"M18.56 5.44l.94 2.06.94-2.06 2.06-.94-2.06-.94-.94-2.06-.94 2.06-2.06.94zm-11 1L8.5 8.5l.94-2.06 2.06-.94-2.06-.94L8.5 2.5l-.94 2.06-2.06.94zm10 10l.94 2.06.94-2.06 2.06-.94-2.06-.94-.94-2.06-.94 2.06-2.06.94z\"/><path d=\"M17.41 7.96l-1.37-1.37c-.4-.4-.92-.59-1.43-.59-.52 0-1.04.2-1.43.59L10.3 9.45l-7.72 7.72c-.78.78-.78 2.05 0 2.83L4 21.41c.39.39.9.59 1.41.59.51 0 1.02-.2 1.41-.59l7.78-7.78 2.81-2.81c.8-.78.8-2.07 0-2.86zM5.41 20L4 18.59l7.72-7.72 1.47 1.35L5.41 20z\"/>\n",
              "  </svg>\n",
              "      </button>\n",
              "      \n",
              "  <style>\n",
              "    .colab-df-container {\n",
              "      display:flex;\n",
              "      flex-wrap:wrap;\n",
              "      gap: 12px;\n",
              "    }\n",
              "\n",
              "    .colab-df-convert {\n",
              "      background-color: #E8F0FE;\n",
              "      border: none;\n",
              "      border-radius: 50%;\n",
              "      cursor: pointer;\n",
              "      display: none;\n",
              "      fill: #1967D2;\n",
              "      height: 32px;\n",
              "      padding: 0 0 0 0;\n",
              "      width: 32px;\n",
              "    }\n",
              "\n",
              "    .colab-df-convert:hover {\n",
              "      background-color: #E2EBFA;\n",
              "      box-shadow: 0px 1px 2px rgba(60, 64, 67, 0.3), 0px 1px 3px 1px rgba(60, 64, 67, 0.15);\n",
              "      fill: #174EA6;\n",
              "    }\n",
              "\n",
              "    [theme=dark] .colab-df-convert {\n",
              "      background-color: #3B4455;\n",
              "      fill: #D2E3FC;\n",
              "    }\n",
              "\n",
              "    [theme=dark] .colab-df-convert:hover {\n",
              "      background-color: #434B5C;\n",
              "      box-shadow: 0px 1px 3px 1px rgba(0, 0, 0, 0.15);\n",
              "      filter: drop-shadow(0px 1px 2px rgba(0, 0, 0, 0.3));\n",
              "      fill: #FFFFFF;\n",
              "    }\n",
              "  </style>\n",
              "\n",
              "      <script>\n",
              "        const buttonEl =\n",
              "          document.querySelector('#df-4c2cc862-f2f5-49e0-a970-59e37a562909 button.colab-df-convert');\n",
              "        buttonEl.style.display =\n",
              "          google.colab.kernel.accessAllowed ? 'block' : 'none';\n",
              "\n",
              "        async function convertToInteractive(key) {\n",
              "          const element = document.querySelector('#df-4c2cc862-f2f5-49e0-a970-59e37a562909');\n",
              "          const dataTable =\n",
              "            await google.colab.kernel.invokeFunction('convertToInteractive',\n",
              "                                                     [key], {});\n",
              "          if (!dataTable) return;\n",
              "\n",
              "          const docLinkHtml = 'Like what you see? Visit the ' +\n",
              "            '<a target=\"_blank\" href=https://colab.research.google.com/notebooks/data_table.ipynb>data table notebook</a>'\n",
              "            + ' to learn more about interactive tables.';\n",
              "          element.innerHTML = '';\n",
              "          dataTable['output_type'] = 'display_data';\n",
              "          await google.colab.output.renderOutput(dataTable, element);\n",
              "          const docLink = document.createElement('div');\n",
              "          docLink.innerHTML = docLinkHtml;\n",
              "          element.appendChild(docLink);\n",
              "        }\n",
              "      </script>\n",
              "    </div>\n",
              "  </div>\n",
              "  "
            ]
          },
          "metadata": {},
          "execution_count": 258
        }
      ]
    },
    {
      "cell_type": "markdown",
      "source": [
        "**Assessing performance**"
      ],
      "metadata": {
        "id": "fSOjnMahD8hk"
      }
    },
    {
      "cell_type": "markdown",
      "source": [
        "When it comes to assessing models, there’s more to it than simply picking the one with the best score. It’s where the model that goes wrong that often matters."
      ],
      "metadata": {
        "id": "IhFpQB9R3FLz"
      }
    },
    {
      "cell_type": "code",
      "source": [
        "from sklearn.metrics import precision_score\n",
        "from sklearn.metrics import recall_score"
      ],
      "metadata": {
        "id": "fQX76Fkf7wMO"
      },
      "execution_count": 259,
      "outputs": []
    },
    {
      "cell_type": "code",
      "source": [
        "classifiers = {'LGBMClassifier': LGBMClassifier(random_state = 42), \n",
        "               'HistGradientBoostingClassifier': HistGradientBoostingClassifier(random_state = 42)}\n",
        "\n",
        "df_models = pd.DataFrame(columns = ['model', 'precision', 'recall', 'roc_auc'])\n",
        "\n",
        "for key in classifiers:\n",
        "\n",
        "    print('*', key)\n",
        "      \n",
        "    pipeline = get_pipeline(X_train, classifiers[key])\n",
        "    pipeline.fit(X_train, y_train)\n",
        "    y_pred = pipeline.predict(X_test)\n",
        "\n",
        "    roc_auc = roc_auc_score(y_test, y_pred)\n",
        "    precision = precision_score(y_test, y_pred)\n",
        "    recall = recall_score(y_test, y_pred)\n",
        "\n",
        "    row = {'model': key,\n",
        "           'precision': round(precision, 2),\n",
        "           'recall': round(recall, 2),\n",
        "           'roc_auc': round(roc_auc, 2)}\n",
        "\n",
        "    df_models = df_models.append(row, ignore_index = True)"
      ],
      "metadata": {
        "id": "WaSyh7I63Ria",
        "colab": {
          "base_uri": "https://localhost:8080/"
        },
        "outputId": "eed75749-4f7f-44e9-c688-11c8e0316d77"
      },
      "execution_count": 260,
      "outputs": [
        {
          "output_type": "stream",
          "name": "stdout",
          "text": [
            "* LGBMClassifier\n",
            "* HistGradientBoostingClassifier\n"
          ]
        }
      ]
    },
    {
      "cell_type": "code",
      "source": [
        "df_models.sort_values(by = 'roc_auc', ascending = False).head()"
      ],
      "metadata": {
        "id": "nx_vVO3r-Hby",
        "colab": {
          "base_uri": "https://localhost:8080/",
          "height": 111
        },
        "outputId": "93eec79f-3518-495f-93f4-f28779cbf288"
      },
      "execution_count": 261,
      "outputs": [
        {
          "output_type": "execute_result",
          "data": {
            "text/plain": [
              "                            model  precision  recall  roc_auc\n",
              "0                  LGBMClassifier       0.72    0.91     0.92\n",
              "1  HistGradientBoostingClassifier       0.70    0.90     0.91"
            ],
            "text/html": [
              "\n",
              "  <div id=\"df-5c398911-4ef6-4029-844d-5303a94890b8\">\n",
              "    <div class=\"colab-df-container\">\n",
              "      <div>\n",
              "<style scoped>\n",
              "    .dataframe tbody tr th:only-of-type {\n",
              "        vertical-align: middle;\n",
              "    }\n",
              "\n",
              "    .dataframe tbody tr th {\n",
              "        vertical-align: top;\n",
              "    }\n",
              "\n",
              "    .dataframe thead th {\n",
              "        text-align: right;\n",
              "    }\n",
              "</style>\n",
              "<table border=\"1\" class=\"dataframe\">\n",
              "  <thead>\n",
              "    <tr style=\"text-align: right;\">\n",
              "      <th></th>\n",
              "      <th>model</th>\n",
              "      <th>precision</th>\n",
              "      <th>recall</th>\n",
              "      <th>roc_auc</th>\n",
              "    </tr>\n",
              "  </thead>\n",
              "  <tbody>\n",
              "    <tr>\n",
              "      <th>0</th>\n",
              "      <td>LGBMClassifier</td>\n",
              "      <td>0.72</td>\n",
              "      <td>0.91</td>\n",
              "      <td>0.92</td>\n",
              "    </tr>\n",
              "    <tr>\n",
              "      <th>1</th>\n",
              "      <td>HistGradientBoostingClassifier</td>\n",
              "      <td>0.70</td>\n",
              "      <td>0.90</td>\n",
              "      <td>0.91</td>\n",
              "    </tr>\n",
              "  </tbody>\n",
              "</table>\n",
              "</div>\n",
              "      <button class=\"colab-df-convert\" onclick=\"convertToInteractive('df-5c398911-4ef6-4029-844d-5303a94890b8')\"\n",
              "              title=\"Convert this dataframe to an interactive table.\"\n",
              "              style=\"display:none;\">\n",
              "        \n",
              "  <svg xmlns=\"http://www.w3.org/2000/svg\" height=\"24px\"viewBox=\"0 0 24 24\"\n",
              "       width=\"24px\">\n",
              "    <path d=\"M0 0h24v24H0V0z\" fill=\"none\"/>\n",
              "    <path d=\"M18.56 5.44l.94 2.06.94-2.06 2.06-.94-2.06-.94-.94-2.06-.94 2.06-2.06.94zm-11 1L8.5 8.5l.94-2.06 2.06-.94-2.06-.94L8.5 2.5l-.94 2.06-2.06.94zm10 10l.94 2.06.94-2.06 2.06-.94-2.06-.94-.94-2.06-.94 2.06-2.06.94z\"/><path d=\"M17.41 7.96l-1.37-1.37c-.4-.4-.92-.59-1.43-.59-.52 0-1.04.2-1.43.59L10.3 9.45l-7.72 7.72c-.78.78-.78 2.05 0 2.83L4 21.41c.39.39.9.59 1.41.59.51 0 1.02-.2 1.41-.59l7.78-7.78 2.81-2.81c.8-.78.8-2.07 0-2.86zM5.41 20L4 18.59l7.72-7.72 1.47 1.35L5.41 20z\"/>\n",
              "  </svg>\n",
              "      </button>\n",
              "      \n",
              "  <style>\n",
              "    .colab-df-container {\n",
              "      display:flex;\n",
              "      flex-wrap:wrap;\n",
              "      gap: 12px;\n",
              "    }\n",
              "\n",
              "    .colab-df-convert {\n",
              "      background-color: #E8F0FE;\n",
              "      border: none;\n",
              "      border-radius: 50%;\n",
              "      cursor: pointer;\n",
              "      display: none;\n",
              "      fill: #1967D2;\n",
              "      height: 32px;\n",
              "      padding: 0 0 0 0;\n",
              "      width: 32px;\n",
              "    }\n",
              "\n",
              "    .colab-df-convert:hover {\n",
              "      background-color: #E2EBFA;\n",
              "      box-shadow: 0px 1px 2px rgba(60, 64, 67, 0.3), 0px 1px 3px 1px rgba(60, 64, 67, 0.15);\n",
              "      fill: #174EA6;\n",
              "    }\n",
              "\n",
              "    [theme=dark] .colab-df-convert {\n",
              "      background-color: #3B4455;\n",
              "      fill: #D2E3FC;\n",
              "    }\n",
              "\n",
              "    [theme=dark] .colab-df-convert:hover {\n",
              "      background-color: #434B5C;\n",
              "      box-shadow: 0px 1px 3px 1px rgba(0, 0, 0, 0.15);\n",
              "      filter: drop-shadow(0px 1px 2px rgba(0, 0, 0, 0.3));\n",
              "      fill: #FFFFFF;\n",
              "    }\n",
              "  </style>\n",
              "\n",
              "      <script>\n",
              "        const buttonEl =\n",
              "          document.querySelector('#df-5c398911-4ef6-4029-844d-5303a94890b8 button.colab-df-convert');\n",
              "        buttonEl.style.display =\n",
              "          google.colab.kernel.accessAllowed ? 'block' : 'none';\n",
              "\n",
              "        async function convertToInteractive(key) {\n",
              "          const element = document.querySelector('#df-5c398911-4ef6-4029-844d-5303a94890b8');\n",
              "          const dataTable =\n",
              "            await google.colab.kernel.invokeFunction('convertToInteractive',\n",
              "                                                     [key], {});\n",
              "          if (!dataTable) return;\n",
              "\n",
              "          const docLinkHtml = 'Like what you see? Visit the ' +\n",
              "            '<a target=\"_blank\" href=https://colab.research.google.com/notebooks/data_table.ipynb>data table notebook</a>'\n",
              "            + ' to learn more about interactive tables.';\n",
              "          element.innerHTML = '';\n",
              "          dataTable['output_type'] = 'display_data';\n",
              "          await google.colab.output.renderOutput(dataTable, element);\n",
              "          const docLink = document.createElement('div');\n",
              "          docLink.innerHTML = docLinkHtml;\n",
              "          element.appendChild(docLink);\n",
              "        }\n",
              "      </script>\n",
              "    </div>\n",
              "  </div>\n",
              "  "
            ]
          },
          "metadata": {},
          "execution_count": 261
        }
      ]
    },
    {
      "cell_type": "markdown",
      "source": [
        "**Fit the best model**"
      ],
      "metadata": {
        "id": "OTKLBmf7EJOk"
      }
    },
    {
      "cell_type": "markdown",
      "source": [
        "Finally, we can take our best model - the LGBMClassifier - and fit the data on this. To do this step, we will first define our selected model, then we will pass its configuration to get_pipeline( ) with our training data. Then, we will fit( ) the training data and use predict( ) to return our predictions from the newly trained model."
      ],
      "metadata": {
        "id": "3BnfFLdYGqQD"
      }
    },
    {
      "cell_type": "code",
      "source": [
        "selected_model = LGBMClassifier(random_state = 42)\n",
        "bundled_pipeline = get_pipeline(X_train, selected_model)\n",
        "bundled_pipeline.fit(X_train, y_train)\n",
        "y_pred = bundled_pipeline.predict(X_test)"
      ],
      "metadata": {
        "id": "DvE_mGcyGxFh"
      },
      "execution_count": 262,
      "outputs": []
    },
    {
      "cell_type": "markdown",
      "source": [
        "**Examine the predictions**"
      ],
      "metadata": {
        "id": "gt8crs94EZ0K"
      }
    },
    {
      "cell_type": "markdown",
      "source": [
        "To examine how well the model performed in a little more detail we can make use of the classification_report( ). The classification report shows us the precision, recall, and F1 score for our predictions.\n",
        "\n",
        "\n"
      ],
      "metadata": {
        "id": "8QprSBTJ0L9h"
      }
    },
    {
      "cell_type": "code",
      "source": [
        "from sklearn.metrics import classification_report"
      ],
      "metadata": {
        "id": "zDDzHrZsMbE7"
      },
      "execution_count": 263,
      "outputs": []
    },
    {
      "cell_type": "code",
      "source": [
        "print(classification_report(y_test, y_pred))"
      ],
      "metadata": {
        "id": "_dft5BBCGXMX",
        "colab": {
          "base_uri": "https://localhost:8080/"
        },
        "outputId": "989abb73-f343-4aa1-f54b-ce83ddf884d7"
      },
      "execution_count": 264,
      "outputs": [
        {
          "output_type": "stream",
          "name": "stdout",
          "text": [
            "              precision    recall  f1-score   support\n",
            "\n",
            "           0       0.98      0.93      0.95      1405\n",
            "           1       0.72      0.91      0.80       284\n",
            "\n",
            "    accuracy                           0.92      1689\n",
            "   macro avg       0.85      0.92      0.88      1689\n",
            "weighted avg       0.94      0.92      0.93      1689\n",
            "\n"
          ]
        }
      ]
    },
    {
      "cell_type": "markdown",
      "source": [
        "Let’s unpack those results a little bit…"
      ],
      "metadata": {
        "id": "jvsr4ZGhG5MK"
      }
    },
    {
      "cell_type": "markdown",
      "source": [
        "**Recall**\n"
      ],
      "metadata": {
        "id": "Zsf5Dhl2FCeL"
      }
    },
    {
      "cell_type": "markdown",
      "source": [
        "A churn class recall of 0.91 means that the model was able to catch 91% of the actual churn cases. This is the measure we really care about, because we want to miss as few of the true churn cases as possible."
      ],
      "metadata": {
        "id": "1emBwbX6FLOj"
      }
    },
    {
      "cell_type": "markdown",
      "source": [
        "**Precision**"
      ],
      "metadata": {
        "id": "DfBdfva6FPAH"
      }
    },
    {
      "cell_type": "markdown",
      "source": [
        "Precision of the churn class measures how often the model catches an actual churn case, while also factoring in how often it misclassifies a non-churn case as a churn case. In this case, a churn precision of 0.72 is not a problem because there are no significant consequences of identifying a customer as a churn risk when she isn’t."
      ],
      "metadata": {
        "id": "5-3PXvabE9tp"
      }
    },
    {
      "cell_type": "markdown",
      "source": [
        "**F1 score**"
      ],
      "metadata": {
        "id": "V-D6qcB8GAm6"
      }
    },
    {
      "cell_type": "markdown",
      "source": [
        "The F1 score is the harmonic mean of precision and recall. It helps give us a balanced idea of how the model is performing on the churn class. In this case a churn class F1 score of 0.80 is pretty good. "
      ],
      "metadata": {
        "id": "Ee8KtFISFwUG"
      }
    }
  ]
}